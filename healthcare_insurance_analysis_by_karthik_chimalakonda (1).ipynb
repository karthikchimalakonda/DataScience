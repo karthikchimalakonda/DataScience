{
  "nbformat": 4,
  "nbformat_minor": 0,
  "metadata": {
    "colab": {
      "provenance": []
    },
    "kernelspec": {
      "name": "python3",
      "display_name": "Python 3"
    },
    "language_info": {
      "name": "python"
    }
  },
  "cells": [
    {
      "cell_type": "markdown",
      "source": [
        "#**Data science/data analysis**"
      ],
      "metadata": {
        "id": "gpSyrWq5m69z"
      }
    },
    {
      "cell_type": "markdown",
      "source": [
        "# # Health care insurance analysis\n",
        "#Job Readiness project_1"
      ],
      "metadata": {
        "id": "XAIILbEsbPta"
      }
    },
    {
      "cell_type": "code",
      "execution_count": 124,
      "metadata": {
        "id": "rStiFQt7a4SN"
      },
      "outputs": [],
      "source": [
        "#import the libraries\n",
        "import pandas as pd\n",
        "import numpy as np\n",
        "import matplotlib.pyplot as plt\n",
        "import seaborn as sns\n",
        "%matplotlib inline\n",
        "import warnings\n",
        "warnings.filterwarnings(\"ignore\")"
      ]
    },
    {
      "cell_type": "code",
      "source": [
        "#import the datasets\n",
        "hospitalisation_details = pd.read_csv(\"/content/Hospitalisation details.csv\")\n",
        "medical_details = pd.read_csv(\"/content/Medical Examinations.csv\")\n",
        "customer_name = pd.read_excel(\"/content/Names.xlsx\")"
      ],
      "metadata": {
        "id": "I7xzx6Tibuwr"
      },
      "execution_count": 125,
      "outputs": []
    },
    {
      "cell_type": "code",
      "source": [
        "hospitalisation_details.head()"
      ],
      "metadata": {
        "colab": {
          "base_uri": "https://localhost:8080/",
          "height": 206
        },
        "id": "prFdmEqhcRxR",
        "outputId": "07d34c22-81fc-4add-e3d9-dc073081ddb4"
      },
      "execution_count": 126,
      "outputs": [
        {
          "output_type": "execute_result",
          "data": {
            "text/plain": [
              "  Customer ID  year month  date  children  charges Hospital tier City tier  \\\n",
              "0      Id2335  1992   Jul     9         0   563.84      tier - 2  tier - 3   \n",
              "1      Id2334  1992   Nov    30         0   570.62      tier - 2  tier - 1   \n",
              "2      Id2333  1993   Jun    30         0   600.00      tier - 2  tier - 1   \n",
              "3      Id2332  1992   Sep    13         0   604.54      tier - 3  tier - 3   \n",
              "4      Id2331  1998   Jul    27         0   637.26      tier - 3  tier - 3   \n",
              "\n",
              "  State ID  \n",
              "0    R1013  \n",
              "1    R1013  \n",
              "2    R1013  \n",
              "3    R1013  \n",
              "4    R1013  "
            ],
            "text/html": [
              "\n",
              "  <div id=\"df-7ed3777f-8e8d-40fe-95aa-03cefbf9cc05\">\n",
              "    <div class=\"colab-df-container\">\n",
              "      <div>\n",
              "<style scoped>\n",
              "    .dataframe tbody tr th:only-of-type {\n",
              "        vertical-align: middle;\n",
              "    }\n",
              "\n",
              "    .dataframe tbody tr th {\n",
              "        vertical-align: top;\n",
              "    }\n",
              "\n",
              "    .dataframe thead th {\n",
              "        text-align: right;\n",
              "    }\n",
              "</style>\n",
              "<table border=\"1\" class=\"dataframe\">\n",
              "  <thead>\n",
              "    <tr style=\"text-align: right;\">\n",
              "      <th></th>\n",
              "      <th>Customer ID</th>\n",
              "      <th>year</th>\n",
              "      <th>month</th>\n",
              "      <th>date</th>\n",
              "      <th>children</th>\n",
              "      <th>charges</th>\n",
              "      <th>Hospital tier</th>\n",
              "      <th>City tier</th>\n",
              "      <th>State ID</th>\n",
              "    </tr>\n",
              "  </thead>\n",
              "  <tbody>\n",
              "    <tr>\n",
              "      <th>0</th>\n",
              "      <td>Id2335</td>\n",
              "      <td>1992</td>\n",
              "      <td>Jul</td>\n",
              "      <td>9</td>\n",
              "      <td>0</td>\n",
              "      <td>563.84</td>\n",
              "      <td>tier - 2</td>\n",
              "      <td>tier - 3</td>\n",
              "      <td>R1013</td>\n",
              "    </tr>\n",
              "    <tr>\n",
              "      <th>1</th>\n",
              "      <td>Id2334</td>\n",
              "      <td>1992</td>\n",
              "      <td>Nov</td>\n",
              "      <td>30</td>\n",
              "      <td>0</td>\n",
              "      <td>570.62</td>\n",
              "      <td>tier - 2</td>\n",
              "      <td>tier - 1</td>\n",
              "      <td>R1013</td>\n",
              "    </tr>\n",
              "    <tr>\n",
              "      <th>2</th>\n",
              "      <td>Id2333</td>\n",
              "      <td>1993</td>\n",
              "      <td>Jun</td>\n",
              "      <td>30</td>\n",
              "      <td>0</td>\n",
              "      <td>600.00</td>\n",
              "      <td>tier - 2</td>\n",
              "      <td>tier - 1</td>\n",
              "      <td>R1013</td>\n",
              "    </tr>\n",
              "    <tr>\n",
              "      <th>3</th>\n",
              "      <td>Id2332</td>\n",
              "      <td>1992</td>\n",
              "      <td>Sep</td>\n",
              "      <td>13</td>\n",
              "      <td>0</td>\n",
              "      <td>604.54</td>\n",
              "      <td>tier - 3</td>\n",
              "      <td>tier - 3</td>\n",
              "      <td>R1013</td>\n",
              "    </tr>\n",
              "    <tr>\n",
              "      <th>4</th>\n",
              "      <td>Id2331</td>\n",
              "      <td>1998</td>\n",
              "      <td>Jul</td>\n",
              "      <td>27</td>\n",
              "      <td>0</td>\n",
              "      <td>637.26</td>\n",
              "      <td>tier - 3</td>\n",
              "      <td>tier - 3</td>\n",
              "      <td>R1013</td>\n",
              "    </tr>\n",
              "  </tbody>\n",
              "</table>\n",
              "</div>\n",
              "      <button class=\"colab-df-convert\" onclick=\"convertToInteractive('df-7ed3777f-8e8d-40fe-95aa-03cefbf9cc05')\"\n",
              "              title=\"Convert this dataframe to an interactive table.\"\n",
              "              style=\"display:none;\">\n",
              "        \n",
              "  <svg xmlns=\"http://www.w3.org/2000/svg\" height=\"24px\"viewBox=\"0 0 24 24\"\n",
              "       width=\"24px\">\n",
              "    <path d=\"M0 0h24v24H0V0z\" fill=\"none\"/>\n",
              "    <path d=\"M18.56 5.44l.94 2.06.94-2.06 2.06-.94-2.06-.94-.94-2.06-.94 2.06-2.06.94zm-11 1L8.5 8.5l.94-2.06 2.06-.94-2.06-.94L8.5 2.5l-.94 2.06-2.06.94zm10 10l.94 2.06.94-2.06 2.06-.94-2.06-.94-.94-2.06-.94 2.06-2.06.94z\"/><path d=\"M17.41 7.96l-1.37-1.37c-.4-.4-.92-.59-1.43-.59-.52 0-1.04.2-1.43.59L10.3 9.45l-7.72 7.72c-.78.78-.78 2.05 0 2.83L4 21.41c.39.39.9.59 1.41.59.51 0 1.02-.2 1.41-.59l7.78-7.78 2.81-2.81c.8-.78.8-2.07 0-2.86zM5.41 20L4 18.59l7.72-7.72 1.47 1.35L5.41 20z\"/>\n",
              "  </svg>\n",
              "      </button>\n",
              "      \n",
              "  <style>\n",
              "    .colab-df-container {\n",
              "      display:flex;\n",
              "      flex-wrap:wrap;\n",
              "      gap: 12px;\n",
              "    }\n",
              "\n",
              "    .colab-df-convert {\n",
              "      background-color: #E8F0FE;\n",
              "      border: none;\n",
              "      border-radius: 50%;\n",
              "      cursor: pointer;\n",
              "      display: none;\n",
              "      fill: #1967D2;\n",
              "      height: 32px;\n",
              "      padding: 0 0 0 0;\n",
              "      width: 32px;\n",
              "    }\n",
              "\n",
              "    .colab-df-convert:hover {\n",
              "      background-color: #E2EBFA;\n",
              "      box-shadow: 0px 1px 2px rgba(60, 64, 67, 0.3), 0px 1px 3px 1px rgba(60, 64, 67, 0.15);\n",
              "      fill: #174EA6;\n",
              "    }\n",
              "\n",
              "    [theme=dark] .colab-df-convert {\n",
              "      background-color: #3B4455;\n",
              "      fill: #D2E3FC;\n",
              "    }\n",
              "\n",
              "    [theme=dark] .colab-df-convert:hover {\n",
              "      background-color: #434B5C;\n",
              "      box-shadow: 0px 1px 3px 1px rgba(0, 0, 0, 0.15);\n",
              "      filter: drop-shadow(0px 1px 2px rgba(0, 0, 0, 0.3));\n",
              "      fill: #FFFFFF;\n",
              "    }\n",
              "  </style>\n",
              "\n",
              "      <script>\n",
              "        const buttonEl =\n",
              "          document.querySelector('#df-7ed3777f-8e8d-40fe-95aa-03cefbf9cc05 button.colab-df-convert');\n",
              "        buttonEl.style.display =\n",
              "          google.colab.kernel.accessAllowed ? 'block' : 'none';\n",
              "\n",
              "        async function convertToInteractive(key) {\n",
              "          const element = document.querySelector('#df-7ed3777f-8e8d-40fe-95aa-03cefbf9cc05');\n",
              "          const dataTable =\n",
              "            await google.colab.kernel.invokeFunction('convertToInteractive',\n",
              "                                                     [key], {});\n",
              "          if (!dataTable) return;\n",
              "\n",
              "          const docLinkHtml = 'Like what you see? Visit the ' +\n",
              "            '<a target=\"_blank\" href=https://colab.research.google.com/notebooks/data_table.ipynb>data table notebook</a>'\n",
              "            + ' to learn more about interactive tables.';\n",
              "          element.innerHTML = '';\n",
              "          dataTable['output_type'] = 'display_data';\n",
              "          await google.colab.output.renderOutput(dataTable, element);\n",
              "          const docLink = document.createElement('div');\n",
              "          docLink.innerHTML = docLinkHtml;\n",
              "          element.appendChild(docLink);\n",
              "        }\n",
              "      </script>\n",
              "    </div>\n",
              "  </div>\n",
              "  "
            ]
          },
          "metadata": {},
          "execution_count": 126
        }
      ]
    },
    {
      "cell_type": "code",
      "source": [
        "hospitalisation_details.shape"
      ],
      "metadata": {
        "colab": {
          "base_uri": "https://localhost:8080/"
        },
        "id": "a8Xl3RZCcaMh",
        "outputId": "1b5eb246-1105-4956-a3f3-30ddbb152054"
      },
      "execution_count": 127,
      "outputs": [
        {
          "output_type": "execute_result",
          "data": {
            "text/plain": [
              "(2343, 9)"
            ]
          },
          "metadata": {},
          "execution_count": 127
        }
      ]
    },
    {
      "cell_type": "code",
      "source": [
        "medical_details.head(5)"
      ],
      "metadata": {
        "colab": {
          "base_uri": "https://localhost:8080/",
          "height": 206
        },
        "id": "LfW115l0ccX9",
        "outputId": "0dab2c41-77bf-4608-c33f-8d6c197eac34"
      },
      "execution_count": 128,
      "outputs": [
        {
          "output_type": "execute_result",
          "data": {
            "text/plain": [
              "  Customer ID     BMI  HBA1C Heart Issues Any Transplants Cancer history  \\\n",
              "0         Id1  47.410   7.47           No              No             No   \n",
              "1         Id2  30.360   5.77           No              No             No   \n",
              "2         Id3  34.485  11.87          yes              No             No   \n",
              "3         Id4  38.095   6.05           No              No             No   \n",
              "4         Id5  35.530   5.45           No              No             No   \n",
              "\n",
              "  NumberOfMajorSurgeries smoker  \n",
              "0       No major surgery    yes  \n",
              "1       No major surgery    yes  \n",
              "2                      2    yes  \n",
              "3       No major surgery    yes  \n",
              "4       No major surgery    yes  "
            ],
            "text/html": [
              "\n",
              "  <div id=\"df-a273e8e2-b138-4ddf-b9f7-7af52969f186\">\n",
              "    <div class=\"colab-df-container\">\n",
              "      <div>\n",
              "<style scoped>\n",
              "    .dataframe tbody tr th:only-of-type {\n",
              "        vertical-align: middle;\n",
              "    }\n",
              "\n",
              "    .dataframe tbody tr th {\n",
              "        vertical-align: top;\n",
              "    }\n",
              "\n",
              "    .dataframe thead th {\n",
              "        text-align: right;\n",
              "    }\n",
              "</style>\n",
              "<table border=\"1\" class=\"dataframe\">\n",
              "  <thead>\n",
              "    <tr style=\"text-align: right;\">\n",
              "      <th></th>\n",
              "      <th>Customer ID</th>\n",
              "      <th>BMI</th>\n",
              "      <th>HBA1C</th>\n",
              "      <th>Heart Issues</th>\n",
              "      <th>Any Transplants</th>\n",
              "      <th>Cancer history</th>\n",
              "      <th>NumberOfMajorSurgeries</th>\n",
              "      <th>smoker</th>\n",
              "    </tr>\n",
              "  </thead>\n",
              "  <tbody>\n",
              "    <tr>\n",
              "      <th>0</th>\n",
              "      <td>Id1</td>\n",
              "      <td>47.410</td>\n",
              "      <td>7.47</td>\n",
              "      <td>No</td>\n",
              "      <td>No</td>\n",
              "      <td>No</td>\n",
              "      <td>No major surgery</td>\n",
              "      <td>yes</td>\n",
              "    </tr>\n",
              "    <tr>\n",
              "      <th>1</th>\n",
              "      <td>Id2</td>\n",
              "      <td>30.360</td>\n",
              "      <td>5.77</td>\n",
              "      <td>No</td>\n",
              "      <td>No</td>\n",
              "      <td>No</td>\n",
              "      <td>No major surgery</td>\n",
              "      <td>yes</td>\n",
              "    </tr>\n",
              "    <tr>\n",
              "      <th>2</th>\n",
              "      <td>Id3</td>\n",
              "      <td>34.485</td>\n",
              "      <td>11.87</td>\n",
              "      <td>yes</td>\n",
              "      <td>No</td>\n",
              "      <td>No</td>\n",
              "      <td>2</td>\n",
              "      <td>yes</td>\n",
              "    </tr>\n",
              "    <tr>\n",
              "      <th>3</th>\n",
              "      <td>Id4</td>\n",
              "      <td>38.095</td>\n",
              "      <td>6.05</td>\n",
              "      <td>No</td>\n",
              "      <td>No</td>\n",
              "      <td>No</td>\n",
              "      <td>No major surgery</td>\n",
              "      <td>yes</td>\n",
              "    </tr>\n",
              "    <tr>\n",
              "      <th>4</th>\n",
              "      <td>Id5</td>\n",
              "      <td>35.530</td>\n",
              "      <td>5.45</td>\n",
              "      <td>No</td>\n",
              "      <td>No</td>\n",
              "      <td>No</td>\n",
              "      <td>No major surgery</td>\n",
              "      <td>yes</td>\n",
              "    </tr>\n",
              "  </tbody>\n",
              "</table>\n",
              "</div>\n",
              "      <button class=\"colab-df-convert\" onclick=\"convertToInteractive('df-a273e8e2-b138-4ddf-b9f7-7af52969f186')\"\n",
              "              title=\"Convert this dataframe to an interactive table.\"\n",
              "              style=\"display:none;\">\n",
              "        \n",
              "  <svg xmlns=\"http://www.w3.org/2000/svg\" height=\"24px\"viewBox=\"0 0 24 24\"\n",
              "       width=\"24px\">\n",
              "    <path d=\"M0 0h24v24H0V0z\" fill=\"none\"/>\n",
              "    <path d=\"M18.56 5.44l.94 2.06.94-2.06 2.06-.94-2.06-.94-.94-2.06-.94 2.06-2.06.94zm-11 1L8.5 8.5l.94-2.06 2.06-.94-2.06-.94L8.5 2.5l-.94 2.06-2.06.94zm10 10l.94 2.06.94-2.06 2.06-.94-2.06-.94-.94-2.06-.94 2.06-2.06.94z\"/><path d=\"M17.41 7.96l-1.37-1.37c-.4-.4-.92-.59-1.43-.59-.52 0-1.04.2-1.43.59L10.3 9.45l-7.72 7.72c-.78.78-.78 2.05 0 2.83L4 21.41c.39.39.9.59 1.41.59.51 0 1.02-.2 1.41-.59l7.78-7.78 2.81-2.81c.8-.78.8-2.07 0-2.86zM5.41 20L4 18.59l7.72-7.72 1.47 1.35L5.41 20z\"/>\n",
              "  </svg>\n",
              "      </button>\n",
              "      \n",
              "  <style>\n",
              "    .colab-df-container {\n",
              "      display:flex;\n",
              "      flex-wrap:wrap;\n",
              "      gap: 12px;\n",
              "    }\n",
              "\n",
              "    .colab-df-convert {\n",
              "      background-color: #E8F0FE;\n",
              "      border: none;\n",
              "      border-radius: 50%;\n",
              "      cursor: pointer;\n",
              "      display: none;\n",
              "      fill: #1967D2;\n",
              "      height: 32px;\n",
              "      padding: 0 0 0 0;\n",
              "      width: 32px;\n",
              "    }\n",
              "\n",
              "    .colab-df-convert:hover {\n",
              "      background-color: #E2EBFA;\n",
              "      box-shadow: 0px 1px 2px rgba(60, 64, 67, 0.3), 0px 1px 3px 1px rgba(60, 64, 67, 0.15);\n",
              "      fill: #174EA6;\n",
              "    }\n",
              "\n",
              "    [theme=dark] .colab-df-convert {\n",
              "      background-color: #3B4455;\n",
              "      fill: #D2E3FC;\n",
              "    }\n",
              "\n",
              "    [theme=dark] .colab-df-convert:hover {\n",
              "      background-color: #434B5C;\n",
              "      box-shadow: 0px 1px 3px 1px rgba(0, 0, 0, 0.15);\n",
              "      filter: drop-shadow(0px 1px 2px rgba(0, 0, 0, 0.3));\n",
              "      fill: #FFFFFF;\n",
              "    }\n",
              "  </style>\n",
              "\n",
              "      <script>\n",
              "        const buttonEl =\n",
              "          document.querySelector('#df-a273e8e2-b138-4ddf-b9f7-7af52969f186 button.colab-df-convert');\n",
              "        buttonEl.style.display =\n",
              "          google.colab.kernel.accessAllowed ? 'block' : 'none';\n",
              "\n",
              "        async function convertToInteractive(key) {\n",
              "          const element = document.querySelector('#df-a273e8e2-b138-4ddf-b9f7-7af52969f186');\n",
              "          const dataTable =\n",
              "            await google.colab.kernel.invokeFunction('convertToInteractive',\n",
              "                                                     [key], {});\n",
              "          if (!dataTable) return;\n",
              "\n",
              "          const docLinkHtml = 'Like what you see? Visit the ' +\n",
              "            '<a target=\"_blank\" href=https://colab.research.google.com/notebooks/data_table.ipynb>data table notebook</a>'\n",
              "            + ' to learn more about interactive tables.';\n",
              "          element.innerHTML = '';\n",
              "          dataTable['output_type'] = 'display_data';\n",
              "          await google.colab.output.renderOutput(dataTable, element);\n",
              "          const docLink = document.createElement('div');\n",
              "          docLink.innerHTML = docLinkHtml;\n",
              "          element.appendChild(docLink);\n",
              "        }\n",
              "      </script>\n",
              "    </div>\n",
              "  </div>\n",
              "  "
            ]
          },
          "metadata": {},
          "execution_count": 128
        }
      ]
    },
    {
      "cell_type": "code",
      "source": [
        "medical_details.shape"
      ],
      "metadata": {
        "colab": {
          "base_uri": "https://localhost:8080/"
        },
        "id": "fhvt13dgcg_Z",
        "outputId": "64287454-ec0c-4913-f602-b80b08977299"
      },
      "execution_count": 129,
      "outputs": [
        {
          "output_type": "execute_result",
          "data": {
            "text/plain": [
              "(2335, 8)"
            ]
          },
          "metadata": {},
          "execution_count": 129
        }
      ]
    },
    {
      "cell_type": "code",
      "source": [
        "customer_name.head()"
      ],
      "metadata": {
        "colab": {
          "base_uri": "https://localhost:8080/",
          "height": 206
        },
        "id": "XjxEkbG2ciWF",
        "outputId": "07c2b5db-6d4c-4f22-81fd-2f06e7a910ab"
      },
      "execution_count": 130,
      "outputs": [
        {
          "output_type": "execute_result",
          "data": {
            "text/plain": [
              "  Customer ID                    name\n",
              "0         Id1       Hawks, Ms.  Kelly\n",
              "1         Id2  Lehner, Mr.  Matthew D\n",
              "2         Id3           Lu, Mr.  Phil\n",
              "3         Id4    Osborne, Ms.  Kelsey\n",
              "4         Id5    Kadala, Ms.  Kristyn"
            ],
            "text/html": [
              "\n",
              "  <div id=\"df-56a39092-0a05-456d-a813-0421af29967a\">\n",
              "    <div class=\"colab-df-container\">\n",
              "      <div>\n",
              "<style scoped>\n",
              "    .dataframe tbody tr th:only-of-type {\n",
              "        vertical-align: middle;\n",
              "    }\n",
              "\n",
              "    .dataframe tbody tr th {\n",
              "        vertical-align: top;\n",
              "    }\n",
              "\n",
              "    .dataframe thead th {\n",
              "        text-align: right;\n",
              "    }\n",
              "</style>\n",
              "<table border=\"1\" class=\"dataframe\">\n",
              "  <thead>\n",
              "    <tr style=\"text-align: right;\">\n",
              "      <th></th>\n",
              "      <th>Customer ID</th>\n",
              "      <th>name</th>\n",
              "    </tr>\n",
              "  </thead>\n",
              "  <tbody>\n",
              "    <tr>\n",
              "      <th>0</th>\n",
              "      <td>Id1</td>\n",
              "      <td>Hawks, Ms.  Kelly</td>\n",
              "    </tr>\n",
              "    <tr>\n",
              "      <th>1</th>\n",
              "      <td>Id2</td>\n",
              "      <td>Lehner, Mr.  Matthew D</td>\n",
              "    </tr>\n",
              "    <tr>\n",
              "      <th>2</th>\n",
              "      <td>Id3</td>\n",
              "      <td>Lu, Mr.  Phil</td>\n",
              "    </tr>\n",
              "    <tr>\n",
              "      <th>3</th>\n",
              "      <td>Id4</td>\n",
              "      <td>Osborne, Ms.  Kelsey</td>\n",
              "    </tr>\n",
              "    <tr>\n",
              "      <th>4</th>\n",
              "      <td>Id5</td>\n",
              "      <td>Kadala, Ms.  Kristyn</td>\n",
              "    </tr>\n",
              "  </tbody>\n",
              "</table>\n",
              "</div>\n",
              "      <button class=\"colab-df-convert\" onclick=\"convertToInteractive('df-56a39092-0a05-456d-a813-0421af29967a')\"\n",
              "              title=\"Convert this dataframe to an interactive table.\"\n",
              "              style=\"display:none;\">\n",
              "        \n",
              "  <svg xmlns=\"http://www.w3.org/2000/svg\" height=\"24px\"viewBox=\"0 0 24 24\"\n",
              "       width=\"24px\">\n",
              "    <path d=\"M0 0h24v24H0V0z\" fill=\"none\"/>\n",
              "    <path d=\"M18.56 5.44l.94 2.06.94-2.06 2.06-.94-2.06-.94-.94-2.06-.94 2.06-2.06.94zm-11 1L8.5 8.5l.94-2.06 2.06-.94-2.06-.94L8.5 2.5l-.94 2.06-2.06.94zm10 10l.94 2.06.94-2.06 2.06-.94-2.06-.94-.94-2.06-.94 2.06-2.06.94z\"/><path d=\"M17.41 7.96l-1.37-1.37c-.4-.4-.92-.59-1.43-.59-.52 0-1.04.2-1.43.59L10.3 9.45l-7.72 7.72c-.78.78-.78 2.05 0 2.83L4 21.41c.39.39.9.59 1.41.59.51 0 1.02-.2 1.41-.59l7.78-7.78 2.81-2.81c.8-.78.8-2.07 0-2.86zM5.41 20L4 18.59l7.72-7.72 1.47 1.35L5.41 20z\"/>\n",
              "  </svg>\n",
              "      </button>\n",
              "      \n",
              "  <style>\n",
              "    .colab-df-container {\n",
              "      display:flex;\n",
              "      flex-wrap:wrap;\n",
              "      gap: 12px;\n",
              "    }\n",
              "\n",
              "    .colab-df-convert {\n",
              "      background-color: #E8F0FE;\n",
              "      border: none;\n",
              "      border-radius: 50%;\n",
              "      cursor: pointer;\n",
              "      display: none;\n",
              "      fill: #1967D2;\n",
              "      height: 32px;\n",
              "      padding: 0 0 0 0;\n",
              "      width: 32px;\n",
              "    }\n",
              "\n",
              "    .colab-df-convert:hover {\n",
              "      background-color: #E2EBFA;\n",
              "      box-shadow: 0px 1px 2px rgba(60, 64, 67, 0.3), 0px 1px 3px 1px rgba(60, 64, 67, 0.15);\n",
              "      fill: #174EA6;\n",
              "    }\n",
              "\n",
              "    [theme=dark] .colab-df-convert {\n",
              "      background-color: #3B4455;\n",
              "      fill: #D2E3FC;\n",
              "    }\n",
              "\n",
              "    [theme=dark] .colab-df-convert:hover {\n",
              "      background-color: #434B5C;\n",
              "      box-shadow: 0px 1px 3px 1px rgba(0, 0, 0, 0.15);\n",
              "      filter: drop-shadow(0px 1px 2px rgba(0, 0, 0, 0.3));\n",
              "      fill: #FFFFFF;\n",
              "    }\n",
              "  </style>\n",
              "\n",
              "      <script>\n",
              "        const buttonEl =\n",
              "          document.querySelector('#df-56a39092-0a05-456d-a813-0421af29967a button.colab-df-convert');\n",
              "        buttonEl.style.display =\n",
              "          google.colab.kernel.accessAllowed ? 'block' : 'none';\n",
              "\n",
              "        async function convertToInteractive(key) {\n",
              "          const element = document.querySelector('#df-56a39092-0a05-456d-a813-0421af29967a');\n",
              "          const dataTable =\n",
              "            await google.colab.kernel.invokeFunction('convertToInteractive',\n",
              "                                                     [key], {});\n",
              "          if (!dataTable) return;\n",
              "\n",
              "          const docLinkHtml = 'Like what you see? Visit the ' +\n",
              "            '<a target=\"_blank\" href=https://colab.research.google.com/notebooks/data_table.ipynb>data table notebook</a>'\n",
              "            + ' to learn more about interactive tables.';\n",
              "          element.innerHTML = '';\n",
              "          dataTable['output_type'] = 'display_data';\n",
              "          await google.colab.output.renderOutput(dataTable, element);\n",
              "          const docLink = document.createElement('div');\n",
              "          docLink.innerHTML = docLinkHtml;\n",
              "          element.appendChild(docLink);\n",
              "        }\n",
              "      </script>\n",
              "    </div>\n",
              "  </div>\n",
              "  "
            ]
          },
          "metadata": {},
          "execution_count": 130
        }
      ]
    },
    {
      "cell_type": "code",
      "source": [
        "customer_name.shape"
      ],
      "metadata": {
        "colab": {
          "base_uri": "https://localhost:8080/"
        },
        "id": "MGyDx_0Ic4EZ",
        "outputId": "2da84325-6c14-4424-b70b-36e2652712ec"
      },
      "execution_count": 131,
      "outputs": [
        {
          "output_type": "execute_result",
          "data": {
            "text/plain": [
              "(2335, 2)"
            ]
          },
          "metadata": {},
          "execution_count": 131
        }
      ]
    },
    {
      "cell_type": "markdown",
      "source": [
        "# #  # Project task: week 1\n",
        "##1.Collate the files so that all the information is in one place"
      ],
      "metadata": {
        "id": "R3DeCJPDkV78"
      }
    },
    {
      "cell_type": "code",
      "source": [
        "customer_df1 = pd.merge(customer_name, hospitalisation_details, on = \"Customer ID\")\n",
        "customer_df1.head()"
      ],
      "metadata": {
        "colab": {
          "base_uri": "https://localhost:8080/",
          "height": 206
        },
        "id": "z3cXPJhNc6ks",
        "outputId": "39680a0b-ee07-4441-e5cf-29df4da384f8"
      },
      "execution_count": 132,
      "outputs": [
        {
          "output_type": "execute_result",
          "data": {
            "text/plain": [
              "  Customer ID                    name  year month  date  children   charges  \\\n",
              "0         Id1       Hawks, Ms.  Kelly  1968   Oct    12         0  63770.43   \n",
              "1         Id2  Lehner, Mr.  Matthew D  1977   Jun     8         0  62592.87   \n",
              "2         Id3           Lu, Mr.  Phil  1970     ?    11         3  60021.40   \n",
              "3         Id4    Osborne, Ms.  Kelsey  1991   Jun     6         1  58571.07   \n",
              "4         Id5    Kadala, Ms.  Kristyn  1989   Jun    19         0  55135.40   \n",
              "\n",
              "  Hospital tier City tier State ID  \n",
              "0      tier - 1  tier - 3    R1013  \n",
              "1      tier - 2  tier - 3    R1013  \n",
              "2      tier - 1  tier - 1    R1012  \n",
              "3      tier - 1  tier - 3    R1024  \n",
              "4      tier - 1  tier - 2    R1012  "
            ],
            "text/html": [
              "\n",
              "  <div id=\"df-62b91e1e-19a0-403e-8062-9d69aba6eff1\">\n",
              "    <div class=\"colab-df-container\">\n",
              "      <div>\n",
              "<style scoped>\n",
              "    .dataframe tbody tr th:only-of-type {\n",
              "        vertical-align: middle;\n",
              "    }\n",
              "\n",
              "    .dataframe tbody tr th {\n",
              "        vertical-align: top;\n",
              "    }\n",
              "\n",
              "    .dataframe thead th {\n",
              "        text-align: right;\n",
              "    }\n",
              "</style>\n",
              "<table border=\"1\" class=\"dataframe\">\n",
              "  <thead>\n",
              "    <tr style=\"text-align: right;\">\n",
              "      <th></th>\n",
              "      <th>Customer ID</th>\n",
              "      <th>name</th>\n",
              "      <th>year</th>\n",
              "      <th>month</th>\n",
              "      <th>date</th>\n",
              "      <th>children</th>\n",
              "      <th>charges</th>\n",
              "      <th>Hospital tier</th>\n",
              "      <th>City tier</th>\n",
              "      <th>State ID</th>\n",
              "    </tr>\n",
              "  </thead>\n",
              "  <tbody>\n",
              "    <tr>\n",
              "      <th>0</th>\n",
              "      <td>Id1</td>\n",
              "      <td>Hawks, Ms.  Kelly</td>\n",
              "      <td>1968</td>\n",
              "      <td>Oct</td>\n",
              "      <td>12</td>\n",
              "      <td>0</td>\n",
              "      <td>63770.43</td>\n",
              "      <td>tier - 1</td>\n",
              "      <td>tier - 3</td>\n",
              "      <td>R1013</td>\n",
              "    </tr>\n",
              "    <tr>\n",
              "      <th>1</th>\n",
              "      <td>Id2</td>\n",
              "      <td>Lehner, Mr.  Matthew D</td>\n",
              "      <td>1977</td>\n",
              "      <td>Jun</td>\n",
              "      <td>8</td>\n",
              "      <td>0</td>\n",
              "      <td>62592.87</td>\n",
              "      <td>tier - 2</td>\n",
              "      <td>tier - 3</td>\n",
              "      <td>R1013</td>\n",
              "    </tr>\n",
              "    <tr>\n",
              "      <th>2</th>\n",
              "      <td>Id3</td>\n",
              "      <td>Lu, Mr.  Phil</td>\n",
              "      <td>1970</td>\n",
              "      <td>?</td>\n",
              "      <td>11</td>\n",
              "      <td>3</td>\n",
              "      <td>60021.40</td>\n",
              "      <td>tier - 1</td>\n",
              "      <td>tier - 1</td>\n",
              "      <td>R1012</td>\n",
              "    </tr>\n",
              "    <tr>\n",
              "      <th>3</th>\n",
              "      <td>Id4</td>\n",
              "      <td>Osborne, Ms.  Kelsey</td>\n",
              "      <td>1991</td>\n",
              "      <td>Jun</td>\n",
              "      <td>6</td>\n",
              "      <td>1</td>\n",
              "      <td>58571.07</td>\n",
              "      <td>tier - 1</td>\n",
              "      <td>tier - 3</td>\n",
              "      <td>R1024</td>\n",
              "    </tr>\n",
              "    <tr>\n",
              "      <th>4</th>\n",
              "      <td>Id5</td>\n",
              "      <td>Kadala, Ms.  Kristyn</td>\n",
              "      <td>1989</td>\n",
              "      <td>Jun</td>\n",
              "      <td>19</td>\n",
              "      <td>0</td>\n",
              "      <td>55135.40</td>\n",
              "      <td>tier - 1</td>\n",
              "      <td>tier - 2</td>\n",
              "      <td>R1012</td>\n",
              "    </tr>\n",
              "  </tbody>\n",
              "</table>\n",
              "</div>\n",
              "      <button class=\"colab-df-convert\" onclick=\"convertToInteractive('df-62b91e1e-19a0-403e-8062-9d69aba6eff1')\"\n",
              "              title=\"Convert this dataframe to an interactive table.\"\n",
              "              style=\"display:none;\">\n",
              "        \n",
              "  <svg xmlns=\"http://www.w3.org/2000/svg\" height=\"24px\"viewBox=\"0 0 24 24\"\n",
              "       width=\"24px\">\n",
              "    <path d=\"M0 0h24v24H0V0z\" fill=\"none\"/>\n",
              "    <path d=\"M18.56 5.44l.94 2.06.94-2.06 2.06-.94-2.06-.94-.94-2.06-.94 2.06-2.06.94zm-11 1L8.5 8.5l.94-2.06 2.06-.94-2.06-.94L8.5 2.5l-.94 2.06-2.06.94zm10 10l.94 2.06.94-2.06 2.06-.94-2.06-.94-.94-2.06-.94 2.06-2.06.94z\"/><path d=\"M17.41 7.96l-1.37-1.37c-.4-.4-.92-.59-1.43-.59-.52 0-1.04.2-1.43.59L10.3 9.45l-7.72 7.72c-.78.78-.78 2.05 0 2.83L4 21.41c.39.39.9.59 1.41.59.51 0 1.02-.2 1.41-.59l7.78-7.78 2.81-2.81c.8-.78.8-2.07 0-2.86zM5.41 20L4 18.59l7.72-7.72 1.47 1.35L5.41 20z\"/>\n",
              "  </svg>\n",
              "      </button>\n",
              "      \n",
              "  <style>\n",
              "    .colab-df-container {\n",
              "      display:flex;\n",
              "      flex-wrap:wrap;\n",
              "      gap: 12px;\n",
              "    }\n",
              "\n",
              "    .colab-df-convert {\n",
              "      background-color: #E8F0FE;\n",
              "      border: none;\n",
              "      border-radius: 50%;\n",
              "      cursor: pointer;\n",
              "      display: none;\n",
              "      fill: #1967D2;\n",
              "      height: 32px;\n",
              "      padding: 0 0 0 0;\n",
              "      width: 32px;\n",
              "    }\n",
              "\n",
              "    .colab-df-convert:hover {\n",
              "      background-color: #E2EBFA;\n",
              "      box-shadow: 0px 1px 2px rgba(60, 64, 67, 0.3), 0px 1px 3px 1px rgba(60, 64, 67, 0.15);\n",
              "      fill: #174EA6;\n",
              "    }\n",
              "\n",
              "    [theme=dark] .colab-df-convert {\n",
              "      background-color: #3B4455;\n",
              "      fill: #D2E3FC;\n",
              "    }\n",
              "\n",
              "    [theme=dark] .colab-df-convert:hover {\n",
              "      background-color: #434B5C;\n",
              "      box-shadow: 0px 1px 3px 1px rgba(0, 0, 0, 0.15);\n",
              "      filter: drop-shadow(0px 1px 2px rgba(0, 0, 0, 0.3));\n",
              "      fill: #FFFFFF;\n",
              "    }\n",
              "  </style>\n",
              "\n",
              "      <script>\n",
              "        const buttonEl =\n",
              "          document.querySelector('#df-62b91e1e-19a0-403e-8062-9d69aba6eff1 button.colab-df-convert');\n",
              "        buttonEl.style.display =\n",
              "          google.colab.kernel.accessAllowed ? 'block' : 'none';\n",
              "\n",
              "        async function convertToInteractive(key) {\n",
              "          const element = document.querySelector('#df-62b91e1e-19a0-403e-8062-9d69aba6eff1');\n",
              "          const dataTable =\n",
              "            await google.colab.kernel.invokeFunction('convertToInteractive',\n",
              "                                                     [key], {});\n",
              "          if (!dataTable) return;\n",
              "\n",
              "          const docLinkHtml = 'Like what you see? Visit the ' +\n",
              "            '<a target=\"_blank\" href=https://colab.research.google.com/notebooks/data_table.ipynb>data table notebook</a>'\n",
              "            + ' to learn more about interactive tables.';\n",
              "          element.innerHTML = '';\n",
              "          dataTable['output_type'] = 'display_data';\n",
              "          await google.colab.output.renderOutput(dataTable, element);\n",
              "          const docLink = document.createElement('div');\n",
              "          docLink.innerHTML = docLinkHtml;\n",
              "          element.appendChild(docLink);\n",
              "        }\n",
              "      </script>\n",
              "    </div>\n",
              "  </div>\n",
              "  "
            ]
          },
          "metadata": {},
          "execution_count": 132
        }
      ]
    },
    {
      "cell_type": "code",
      "source": [
        "final_df = pd.merge(customer_df1, medical_details, on = \"Customer ID\")\n",
        "final_df.head()"
      ],
      "metadata": {
        "colab": {
          "base_uri": "https://localhost:8080/",
          "height": 424
        },
        "id": "bYfQ8Q8Yk36p",
        "outputId": "a1bab497-6d06-4ec6-b42b-09896b2f0e3e"
      },
      "execution_count": 133,
      "outputs": [
        {
          "output_type": "execute_result",
          "data": {
            "text/plain": [
              "  Customer ID                    name  year month  date  children   charges  \\\n",
              "0         Id1       Hawks, Ms.  Kelly  1968   Oct    12         0  63770.43   \n",
              "1         Id2  Lehner, Mr.  Matthew D  1977   Jun     8         0  62592.87   \n",
              "2         Id3           Lu, Mr.  Phil  1970     ?    11         3  60021.40   \n",
              "3         Id4    Osborne, Ms.  Kelsey  1991   Jun     6         1  58571.07   \n",
              "4         Id5    Kadala, Ms.  Kristyn  1989   Jun    19         0  55135.40   \n",
              "\n",
              "  Hospital tier City tier State ID     BMI  HBA1C Heart Issues  \\\n",
              "0      tier - 1  tier - 3    R1013  47.410   7.47           No   \n",
              "1      tier - 2  tier - 3    R1013  30.360   5.77           No   \n",
              "2      tier - 1  tier - 1    R1012  34.485  11.87          yes   \n",
              "3      tier - 1  tier - 3    R1024  38.095   6.05           No   \n",
              "4      tier - 1  tier - 2    R1012  35.530   5.45           No   \n",
              "\n",
              "  Any Transplants Cancer history NumberOfMajorSurgeries smoker  \n",
              "0              No             No       No major surgery    yes  \n",
              "1              No             No       No major surgery    yes  \n",
              "2              No             No                      2    yes  \n",
              "3              No             No       No major surgery    yes  \n",
              "4              No             No       No major surgery    yes  "
            ],
            "text/html": [
              "\n",
              "  <div id=\"df-01758f3c-e214-4e50-b09c-8cba8475cb49\">\n",
              "    <div class=\"colab-df-container\">\n",
              "      <div>\n",
              "<style scoped>\n",
              "    .dataframe tbody tr th:only-of-type {\n",
              "        vertical-align: middle;\n",
              "    }\n",
              "\n",
              "    .dataframe tbody tr th {\n",
              "        vertical-align: top;\n",
              "    }\n",
              "\n",
              "    .dataframe thead th {\n",
              "        text-align: right;\n",
              "    }\n",
              "</style>\n",
              "<table border=\"1\" class=\"dataframe\">\n",
              "  <thead>\n",
              "    <tr style=\"text-align: right;\">\n",
              "      <th></th>\n",
              "      <th>Customer ID</th>\n",
              "      <th>name</th>\n",
              "      <th>year</th>\n",
              "      <th>month</th>\n",
              "      <th>date</th>\n",
              "      <th>children</th>\n",
              "      <th>charges</th>\n",
              "      <th>Hospital tier</th>\n",
              "      <th>City tier</th>\n",
              "      <th>State ID</th>\n",
              "      <th>BMI</th>\n",
              "      <th>HBA1C</th>\n",
              "      <th>Heart Issues</th>\n",
              "      <th>Any Transplants</th>\n",
              "      <th>Cancer history</th>\n",
              "      <th>NumberOfMajorSurgeries</th>\n",
              "      <th>smoker</th>\n",
              "    </tr>\n",
              "  </thead>\n",
              "  <tbody>\n",
              "    <tr>\n",
              "      <th>0</th>\n",
              "      <td>Id1</td>\n",
              "      <td>Hawks, Ms.  Kelly</td>\n",
              "      <td>1968</td>\n",
              "      <td>Oct</td>\n",
              "      <td>12</td>\n",
              "      <td>0</td>\n",
              "      <td>63770.43</td>\n",
              "      <td>tier - 1</td>\n",
              "      <td>tier - 3</td>\n",
              "      <td>R1013</td>\n",
              "      <td>47.410</td>\n",
              "      <td>7.47</td>\n",
              "      <td>No</td>\n",
              "      <td>No</td>\n",
              "      <td>No</td>\n",
              "      <td>No major surgery</td>\n",
              "      <td>yes</td>\n",
              "    </tr>\n",
              "    <tr>\n",
              "      <th>1</th>\n",
              "      <td>Id2</td>\n",
              "      <td>Lehner, Mr.  Matthew D</td>\n",
              "      <td>1977</td>\n",
              "      <td>Jun</td>\n",
              "      <td>8</td>\n",
              "      <td>0</td>\n",
              "      <td>62592.87</td>\n",
              "      <td>tier - 2</td>\n",
              "      <td>tier - 3</td>\n",
              "      <td>R1013</td>\n",
              "      <td>30.360</td>\n",
              "      <td>5.77</td>\n",
              "      <td>No</td>\n",
              "      <td>No</td>\n",
              "      <td>No</td>\n",
              "      <td>No major surgery</td>\n",
              "      <td>yes</td>\n",
              "    </tr>\n",
              "    <tr>\n",
              "      <th>2</th>\n",
              "      <td>Id3</td>\n",
              "      <td>Lu, Mr.  Phil</td>\n",
              "      <td>1970</td>\n",
              "      <td>?</td>\n",
              "      <td>11</td>\n",
              "      <td>3</td>\n",
              "      <td>60021.40</td>\n",
              "      <td>tier - 1</td>\n",
              "      <td>tier - 1</td>\n",
              "      <td>R1012</td>\n",
              "      <td>34.485</td>\n",
              "      <td>11.87</td>\n",
              "      <td>yes</td>\n",
              "      <td>No</td>\n",
              "      <td>No</td>\n",
              "      <td>2</td>\n",
              "      <td>yes</td>\n",
              "    </tr>\n",
              "    <tr>\n",
              "      <th>3</th>\n",
              "      <td>Id4</td>\n",
              "      <td>Osborne, Ms.  Kelsey</td>\n",
              "      <td>1991</td>\n",
              "      <td>Jun</td>\n",
              "      <td>6</td>\n",
              "      <td>1</td>\n",
              "      <td>58571.07</td>\n",
              "      <td>tier - 1</td>\n",
              "      <td>tier - 3</td>\n",
              "      <td>R1024</td>\n",
              "      <td>38.095</td>\n",
              "      <td>6.05</td>\n",
              "      <td>No</td>\n",
              "      <td>No</td>\n",
              "      <td>No</td>\n",
              "      <td>No major surgery</td>\n",
              "      <td>yes</td>\n",
              "    </tr>\n",
              "    <tr>\n",
              "      <th>4</th>\n",
              "      <td>Id5</td>\n",
              "      <td>Kadala, Ms.  Kristyn</td>\n",
              "      <td>1989</td>\n",
              "      <td>Jun</td>\n",
              "      <td>19</td>\n",
              "      <td>0</td>\n",
              "      <td>55135.40</td>\n",
              "      <td>tier - 1</td>\n",
              "      <td>tier - 2</td>\n",
              "      <td>R1012</td>\n",
              "      <td>35.530</td>\n",
              "      <td>5.45</td>\n",
              "      <td>No</td>\n",
              "      <td>No</td>\n",
              "      <td>No</td>\n",
              "      <td>No major surgery</td>\n",
              "      <td>yes</td>\n",
              "    </tr>\n",
              "  </tbody>\n",
              "</table>\n",
              "</div>\n",
              "      <button class=\"colab-df-convert\" onclick=\"convertToInteractive('df-01758f3c-e214-4e50-b09c-8cba8475cb49')\"\n",
              "              title=\"Convert this dataframe to an interactive table.\"\n",
              "              style=\"display:none;\">\n",
              "        \n",
              "  <svg xmlns=\"http://www.w3.org/2000/svg\" height=\"24px\"viewBox=\"0 0 24 24\"\n",
              "       width=\"24px\">\n",
              "    <path d=\"M0 0h24v24H0V0z\" fill=\"none\"/>\n",
              "    <path d=\"M18.56 5.44l.94 2.06.94-2.06 2.06-.94-2.06-.94-.94-2.06-.94 2.06-2.06.94zm-11 1L8.5 8.5l.94-2.06 2.06-.94-2.06-.94L8.5 2.5l-.94 2.06-2.06.94zm10 10l.94 2.06.94-2.06 2.06-.94-2.06-.94-.94-2.06-.94 2.06-2.06.94z\"/><path d=\"M17.41 7.96l-1.37-1.37c-.4-.4-.92-.59-1.43-.59-.52 0-1.04.2-1.43.59L10.3 9.45l-7.72 7.72c-.78.78-.78 2.05 0 2.83L4 21.41c.39.39.9.59 1.41.59.51 0 1.02-.2 1.41-.59l7.78-7.78 2.81-2.81c.8-.78.8-2.07 0-2.86zM5.41 20L4 18.59l7.72-7.72 1.47 1.35L5.41 20z\"/>\n",
              "  </svg>\n",
              "      </button>\n",
              "      \n",
              "  <style>\n",
              "    .colab-df-container {\n",
              "      display:flex;\n",
              "      flex-wrap:wrap;\n",
              "      gap: 12px;\n",
              "    }\n",
              "\n",
              "    .colab-df-convert {\n",
              "      background-color: #E8F0FE;\n",
              "      border: none;\n",
              "      border-radius: 50%;\n",
              "      cursor: pointer;\n",
              "      display: none;\n",
              "      fill: #1967D2;\n",
              "      height: 32px;\n",
              "      padding: 0 0 0 0;\n",
              "      width: 32px;\n",
              "    }\n",
              "\n",
              "    .colab-df-convert:hover {\n",
              "      background-color: #E2EBFA;\n",
              "      box-shadow: 0px 1px 2px rgba(60, 64, 67, 0.3), 0px 1px 3px 1px rgba(60, 64, 67, 0.15);\n",
              "      fill: #174EA6;\n",
              "    }\n",
              "\n",
              "    [theme=dark] .colab-df-convert {\n",
              "      background-color: #3B4455;\n",
              "      fill: #D2E3FC;\n",
              "    }\n",
              "\n",
              "    [theme=dark] .colab-df-convert:hover {\n",
              "      background-color: #434B5C;\n",
              "      box-shadow: 0px 1px 3px 1px rgba(0, 0, 0, 0.15);\n",
              "      filter: drop-shadow(0px 1px 2px rgba(0, 0, 0, 0.3));\n",
              "      fill: #FFFFFF;\n",
              "    }\n",
              "  </style>\n",
              "\n",
              "      <script>\n",
              "        const buttonEl =\n",
              "          document.querySelector('#df-01758f3c-e214-4e50-b09c-8cba8475cb49 button.colab-df-convert');\n",
              "        buttonEl.style.display =\n",
              "          google.colab.kernel.accessAllowed ? 'block' : 'none';\n",
              "\n",
              "        async function convertToInteractive(key) {\n",
              "          const element = document.querySelector('#df-01758f3c-e214-4e50-b09c-8cba8475cb49');\n",
              "          const dataTable =\n",
              "            await google.colab.kernel.invokeFunction('convertToInteractive',\n",
              "                                                     [key], {});\n",
              "          if (!dataTable) return;\n",
              "\n",
              "          const docLinkHtml = 'Like what you see? Visit the ' +\n",
              "            '<a target=\"_blank\" href=https://colab.research.google.com/notebooks/data_table.ipynb>data table notebook</a>'\n",
              "            + ' to learn more about interactive tables.';\n",
              "          element.innerHTML = '';\n",
              "          dataTable['output_type'] = 'display_data';\n",
              "          await google.colab.output.renderOutput(dataTable, element);\n",
              "          const docLink = document.createElement('div');\n",
              "          docLink.innerHTML = docLinkHtml;\n",
              "          element.appendChild(docLink);\n",
              "        }\n",
              "      </script>\n",
              "    </div>\n",
              "  </div>\n",
              "  "
            ]
          },
          "metadata": {},
          "execution_count": 133
        }
      ]
    },
    {
      "cell_type": "code",
      "source": [
        "final_df.shape"
      ],
      "metadata": {
        "colab": {
          "base_uri": "https://localhost:8080/"
        },
        "id": "wLbhWtX1leaj",
        "outputId": "b3a1cc7b-5e68-49a6-8b06-4cee40278317"
      },
      "execution_count": 134,
      "outputs": [
        {
          "output_type": "execute_result",
          "data": {
            "text/plain": [
              "(2335, 17)"
            ]
          },
          "metadata": {},
          "execution_count": 134
        }
      ]
    },
    {
      "cell_type": "markdown",
      "source": [
        "##2. check for missing vlalues in the dataset"
      ],
      "metadata": {
        "id": "WdOZHDuIljsr"
      }
    },
    {
      "cell_type": "code",
      "source": [
        "final_df.info()"
      ],
      "metadata": {
        "colab": {
          "base_uri": "https://localhost:8080/"
        },
        "id": "kaXmeIp7lXQU",
        "outputId": "2a9b979e-0045-4948-a644-032619378e67"
      },
      "execution_count": 135,
      "outputs": [
        {
          "output_type": "stream",
          "name": "stdout",
          "text": [
            "<class 'pandas.core.frame.DataFrame'>\n",
            "Int64Index: 2335 entries, 0 to 2334\n",
            "Data columns (total 17 columns):\n",
            " #   Column                  Non-Null Count  Dtype  \n",
            "---  ------                  --------------  -----  \n",
            " 0   Customer ID             2335 non-null   object \n",
            " 1   name                    2335 non-null   object \n",
            " 2   year                    2335 non-null   object \n",
            " 3   month                   2335 non-null   object \n",
            " 4   date                    2335 non-null   int64  \n",
            " 5   children                2335 non-null   int64  \n",
            " 6   charges                 2335 non-null   float64\n",
            " 7   Hospital tier           2335 non-null   object \n",
            " 8   City tier               2335 non-null   object \n",
            " 9   State ID                2335 non-null   object \n",
            " 10  BMI                     2335 non-null   float64\n",
            " 11  HBA1C                   2335 non-null   float64\n",
            " 12  Heart Issues            2335 non-null   object \n",
            " 13  Any Transplants         2335 non-null   object \n",
            " 14  Cancer history          2335 non-null   object \n",
            " 15  NumberOfMajorSurgeries  2335 non-null   object \n",
            " 16  smoker                  2335 non-null   object \n",
            "dtypes: float64(3), int64(2), object(12)\n",
            "memory usage: 328.4+ KB\n"
          ]
        }
      ]
    },
    {
      "cell_type": "code",
      "source": [
        "final_df.dtypes.value_counts()"
      ],
      "metadata": {
        "colab": {
          "base_uri": "https://localhost:8080/"
        },
        "id": "r3r48dKDlrR6",
        "outputId": "be76bb00-99dd-4163-d44f-1586ed11acb1"
      },
      "execution_count": 136,
      "outputs": [
        {
          "output_type": "execute_result",
          "data": {
            "text/plain": [
              "object     12\n",
              "float64     3\n",
              "int64       2\n",
              "dtype: int64"
            ]
          },
          "metadata": {},
          "execution_count": 136
        }
      ]
    },
    {
      "cell_type": "code",
      "source": [
        "#check for null values\n",
        "final_df.isnull().sum()"
      ],
      "metadata": {
        "colab": {
          "base_uri": "https://localhost:8080/"
        },
        "id": "ts9RtnQelwtD",
        "outputId": "db0ec449-3249-4cef-8c6d-73c3d6ddc509"
      },
      "execution_count": 137,
      "outputs": [
        {
          "output_type": "execute_result",
          "data": {
            "text/plain": [
              "Customer ID               0\n",
              "name                      0\n",
              "year                      0\n",
              "month                     0\n",
              "date                      0\n",
              "children                  0\n",
              "charges                   0\n",
              "Hospital tier             0\n",
              "City tier                 0\n",
              "State ID                  0\n",
              "BMI                       0\n",
              "HBA1C                     0\n",
              "Heart Issues              0\n",
              "Any Transplants           0\n",
              "Cancer history            0\n",
              "NumberOfMajorSurgeries    0\n",
              "smoker                    0\n",
              "dtype: int64"
            ]
          },
          "metadata": {},
          "execution_count": 137
        }
      ]
    },
    {
      "cell_type": "markdown",
      "source": [
        "There is no missing value in the dataset it is clear from the above code.\n",
        "But there is some unusual value that we have to deal."
      ],
      "metadata": {
        "id": "1pWOByfpl7Gq"
      }
    },
    {
      "cell_type": "markdown",
      "source": [
        "# 3. Find the percentage of rows that have trivial value (for example, ?), and delete such rows if they do not contain significant information"
      ],
      "metadata": {
        "id": "8nR8m0qMmDTF"
      }
    },
    {
      "cell_type": "code",
      "source": [
        "trivial_value = final_df[final_df.eq(\"?\").any(1)]\n",
        "trivial_value"
      ],
      "metadata": {
        "colab": {
          "base_uri": "https://localhost:8080/",
          "height": 685
        },
        "id": "S0W8z9til4ak",
        "outputId": "6b8cce89-d4ab-4ccf-c68a-a03cf5823520"
      },
      "execution_count": 138,
      "outputs": [
        {
          "output_type": "execute_result",
          "data": {
            "text/plain": [
              "     Customer ID                    name  year month  date  children  \\\n",
              "2            Id3           Lu, Mr.  Phil  1970     ?    11         3   \n",
              "169        Id170      Torphy, Mr.  Bobby  2000   Sep     5         1   \n",
              "559        Id560       Pearlman, Mr.  Oz  1994   Jul     1         3   \n",
              "634        Id635   Bruns, Mr.  Zachary T  2004   Jul    17         0   \n",
              "1285      Id1286  Ainsley, Ms.  Katie M.     ?   Dec    12         1   \n",
              "1288      Id1289   Levine, Ms.  Annie J.     ?   Jul    24         0   \n",
              "1792      Id1793  Capriolo, Mr.  Michael  1995   Dec     1         3   \n",
              "2317      Id2318  Gagnon, Ms.  Candice M  1996     ?    18         0   \n",
              "2321      Id2322      Street, Ms.  Holly  2002     ?    19         0   \n",
              "2323      Id2324    Duffy, Ms.  Meghan K  1999   Dec    26         0   \n",
              "\n",
              "       charges Hospital tier City tier State ID     BMI  HBA1C Heart Issues  \\\n",
              "2     60021.40      tier - 1  tier - 1    R1012  34.485  11.87          yes   \n",
              "169   37165.16      tier - 1  tier - 3        ?  37.620   6.32          yes   \n",
              "559   17663.14      tier - 1  tier - 3    R1013  23.980   4.90           No   \n",
              "634   15518.18      tier - 2  tier - 3    R1015  25.175   4.96           No   \n",
              "1285   8547.69      tier - 2  tier - 1    R1013  29.370   8.01          yes   \n",
              "1288   8534.67      tier - 2  tier - 3    R1024  24.320  11.56          yes   \n",
              "1792   4827.90      tier - 1  tier - 2        ?  18.905   4.91          yes   \n",
              "2317    770.38      tier - 3         ?    R1012  18.820   5.51          yes   \n",
              "2321    750.00      tier - 3  tier - 1    R1012  21.380   8.01           No   \n",
              "2323    700.00             ?  tier - 3    R1013  22.240   5.04           No   \n",
              "\n",
              "     Any Transplants Cancer history NumberOfMajorSurgeries smoker  \n",
              "2                 No             No                      2    yes  \n",
              "169              yes             No                      2    yes  \n",
              "559               No             No       No major surgery      ?  \n",
              "634              yes             No                      1      ?  \n",
              "1285              No             No                      1     No  \n",
              "1288              No             No                      1     No  \n",
              "1792              No             No                      1     No  \n",
              "2317              No             No       No major surgery     No  \n",
              "2321              No             No       No major surgery     No  \n",
              "2323              No             No       No major surgery     No  "
            ],
            "text/html": [
              "\n",
              "  <div id=\"df-a62b1f5c-9a4e-4260-9cbd-9d7dfcb8e363\">\n",
              "    <div class=\"colab-df-container\">\n",
              "      <div>\n",
              "<style scoped>\n",
              "    .dataframe tbody tr th:only-of-type {\n",
              "        vertical-align: middle;\n",
              "    }\n",
              "\n",
              "    .dataframe tbody tr th {\n",
              "        vertical-align: top;\n",
              "    }\n",
              "\n",
              "    .dataframe thead th {\n",
              "        text-align: right;\n",
              "    }\n",
              "</style>\n",
              "<table border=\"1\" class=\"dataframe\">\n",
              "  <thead>\n",
              "    <tr style=\"text-align: right;\">\n",
              "      <th></th>\n",
              "      <th>Customer ID</th>\n",
              "      <th>name</th>\n",
              "      <th>year</th>\n",
              "      <th>month</th>\n",
              "      <th>date</th>\n",
              "      <th>children</th>\n",
              "      <th>charges</th>\n",
              "      <th>Hospital tier</th>\n",
              "      <th>City tier</th>\n",
              "      <th>State ID</th>\n",
              "      <th>BMI</th>\n",
              "      <th>HBA1C</th>\n",
              "      <th>Heart Issues</th>\n",
              "      <th>Any Transplants</th>\n",
              "      <th>Cancer history</th>\n",
              "      <th>NumberOfMajorSurgeries</th>\n",
              "      <th>smoker</th>\n",
              "    </tr>\n",
              "  </thead>\n",
              "  <tbody>\n",
              "    <tr>\n",
              "      <th>2</th>\n",
              "      <td>Id3</td>\n",
              "      <td>Lu, Mr.  Phil</td>\n",
              "      <td>1970</td>\n",
              "      <td>?</td>\n",
              "      <td>11</td>\n",
              "      <td>3</td>\n",
              "      <td>60021.40</td>\n",
              "      <td>tier - 1</td>\n",
              "      <td>tier - 1</td>\n",
              "      <td>R1012</td>\n",
              "      <td>34.485</td>\n",
              "      <td>11.87</td>\n",
              "      <td>yes</td>\n",
              "      <td>No</td>\n",
              "      <td>No</td>\n",
              "      <td>2</td>\n",
              "      <td>yes</td>\n",
              "    </tr>\n",
              "    <tr>\n",
              "      <th>169</th>\n",
              "      <td>Id170</td>\n",
              "      <td>Torphy, Mr.  Bobby</td>\n",
              "      <td>2000</td>\n",
              "      <td>Sep</td>\n",
              "      <td>5</td>\n",
              "      <td>1</td>\n",
              "      <td>37165.16</td>\n",
              "      <td>tier - 1</td>\n",
              "      <td>tier - 3</td>\n",
              "      <td>?</td>\n",
              "      <td>37.620</td>\n",
              "      <td>6.32</td>\n",
              "      <td>yes</td>\n",
              "      <td>yes</td>\n",
              "      <td>No</td>\n",
              "      <td>2</td>\n",
              "      <td>yes</td>\n",
              "    </tr>\n",
              "    <tr>\n",
              "      <th>559</th>\n",
              "      <td>Id560</td>\n",
              "      <td>Pearlman, Mr.  Oz</td>\n",
              "      <td>1994</td>\n",
              "      <td>Jul</td>\n",
              "      <td>1</td>\n",
              "      <td>3</td>\n",
              "      <td>17663.14</td>\n",
              "      <td>tier - 1</td>\n",
              "      <td>tier - 3</td>\n",
              "      <td>R1013</td>\n",
              "      <td>23.980</td>\n",
              "      <td>4.90</td>\n",
              "      <td>No</td>\n",
              "      <td>No</td>\n",
              "      <td>No</td>\n",
              "      <td>No major surgery</td>\n",
              "      <td>?</td>\n",
              "    </tr>\n",
              "    <tr>\n",
              "      <th>634</th>\n",
              "      <td>Id635</td>\n",
              "      <td>Bruns, Mr.  Zachary T</td>\n",
              "      <td>2004</td>\n",
              "      <td>Jul</td>\n",
              "      <td>17</td>\n",
              "      <td>0</td>\n",
              "      <td>15518.18</td>\n",
              "      <td>tier - 2</td>\n",
              "      <td>tier - 3</td>\n",
              "      <td>R1015</td>\n",
              "      <td>25.175</td>\n",
              "      <td>4.96</td>\n",
              "      <td>No</td>\n",
              "      <td>yes</td>\n",
              "      <td>No</td>\n",
              "      <td>1</td>\n",
              "      <td>?</td>\n",
              "    </tr>\n",
              "    <tr>\n",
              "      <th>1285</th>\n",
              "      <td>Id1286</td>\n",
              "      <td>Ainsley, Ms.  Katie M.</td>\n",
              "      <td>?</td>\n",
              "      <td>Dec</td>\n",
              "      <td>12</td>\n",
              "      <td>1</td>\n",
              "      <td>8547.69</td>\n",
              "      <td>tier - 2</td>\n",
              "      <td>tier - 1</td>\n",
              "      <td>R1013</td>\n",
              "      <td>29.370</td>\n",
              "      <td>8.01</td>\n",
              "      <td>yes</td>\n",
              "      <td>No</td>\n",
              "      <td>No</td>\n",
              "      <td>1</td>\n",
              "      <td>No</td>\n",
              "    </tr>\n",
              "    <tr>\n",
              "      <th>1288</th>\n",
              "      <td>Id1289</td>\n",
              "      <td>Levine, Ms.  Annie J.</td>\n",
              "      <td>?</td>\n",
              "      <td>Jul</td>\n",
              "      <td>24</td>\n",
              "      <td>0</td>\n",
              "      <td>8534.67</td>\n",
              "      <td>tier - 2</td>\n",
              "      <td>tier - 3</td>\n",
              "      <td>R1024</td>\n",
              "      <td>24.320</td>\n",
              "      <td>11.56</td>\n",
              "      <td>yes</td>\n",
              "      <td>No</td>\n",
              "      <td>No</td>\n",
              "      <td>1</td>\n",
              "      <td>No</td>\n",
              "    </tr>\n",
              "    <tr>\n",
              "      <th>1792</th>\n",
              "      <td>Id1793</td>\n",
              "      <td>Capriolo, Mr.  Michael</td>\n",
              "      <td>1995</td>\n",
              "      <td>Dec</td>\n",
              "      <td>1</td>\n",
              "      <td>3</td>\n",
              "      <td>4827.90</td>\n",
              "      <td>tier - 1</td>\n",
              "      <td>tier - 2</td>\n",
              "      <td>?</td>\n",
              "      <td>18.905</td>\n",
              "      <td>4.91</td>\n",
              "      <td>yes</td>\n",
              "      <td>No</td>\n",
              "      <td>No</td>\n",
              "      <td>1</td>\n",
              "      <td>No</td>\n",
              "    </tr>\n",
              "    <tr>\n",
              "      <th>2317</th>\n",
              "      <td>Id2318</td>\n",
              "      <td>Gagnon, Ms.  Candice M</td>\n",
              "      <td>1996</td>\n",
              "      <td>?</td>\n",
              "      <td>18</td>\n",
              "      <td>0</td>\n",
              "      <td>770.38</td>\n",
              "      <td>tier - 3</td>\n",
              "      <td>?</td>\n",
              "      <td>R1012</td>\n",
              "      <td>18.820</td>\n",
              "      <td>5.51</td>\n",
              "      <td>yes</td>\n",
              "      <td>No</td>\n",
              "      <td>No</td>\n",
              "      <td>No major surgery</td>\n",
              "      <td>No</td>\n",
              "    </tr>\n",
              "    <tr>\n",
              "      <th>2321</th>\n",
              "      <td>Id2322</td>\n",
              "      <td>Street, Ms.  Holly</td>\n",
              "      <td>2002</td>\n",
              "      <td>?</td>\n",
              "      <td>19</td>\n",
              "      <td>0</td>\n",
              "      <td>750.00</td>\n",
              "      <td>tier - 3</td>\n",
              "      <td>tier - 1</td>\n",
              "      <td>R1012</td>\n",
              "      <td>21.380</td>\n",
              "      <td>8.01</td>\n",
              "      <td>No</td>\n",
              "      <td>No</td>\n",
              "      <td>No</td>\n",
              "      <td>No major surgery</td>\n",
              "      <td>No</td>\n",
              "    </tr>\n",
              "    <tr>\n",
              "      <th>2323</th>\n",
              "      <td>Id2324</td>\n",
              "      <td>Duffy, Ms.  Meghan K</td>\n",
              "      <td>1999</td>\n",
              "      <td>Dec</td>\n",
              "      <td>26</td>\n",
              "      <td>0</td>\n",
              "      <td>700.00</td>\n",
              "      <td>?</td>\n",
              "      <td>tier - 3</td>\n",
              "      <td>R1013</td>\n",
              "      <td>22.240</td>\n",
              "      <td>5.04</td>\n",
              "      <td>No</td>\n",
              "      <td>No</td>\n",
              "      <td>No</td>\n",
              "      <td>No major surgery</td>\n",
              "      <td>No</td>\n",
              "    </tr>\n",
              "  </tbody>\n",
              "</table>\n",
              "</div>\n",
              "      <button class=\"colab-df-convert\" onclick=\"convertToInteractive('df-a62b1f5c-9a4e-4260-9cbd-9d7dfcb8e363')\"\n",
              "              title=\"Convert this dataframe to an interactive table.\"\n",
              "              style=\"display:none;\">\n",
              "        \n",
              "  <svg xmlns=\"http://www.w3.org/2000/svg\" height=\"24px\"viewBox=\"0 0 24 24\"\n",
              "       width=\"24px\">\n",
              "    <path d=\"M0 0h24v24H0V0z\" fill=\"none\"/>\n",
              "    <path d=\"M18.56 5.44l.94 2.06.94-2.06 2.06-.94-2.06-.94-.94-2.06-.94 2.06-2.06.94zm-11 1L8.5 8.5l.94-2.06 2.06-.94-2.06-.94L8.5 2.5l-.94 2.06-2.06.94zm10 10l.94 2.06.94-2.06 2.06-.94-2.06-.94-.94-2.06-.94 2.06-2.06.94z\"/><path d=\"M17.41 7.96l-1.37-1.37c-.4-.4-.92-.59-1.43-.59-.52 0-1.04.2-1.43.59L10.3 9.45l-7.72 7.72c-.78.78-.78 2.05 0 2.83L4 21.41c.39.39.9.59 1.41.59.51 0 1.02-.2 1.41-.59l7.78-7.78 2.81-2.81c.8-.78.8-2.07 0-2.86zM5.41 20L4 18.59l7.72-7.72 1.47 1.35L5.41 20z\"/>\n",
              "  </svg>\n",
              "      </button>\n",
              "      \n",
              "  <style>\n",
              "    .colab-df-container {\n",
              "      display:flex;\n",
              "      flex-wrap:wrap;\n",
              "      gap: 12px;\n",
              "    }\n",
              "\n",
              "    .colab-df-convert {\n",
              "      background-color: #E8F0FE;\n",
              "      border: none;\n",
              "      border-radius: 50%;\n",
              "      cursor: pointer;\n",
              "      display: none;\n",
              "      fill: #1967D2;\n",
              "      height: 32px;\n",
              "      padding: 0 0 0 0;\n",
              "      width: 32px;\n",
              "    }\n",
              "\n",
              "    .colab-df-convert:hover {\n",
              "      background-color: #E2EBFA;\n",
              "      box-shadow: 0px 1px 2px rgba(60, 64, 67, 0.3), 0px 1px 3px 1px rgba(60, 64, 67, 0.15);\n",
              "      fill: #174EA6;\n",
              "    }\n",
              "\n",
              "    [theme=dark] .colab-df-convert {\n",
              "      background-color: #3B4455;\n",
              "      fill: #D2E3FC;\n",
              "    }\n",
              "\n",
              "    [theme=dark] .colab-df-convert:hover {\n",
              "      background-color: #434B5C;\n",
              "      box-shadow: 0px 1px 3px 1px rgba(0, 0, 0, 0.15);\n",
              "      filter: drop-shadow(0px 1px 2px rgba(0, 0, 0, 0.3));\n",
              "      fill: #FFFFFF;\n",
              "    }\n",
              "  </style>\n",
              "\n",
              "      <script>\n",
              "        const buttonEl =\n",
              "          document.querySelector('#df-a62b1f5c-9a4e-4260-9cbd-9d7dfcb8e363 button.colab-df-convert');\n",
              "        buttonEl.style.display =\n",
              "          google.colab.kernel.accessAllowed ? 'block' : 'none';\n",
              "\n",
              "        async function convertToInteractive(key) {\n",
              "          const element = document.querySelector('#df-a62b1f5c-9a4e-4260-9cbd-9d7dfcb8e363');\n",
              "          const dataTable =\n",
              "            await google.colab.kernel.invokeFunction('convertToInteractive',\n",
              "                                                     [key], {});\n",
              "          if (!dataTable) return;\n",
              "\n",
              "          const docLinkHtml = 'Like what you see? Visit the ' +\n",
              "            '<a target=\"_blank\" href=https://colab.research.google.com/notebooks/data_table.ipynb>data table notebook</a>'\n",
              "            + ' to learn more about interactive tables.';\n",
              "          element.innerHTML = '';\n",
              "          dataTable['output_type'] = 'display_data';\n",
              "          await google.colab.output.renderOutput(dataTable, element);\n",
              "          const docLink = document.createElement('div');\n",
              "          docLink.innerHTML = docLinkHtml;\n",
              "          element.appendChild(docLink);\n",
              "        }\n",
              "      </script>\n",
              "    </div>\n",
              "  </div>\n",
              "  "
            ]
          },
          "metadata": {},
          "execution_count": 138
        }
      ]
    },
    {
      "cell_type": "code",
      "source": [
        "trivial_value.shape"
      ],
      "metadata": {
        "colab": {
          "base_uri": "https://localhost:8080/"
        },
        "id": "inST8aCCmXmJ",
        "outputId": "d2a645e5-cd35-47ba-d5eb-7e2e4b9e11f3"
      },
      "execution_count": 139,
      "outputs": [
        {
          "output_type": "execute_result",
          "data": {
            "text/plain": [
              "(10, 17)"
            ]
          },
          "metadata": {},
          "execution_count": 139
        }
      ]
    },
    {
      "cell_type": "code",
      "source": [
        "#percentage of rows that contains trivial value\n",
        "round(trivial_value.shape[0]/final_df.shape[0]*100,2)"
      ],
      "metadata": {
        "colab": {
          "base_uri": "https://localhost:8080/"
        },
        "id": "KwGq6mQgmaNM",
        "outputId": "859f4c3a-a59b-4010-c3d7-b0fe894c0b55"
      },
      "execution_count": 140,
      "outputs": [
        {
          "output_type": "execute_result",
          "data": {
            "text/plain": [
              "0.43"
            ]
          },
          "metadata": {},
          "execution_count": 140
        }
      ]
    },
    {
      "cell_type": "markdown",
      "source": [
        "#There is a total of 0.43% of rows that contains the trivial values"
      ],
      "metadata": {
        "id": "4pNo_4CNmrCq"
      }
    },
    {
      "cell_type": "code",
      "source": [
        "#drop all the trivial values\n",
        "final_df.drop(final_df[final_df.eq(\"?\").any(1)].index, axis = 0, inplace = True)"
      ],
      "metadata": {
        "id": "fN50OuUFmpxd"
      },
      "execution_count": 141,
      "outputs": []
    },
    {
      "cell_type": "code",
      "source": [
        "final_df.shape"
      ],
      "metadata": {
        "colab": {
          "base_uri": "https://localhost:8080/"
        },
        "id": "CyYKjHVlnG2y",
        "outputId": "aa233838-0400-4cd0-d470-43591e397f72"
      },
      "execution_count": 142,
      "outputs": [
        {
          "output_type": "execute_result",
          "data": {
            "text/plain": [
              "(2325, 17)"
            ]
          },
          "metadata": {},
          "execution_count": 142
        }
      ]
    },
    {
      "cell_type": "markdown",
      "source": [
        "#  4. Use the necessary transformation methods to deal with the nominal and ordinal categorical variables in the dataset"
      ],
      "metadata": {
        "id": "eqy9Zb93nUVV"
      }
    },
    {
      "cell_type": "markdown",
      "source": [
        "#first we deal with the nominal categorical variables"
      ],
      "metadata": {
        "id": "jRz9TSr8n0s5"
      }
    },
    {
      "cell_type": "code",
      "source": [
        "final_df[\"Heart Issues\"].value_counts()"
      ],
      "metadata": {
        "colab": {
          "base_uri": "https://localhost:8080/"
        },
        "id": "xBxFAKrpnRBw",
        "outputId": "243b4366-d95d-4e83-d911-a8f00c15e8cd"
      },
      "execution_count": 143,
      "outputs": [
        {
          "output_type": "execute_result",
          "data": {
            "text/plain": [
              "No     1405\n",
              "yes     920\n",
              "Name: Heart Issues, dtype: int64"
            ]
          },
          "metadata": {},
          "execution_count": 143
        }
      ]
    },
    {
      "cell_type": "code",
      "source": [
        "final_df[\"Any Transplants\"].value_counts()"
      ],
      "metadata": {
        "colab": {
          "base_uri": "https://localhost:8080/"
        },
        "id": "3cC9fd7Znmdg",
        "outputId": "49a8e57b-c26f-4b18-c6ae-3f3a33f72df9"
      },
      "execution_count": 144,
      "outputs": [
        {
          "output_type": "execute_result",
          "data": {
            "text/plain": [
              "No     2183\n",
              "yes     142\n",
              "Name: Any Transplants, dtype: int64"
            ]
          },
          "metadata": {},
          "execution_count": 144
        }
      ]
    },
    {
      "cell_type": "code",
      "source": [
        "final_df[\"Cancer history\"].value_counts()"
      ],
      "metadata": {
        "colab": {
          "base_uri": "https://localhost:8080/"
        },
        "id": "rtRmPNL8nn9y",
        "outputId": "a53e2912-9337-4662-8d7b-d950fbd761b8"
      },
      "execution_count": 145,
      "outputs": [
        {
          "output_type": "execute_result",
          "data": {
            "text/plain": [
              "No     1934\n",
              "Yes     391\n",
              "Name: Cancer history, dtype: int64"
            ]
          },
          "metadata": {},
          "execution_count": 145
        }
      ]
    },
    {
      "cell_type": "code",
      "source": [
        "final_df[\"smoker\"].value_counts()"
      ],
      "metadata": {
        "colab": {
          "base_uri": "https://localhost:8080/"
        },
        "id": "gJqNffgmoTq8",
        "outputId": "1d66a647-b578-4018-a9de-49a720e2c293"
      },
      "execution_count": 146,
      "outputs": [
        {
          "output_type": "execute_result",
          "data": {
            "text/plain": [
              "No     1839\n",
              "yes     486\n",
              "Name: smoker, dtype: int64"
            ]
          },
          "metadata": {},
          "execution_count": 146
        }
      ]
    },
    {
      "cell_type": "code",
      "source": [
        "#we have some categorical values so first of all we have to transform them by using label encoder\n",
        "from sklearn.preprocessing import LabelEncoder"
      ],
      "metadata": {
        "id": "gwo7ca9CoZ3k"
      },
      "execution_count": 147,
      "outputs": []
    },
    {
      "cell_type": "code",
      "source": [
        "le = LabelEncoder()"
      ],
      "metadata": {
        "id": "H9ahMT0XovX2"
      },
      "execution_count": 148,
      "outputs": []
    },
    {
      "cell_type": "code",
      "source": [
        "final_df[\"Heart Issues\"] = le.fit_transform(final_df[\"Heart Issues\"])\n",
        "final_df[\"Any Transplants\"] = le.fit_transform(final_df[\"Any Transplants\"])\n",
        "final_df[\"Cancer history\"] = le.fit_transform(final_df[\"Cancer history\"])\n",
        "final_df[\"smoker\"] = le.fit_transform(final_df[\"smoker\"])"
      ],
      "metadata": {
        "id": "3RrgxSYkoy3o"
      },
      "execution_count": 149,
      "outputs": []
    },
    {
      "cell_type": "code",
      "source": [
        "final_df[\"Heart Issues\"].value_counts()"
      ],
      "metadata": {
        "colab": {
          "base_uri": "https://localhost:8080/"
        },
        "id": "ax4ghheMpXSs",
        "outputId": "a300d678-468f-4d62-cb64-deda260b1abb"
      },
      "execution_count": 150,
      "outputs": [
        {
          "output_type": "execute_result",
          "data": {
            "text/plain": [
              "0    1405\n",
              "1     920\n",
              "Name: Heart Issues, dtype: int64"
            ]
          },
          "metadata": {},
          "execution_count": 150
        }
      ]
    },
    {
      "cell_type": "code",
      "source": [
        "final_df[\"Any Transplants\"].value_counts()"
      ],
      "metadata": {
        "colab": {
          "base_uri": "https://localhost:8080/"
        },
        "id": "QSDIJn36pcQ3",
        "outputId": "480f025b-a1d5-4224-a653-b2c1f778fdb0"
      },
      "execution_count": 151,
      "outputs": [
        {
          "output_type": "execute_result",
          "data": {
            "text/plain": [
              "0    2183\n",
              "1     142\n",
              "Name: Any Transplants, dtype: int64"
            ]
          },
          "metadata": {},
          "execution_count": 151
        }
      ]
    },
    {
      "cell_type": "code",
      "source": [
        "final_df[\"Cancer history\"].value_counts()"
      ],
      "metadata": {
        "colab": {
          "base_uri": "https://localhost:8080/"
        },
        "id": "lmzTm7cCphkH",
        "outputId": "ff98838b-31f3-44cd-fa38-dbad8f81f3a2"
      },
      "execution_count": 152,
      "outputs": [
        {
          "output_type": "execute_result",
          "data": {
            "text/plain": [
              "0    1934\n",
              "1     391\n",
              "Name: Cancer history, dtype: int64"
            ]
          },
          "metadata": {},
          "execution_count": 152
        }
      ]
    },
    {
      "cell_type": "code",
      "source": [
        "final_df[\"smoker\"].value_counts()"
      ],
      "metadata": {
        "colab": {
          "base_uri": "https://localhost:8080/"
        },
        "id": "Ft2AgdOFpmOk",
        "outputId": "cbf8182d-8305-42a3-ebac-b7a8951417ac"
      },
      "execution_count": 153,
      "outputs": [
        {
          "output_type": "execute_result",
          "data": {
            "text/plain": [
              "0    1839\n",
              "1     486\n",
              "Name: smoker, dtype: int64"
            ]
          },
          "metadata": {},
          "execution_count": 153
        }
      ]
    },
    {
      "cell_type": "code",
      "source": [
        "final_df.head()"
      ],
      "metadata": {
        "colab": {
          "base_uri": "https://localhost:8080/",
          "height": 424
        },
        "id": "tI8BO8OypoqY",
        "outputId": "4bfb6323-9b52-4612-b545-72ea333b72c3"
      },
      "execution_count": 154,
      "outputs": [
        {
          "output_type": "execute_result",
          "data": {
            "text/plain": [
              "  Customer ID                    name  year month  date  children   charges  \\\n",
              "0         Id1       Hawks, Ms.  Kelly  1968   Oct    12         0  63770.43   \n",
              "1         Id2  Lehner, Mr.  Matthew D  1977   Jun     8         0  62592.87   \n",
              "3         Id4    Osborne, Ms.  Kelsey  1991   Jun     6         1  58571.07   \n",
              "4         Id5    Kadala, Ms.  Kristyn  1989   Jun    19         0  55135.40   \n",
              "5         Id6  Baker, Mr.  Russell B.  1962   Aug     4         0  52590.83   \n",
              "\n",
              "  Hospital tier City tier State ID     BMI  HBA1C  Heart Issues  \\\n",
              "0      tier - 1  tier - 3    R1013  47.410   7.47             0   \n",
              "1      tier - 2  tier - 3    R1013  30.360   5.77             0   \n",
              "3      tier - 1  tier - 3    R1024  38.095   6.05             0   \n",
              "4      tier - 1  tier - 2    R1012  35.530   5.45             0   \n",
              "5      tier - 1  tier - 3    R1011  32.800   6.59             0   \n",
              "\n",
              "   Any Transplants  Cancer history NumberOfMajorSurgeries  smoker  \n",
              "0                0               0       No major surgery       1  \n",
              "1                0               0       No major surgery       1  \n",
              "3                0               0       No major surgery       1  \n",
              "4                0               0       No major surgery       1  \n",
              "5                0               0       No major surgery       1  "
            ],
            "text/html": [
              "\n",
              "  <div id=\"df-ea4af026-2c9b-41be-8fc0-38c3ec5a5289\">\n",
              "    <div class=\"colab-df-container\">\n",
              "      <div>\n",
              "<style scoped>\n",
              "    .dataframe tbody tr th:only-of-type {\n",
              "        vertical-align: middle;\n",
              "    }\n",
              "\n",
              "    .dataframe tbody tr th {\n",
              "        vertical-align: top;\n",
              "    }\n",
              "\n",
              "    .dataframe thead th {\n",
              "        text-align: right;\n",
              "    }\n",
              "</style>\n",
              "<table border=\"1\" class=\"dataframe\">\n",
              "  <thead>\n",
              "    <tr style=\"text-align: right;\">\n",
              "      <th></th>\n",
              "      <th>Customer ID</th>\n",
              "      <th>name</th>\n",
              "      <th>year</th>\n",
              "      <th>month</th>\n",
              "      <th>date</th>\n",
              "      <th>children</th>\n",
              "      <th>charges</th>\n",
              "      <th>Hospital tier</th>\n",
              "      <th>City tier</th>\n",
              "      <th>State ID</th>\n",
              "      <th>BMI</th>\n",
              "      <th>HBA1C</th>\n",
              "      <th>Heart Issues</th>\n",
              "      <th>Any Transplants</th>\n",
              "      <th>Cancer history</th>\n",
              "      <th>NumberOfMajorSurgeries</th>\n",
              "      <th>smoker</th>\n",
              "    </tr>\n",
              "  </thead>\n",
              "  <tbody>\n",
              "    <tr>\n",
              "      <th>0</th>\n",
              "      <td>Id1</td>\n",
              "      <td>Hawks, Ms.  Kelly</td>\n",
              "      <td>1968</td>\n",
              "      <td>Oct</td>\n",
              "      <td>12</td>\n",
              "      <td>0</td>\n",
              "      <td>63770.43</td>\n",
              "      <td>tier - 1</td>\n",
              "      <td>tier - 3</td>\n",
              "      <td>R1013</td>\n",
              "      <td>47.410</td>\n",
              "      <td>7.47</td>\n",
              "      <td>0</td>\n",
              "      <td>0</td>\n",
              "      <td>0</td>\n",
              "      <td>No major surgery</td>\n",
              "      <td>1</td>\n",
              "    </tr>\n",
              "    <tr>\n",
              "      <th>1</th>\n",
              "      <td>Id2</td>\n",
              "      <td>Lehner, Mr.  Matthew D</td>\n",
              "      <td>1977</td>\n",
              "      <td>Jun</td>\n",
              "      <td>8</td>\n",
              "      <td>0</td>\n",
              "      <td>62592.87</td>\n",
              "      <td>tier - 2</td>\n",
              "      <td>tier - 3</td>\n",
              "      <td>R1013</td>\n",
              "      <td>30.360</td>\n",
              "      <td>5.77</td>\n",
              "      <td>0</td>\n",
              "      <td>0</td>\n",
              "      <td>0</td>\n",
              "      <td>No major surgery</td>\n",
              "      <td>1</td>\n",
              "    </tr>\n",
              "    <tr>\n",
              "      <th>3</th>\n",
              "      <td>Id4</td>\n",
              "      <td>Osborne, Ms.  Kelsey</td>\n",
              "      <td>1991</td>\n",
              "      <td>Jun</td>\n",
              "      <td>6</td>\n",
              "      <td>1</td>\n",
              "      <td>58571.07</td>\n",
              "      <td>tier - 1</td>\n",
              "      <td>tier - 3</td>\n",
              "      <td>R1024</td>\n",
              "      <td>38.095</td>\n",
              "      <td>6.05</td>\n",
              "      <td>0</td>\n",
              "      <td>0</td>\n",
              "      <td>0</td>\n",
              "      <td>No major surgery</td>\n",
              "      <td>1</td>\n",
              "    </tr>\n",
              "    <tr>\n",
              "      <th>4</th>\n",
              "      <td>Id5</td>\n",
              "      <td>Kadala, Ms.  Kristyn</td>\n",
              "      <td>1989</td>\n",
              "      <td>Jun</td>\n",
              "      <td>19</td>\n",
              "      <td>0</td>\n",
              "      <td>55135.40</td>\n",
              "      <td>tier - 1</td>\n",
              "      <td>tier - 2</td>\n",
              "      <td>R1012</td>\n",
              "      <td>35.530</td>\n",
              "      <td>5.45</td>\n",
              "      <td>0</td>\n",
              "      <td>0</td>\n",
              "      <td>0</td>\n",
              "      <td>No major surgery</td>\n",
              "      <td>1</td>\n",
              "    </tr>\n",
              "    <tr>\n",
              "      <th>5</th>\n",
              "      <td>Id6</td>\n",
              "      <td>Baker, Mr.  Russell B.</td>\n",
              "      <td>1962</td>\n",
              "      <td>Aug</td>\n",
              "      <td>4</td>\n",
              "      <td>0</td>\n",
              "      <td>52590.83</td>\n",
              "      <td>tier - 1</td>\n",
              "      <td>tier - 3</td>\n",
              "      <td>R1011</td>\n",
              "      <td>32.800</td>\n",
              "      <td>6.59</td>\n",
              "      <td>0</td>\n",
              "      <td>0</td>\n",
              "      <td>0</td>\n",
              "      <td>No major surgery</td>\n",
              "      <td>1</td>\n",
              "    </tr>\n",
              "  </tbody>\n",
              "</table>\n",
              "</div>\n",
              "      <button class=\"colab-df-convert\" onclick=\"convertToInteractive('df-ea4af026-2c9b-41be-8fc0-38c3ec5a5289')\"\n",
              "              title=\"Convert this dataframe to an interactive table.\"\n",
              "              style=\"display:none;\">\n",
              "        \n",
              "  <svg xmlns=\"http://www.w3.org/2000/svg\" height=\"24px\"viewBox=\"0 0 24 24\"\n",
              "       width=\"24px\">\n",
              "    <path d=\"M0 0h24v24H0V0z\" fill=\"none\"/>\n",
              "    <path d=\"M18.56 5.44l.94 2.06.94-2.06 2.06-.94-2.06-.94-.94-2.06-.94 2.06-2.06.94zm-11 1L8.5 8.5l.94-2.06 2.06-.94-2.06-.94L8.5 2.5l-.94 2.06-2.06.94zm10 10l.94 2.06.94-2.06 2.06-.94-2.06-.94-.94-2.06-.94 2.06-2.06.94z\"/><path d=\"M17.41 7.96l-1.37-1.37c-.4-.4-.92-.59-1.43-.59-.52 0-1.04.2-1.43.59L10.3 9.45l-7.72 7.72c-.78.78-.78 2.05 0 2.83L4 21.41c.39.39.9.59 1.41.59.51 0 1.02-.2 1.41-.59l7.78-7.78 2.81-2.81c.8-.78.8-2.07 0-2.86zM5.41 20L4 18.59l7.72-7.72 1.47 1.35L5.41 20z\"/>\n",
              "  </svg>\n",
              "      </button>\n",
              "      \n",
              "  <style>\n",
              "    .colab-df-container {\n",
              "      display:flex;\n",
              "      flex-wrap:wrap;\n",
              "      gap: 12px;\n",
              "    }\n",
              "\n",
              "    .colab-df-convert {\n",
              "      background-color: #E8F0FE;\n",
              "      border: none;\n",
              "      border-radius: 50%;\n",
              "      cursor: pointer;\n",
              "      display: none;\n",
              "      fill: #1967D2;\n",
              "      height: 32px;\n",
              "      padding: 0 0 0 0;\n",
              "      width: 32px;\n",
              "    }\n",
              "\n",
              "    .colab-df-convert:hover {\n",
              "      background-color: #E2EBFA;\n",
              "      box-shadow: 0px 1px 2px rgba(60, 64, 67, 0.3), 0px 1px 3px 1px rgba(60, 64, 67, 0.15);\n",
              "      fill: #174EA6;\n",
              "    }\n",
              "\n",
              "    [theme=dark] .colab-df-convert {\n",
              "      background-color: #3B4455;\n",
              "      fill: #D2E3FC;\n",
              "    }\n",
              "\n",
              "    [theme=dark] .colab-df-convert:hover {\n",
              "      background-color: #434B5C;\n",
              "      box-shadow: 0px 1px 3px 1px rgba(0, 0, 0, 0.15);\n",
              "      filter: drop-shadow(0px 1px 2px rgba(0, 0, 0, 0.3));\n",
              "      fill: #FFFFFF;\n",
              "    }\n",
              "  </style>\n",
              "\n",
              "      <script>\n",
              "        const buttonEl =\n",
              "          document.querySelector('#df-ea4af026-2c9b-41be-8fc0-38c3ec5a5289 button.colab-df-convert');\n",
              "        buttonEl.style.display =\n",
              "          google.colab.kernel.accessAllowed ? 'block' : 'none';\n",
              "\n",
              "        async function convertToInteractive(key) {\n",
              "          const element = document.querySelector('#df-ea4af026-2c9b-41be-8fc0-38c3ec5a5289');\n",
              "          const dataTable =\n",
              "            await google.colab.kernel.invokeFunction('convertToInteractive',\n",
              "                                                     [key], {});\n",
              "          if (!dataTable) return;\n",
              "\n",
              "          const docLinkHtml = 'Like what you see? Visit the ' +\n",
              "            '<a target=\"_blank\" href=https://colab.research.google.com/notebooks/data_table.ipynb>data table notebook</a>'\n",
              "            + ' to learn more about interactive tables.';\n",
              "          element.innerHTML = '';\n",
              "          dataTable['output_type'] = 'display_data';\n",
              "          await google.colab.output.renderOutput(dataTable, element);\n",
              "          const docLink = document.createElement('div');\n",
              "          docLink.innerHTML = docLinkHtml;\n",
              "          element.appendChild(docLink);\n",
              "        }\n",
              "      </script>\n",
              "    </div>\n",
              "  </div>\n",
              "  "
            ]
          },
          "metadata": {},
          "execution_count": 154
        }
      ]
    },
    {
      "cell_type": "markdown",
      "source": [
        "#now we deal with ordinal categorical variables"
      ],
      "metadata": {
        "id": "vwgVu_bXp_JB"
      }
    },
    {
      "cell_type": "code",
      "source": [
        "def clean_ordinal_variable(val):\n",
        "  return int(val.replace(\"tier\", \"\").replace(\" \",\"\").replace(\"-\", \"\"))"
      ],
      "metadata": {
        "id": "Jgi5-nGapuPM"
      },
      "execution_count": 155,
      "outputs": []
    },
    {
      "cell_type": "code",
      "source": [
        "final_df[\"Hospital tier\"] = final_df[\"Hospital tier\"].map(clean_ordinal_variable)\n",
        "final_df[\"City tier\"] = final_df[\"City tier\"].map(clean_ordinal_variable)"
      ],
      "metadata": {
        "id": "JqsP8gZ6qXRx"
      },
      "execution_count": 156,
      "outputs": []
    },
    {
      "cell_type": "code",
      "source": [
        "final_df[\"Hospital tier\"].value_counts()"
      ],
      "metadata": {
        "colab": {
          "base_uri": "https://localhost:8080/"
        },
        "id": "Kuctn4w5qsHs",
        "outputId": "bbfa89be-05ae-4815-d1d5-1f6ae1c8ac19"
      },
      "execution_count": 157,
      "outputs": [
        {
          "output_type": "execute_result",
          "data": {
            "text/plain": [
              "2    1334\n",
              "3     691\n",
              "1     300\n",
              "Name: Hospital tier, dtype: int64"
            ]
          },
          "metadata": {},
          "execution_count": 157
        }
      ]
    },
    {
      "cell_type": "code",
      "source": [
        "final_df[\"City tier\"].value_counts()"
      ],
      "metadata": {
        "colab": {
          "base_uri": "https://localhost:8080/"
        },
        "id": "cl1CD3lXqw6n",
        "outputId": "c09bac1e-a944-403a-c550-8f022ad8ef5b"
      },
      "execution_count": 158,
      "outputs": [
        {
          "output_type": "execute_result",
          "data": {
            "text/plain": [
              "2    807\n",
              "3    789\n",
              "1    729\n",
              "Name: City tier, dtype: int64"
            ]
          },
          "metadata": {},
          "execution_count": 158
        }
      ]
    },
    {
      "cell_type": "code",
      "source": [
        "final_df.head()"
      ],
      "metadata": {
        "colab": {
          "base_uri": "https://localhost:8080/",
          "height": 424
        },
        "id": "Oztqb5pnq2qM",
        "outputId": "f6a40a3a-fb20-45cd-f908-70ba5536f351"
      },
      "execution_count": 159,
      "outputs": [
        {
          "output_type": "execute_result",
          "data": {
            "text/plain": [
              "  Customer ID                    name  year month  date  children   charges  \\\n",
              "0         Id1       Hawks, Ms.  Kelly  1968   Oct    12         0  63770.43   \n",
              "1         Id2  Lehner, Mr.  Matthew D  1977   Jun     8         0  62592.87   \n",
              "3         Id4    Osborne, Ms.  Kelsey  1991   Jun     6         1  58571.07   \n",
              "4         Id5    Kadala, Ms.  Kristyn  1989   Jun    19         0  55135.40   \n",
              "5         Id6  Baker, Mr.  Russell B.  1962   Aug     4         0  52590.83   \n",
              "\n",
              "   Hospital tier  City tier State ID     BMI  HBA1C  Heart Issues  \\\n",
              "0              1          3    R1013  47.410   7.47             0   \n",
              "1              2          3    R1013  30.360   5.77             0   \n",
              "3              1          3    R1024  38.095   6.05             0   \n",
              "4              1          2    R1012  35.530   5.45             0   \n",
              "5              1          3    R1011  32.800   6.59             0   \n",
              "\n",
              "   Any Transplants  Cancer history NumberOfMajorSurgeries  smoker  \n",
              "0                0               0       No major surgery       1  \n",
              "1                0               0       No major surgery       1  \n",
              "3                0               0       No major surgery       1  \n",
              "4                0               0       No major surgery       1  \n",
              "5                0               0       No major surgery       1  "
            ],
            "text/html": [
              "\n",
              "  <div id=\"df-90c0569a-239f-4933-9822-916477129cdf\">\n",
              "    <div class=\"colab-df-container\">\n",
              "      <div>\n",
              "<style scoped>\n",
              "    .dataframe tbody tr th:only-of-type {\n",
              "        vertical-align: middle;\n",
              "    }\n",
              "\n",
              "    .dataframe tbody tr th {\n",
              "        vertical-align: top;\n",
              "    }\n",
              "\n",
              "    .dataframe thead th {\n",
              "        text-align: right;\n",
              "    }\n",
              "</style>\n",
              "<table border=\"1\" class=\"dataframe\">\n",
              "  <thead>\n",
              "    <tr style=\"text-align: right;\">\n",
              "      <th></th>\n",
              "      <th>Customer ID</th>\n",
              "      <th>name</th>\n",
              "      <th>year</th>\n",
              "      <th>month</th>\n",
              "      <th>date</th>\n",
              "      <th>children</th>\n",
              "      <th>charges</th>\n",
              "      <th>Hospital tier</th>\n",
              "      <th>City tier</th>\n",
              "      <th>State ID</th>\n",
              "      <th>BMI</th>\n",
              "      <th>HBA1C</th>\n",
              "      <th>Heart Issues</th>\n",
              "      <th>Any Transplants</th>\n",
              "      <th>Cancer history</th>\n",
              "      <th>NumberOfMajorSurgeries</th>\n",
              "      <th>smoker</th>\n",
              "    </tr>\n",
              "  </thead>\n",
              "  <tbody>\n",
              "    <tr>\n",
              "      <th>0</th>\n",
              "      <td>Id1</td>\n",
              "      <td>Hawks, Ms.  Kelly</td>\n",
              "      <td>1968</td>\n",
              "      <td>Oct</td>\n",
              "      <td>12</td>\n",
              "      <td>0</td>\n",
              "      <td>63770.43</td>\n",
              "      <td>1</td>\n",
              "      <td>3</td>\n",
              "      <td>R1013</td>\n",
              "      <td>47.410</td>\n",
              "      <td>7.47</td>\n",
              "      <td>0</td>\n",
              "      <td>0</td>\n",
              "      <td>0</td>\n",
              "      <td>No major surgery</td>\n",
              "      <td>1</td>\n",
              "    </tr>\n",
              "    <tr>\n",
              "      <th>1</th>\n",
              "      <td>Id2</td>\n",
              "      <td>Lehner, Mr.  Matthew D</td>\n",
              "      <td>1977</td>\n",
              "      <td>Jun</td>\n",
              "      <td>8</td>\n",
              "      <td>0</td>\n",
              "      <td>62592.87</td>\n",
              "      <td>2</td>\n",
              "      <td>3</td>\n",
              "      <td>R1013</td>\n",
              "      <td>30.360</td>\n",
              "      <td>5.77</td>\n",
              "      <td>0</td>\n",
              "      <td>0</td>\n",
              "      <td>0</td>\n",
              "      <td>No major surgery</td>\n",
              "      <td>1</td>\n",
              "    </tr>\n",
              "    <tr>\n",
              "      <th>3</th>\n",
              "      <td>Id4</td>\n",
              "      <td>Osborne, Ms.  Kelsey</td>\n",
              "      <td>1991</td>\n",
              "      <td>Jun</td>\n",
              "      <td>6</td>\n",
              "      <td>1</td>\n",
              "      <td>58571.07</td>\n",
              "      <td>1</td>\n",
              "      <td>3</td>\n",
              "      <td>R1024</td>\n",
              "      <td>38.095</td>\n",
              "      <td>6.05</td>\n",
              "      <td>0</td>\n",
              "      <td>0</td>\n",
              "      <td>0</td>\n",
              "      <td>No major surgery</td>\n",
              "      <td>1</td>\n",
              "    </tr>\n",
              "    <tr>\n",
              "      <th>4</th>\n",
              "      <td>Id5</td>\n",
              "      <td>Kadala, Ms.  Kristyn</td>\n",
              "      <td>1989</td>\n",
              "      <td>Jun</td>\n",
              "      <td>19</td>\n",
              "      <td>0</td>\n",
              "      <td>55135.40</td>\n",
              "      <td>1</td>\n",
              "      <td>2</td>\n",
              "      <td>R1012</td>\n",
              "      <td>35.530</td>\n",
              "      <td>5.45</td>\n",
              "      <td>0</td>\n",
              "      <td>0</td>\n",
              "      <td>0</td>\n",
              "      <td>No major surgery</td>\n",
              "      <td>1</td>\n",
              "    </tr>\n",
              "    <tr>\n",
              "      <th>5</th>\n",
              "      <td>Id6</td>\n",
              "      <td>Baker, Mr.  Russell B.</td>\n",
              "      <td>1962</td>\n",
              "      <td>Aug</td>\n",
              "      <td>4</td>\n",
              "      <td>0</td>\n",
              "      <td>52590.83</td>\n",
              "      <td>1</td>\n",
              "      <td>3</td>\n",
              "      <td>R1011</td>\n",
              "      <td>32.800</td>\n",
              "      <td>6.59</td>\n",
              "      <td>0</td>\n",
              "      <td>0</td>\n",
              "      <td>0</td>\n",
              "      <td>No major surgery</td>\n",
              "      <td>1</td>\n",
              "    </tr>\n",
              "  </tbody>\n",
              "</table>\n",
              "</div>\n",
              "      <button class=\"colab-df-convert\" onclick=\"convertToInteractive('df-90c0569a-239f-4933-9822-916477129cdf')\"\n",
              "              title=\"Convert this dataframe to an interactive table.\"\n",
              "              style=\"display:none;\">\n",
              "        \n",
              "  <svg xmlns=\"http://www.w3.org/2000/svg\" height=\"24px\"viewBox=\"0 0 24 24\"\n",
              "       width=\"24px\">\n",
              "    <path d=\"M0 0h24v24H0V0z\" fill=\"none\"/>\n",
              "    <path d=\"M18.56 5.44l.94 2.06.94-2.06 2.06-.94-2.06-.94-.94-2.06-.94 2.06-2.06.94zm-11 1L8.5 8.5l.94-2.06 2.06-.94-2.06-.94L8.5 2.5l-.94 2.06-2.06.94zm10 10l.94 2.06.94-2.06 2.06-.94-2.06-.94-.94-2.06-.94 2.06-2.06.94z\"/><path d=\"M17.41 7.96l-1.37-1.37c-.4-.4-.92-.59-1.43-.59-.52 0-1.04.2-1.43.59L10.3 9.45l-7.72 7.72c-.78.78-.78 2.05 0 2.83L4 21.41c.39.39.9.59 1.41.59.51 0 1.02-.2 1.41-.59l7.78-7.78 2.81-2.81c.8-.78.8-2.07 0-2.86zM5.41 20L4 18.59l7.72-7.72 1.47 1.35L5.41 20z\"/>\n",
              "  </svg>\n",
              "      </button>\n",
              "      \n",
              "  <style>\n",
              "    .colab-df-container {\n",
              "      display:flex;\n",
              "      flex-wrap:wrap;\n",
              "      gap: 12px;\n",
              "    }\n",
              "\n",
              "    .colab-df-convert {\n",
              "      background-color: #E8F0FE;\n",
              "      border: none;\n",
              "      border-radius: 50%;\n",
              "      cursor: pointer;\n",
              "      display: none;\n",
              "      fill: #1967D2;\n",
              "      height: 32px;\n",
              "      padding: 0 0 0 0;\n",
              "      width: 32px;\n",
              "    }\n",
              "\n",
              "    .colab-df-convert:hover {\n",
              "      background-color: #E2EBFA;\n",
              "      box-shadow: 0px 1px 2px rgba(60, 64, 67, 0.3), 0px 1px 3px 1px rgba(60, 64, 67, 0.15);\n",
              "      fill: #174EA6;\n",
              "    }\n",
              "\n",
              "    [theme=dark] .colab-df-convert {\n",
              "      background-color: #3B4455;\n",
              "      fill: #D2E3FC;\n",
              "    }\n",
              "\n",
              "    [theme=dark] .colab-df-convert:hover {\n",
              "      background-color: #434B5C;\n",
              "      box-shadow: 0px 1px 3px 1px rgba(0, 0, 0, 0.15);\n",
              "      filter: drop-shadow(0px 1px 2px rgba(0, 0, 0, 0.3));\n",
              "      fill: #FFFFFF;\n",
              "    }\n",
              "  </style>\n",
              "\n",
              "      <script>\n",
              "        const buttonEl =\n",
              "          document.querySelector('#df-90c0569a-239f-4933-9822-916477129cdf button.colab-df-convert');\n",
              "        buttonEl.style.display =\n",
              "          google.colab.kernel.accessAllowed ? 'block' : 'none';\n",
              "\n",
              "        async function convertToInteractive(key) {\n",
              "          const element = document.querySelector('#df-90c0569a-239f-4933-9822-916477129cdf');\n",
              "          const dataTable =\n",
              "            await google.colab.kernel.invokeFunction('convertToInteractive',\n",
              "                                                     [key], {});\n",
              "          if (!dataTable) return;\n",
              "\n",
              "          const docLinkHtml = 'Like what you see? Visit the ' +\n",
              "            '<a target=\"_blank\" href=https://colab.research.google.com/notebooks/data_table.ipynb>data table notebook</a>'\n",
              "            + ' to learn more about interactive tables.';\n",
              "          element.innerHTML = '';\n",
              "          dataTable['output_type'] = 'display_data';\n",
              "          await google.colab.output.renderOutput(dataTable, element);\n",
              "          const docLink = document.createElement('div');\n",
              "          docLink.innerHTML = docLinkHtml;\n",
              "          element.appendChild(docLink);\n",
              "        }\n",
              "      </script>\n",
              "    </div>\n",
              "  </div>\n",
              "  "
            ]
          },
          "metadata": {},
          "execution_count": 159
        }
      ]
    },
    {
      "cell_type": "markdown",
      "source": [
        "#5. The dataset has State ID, which has around 16 states. All states are not represented in equal proportions in the data. Creating dummy variables for all regions may also result in too many insignificant predictors. Nevertheless, only R1011, R1012, and R1013 are worth investigating further. Create a suitable strategy to create dummy variables with these restraints."
      ],
      "metadata": {
        "id": "rkHKTFJdq_Re"
      }
    },
    {
      "cell_type": "code",
      "source": [
        "final_df[\"State ID\"].value_counts()"
      ],
      "metadata": {
        "colab": {
          "base_uri": "https://localhost:8080/"
        },
        "id": "4fDy-tOXq43B",
        "outputId": "2c70ffdb-624d-4212-e91a-e31a8f8fc351"
      },
      "execution_count": 160,
      "outputs": [
        {
          "output_type": "execute_result",
          "data": {
            "text/plain": [
              "R1013    609\n",
              "R1011    574\n",
              "R1012    572\n",
              "R1024    159\n",
              "R1026     84\n",
              "R1021     70\n",
              "R1016     64\n",
              "R1025     40\n",
              "R1023     38\n",
              "R1017     36\n",
              "R1019     26\n",
              "R1022     14\n",
              "R1014     13\n",
              "R1015     11\n",
              "R1018      9\n",
              "R1020      6\n",
              "Name: State ID, dtype: int64"
            ]
          },
          "metadata": {},
          "execution_count": 160
        }
      ]
    },
    {
      "cell_type": "markdown",
      "source": [
        "It is clear from the above code some of the state is worth investigator like R1013, R1012, R1011 and R1024."
      ],
      "metadata": {
        "id": "hnRP_gV1rKZX"
      }
    },
    {
      "cell_type": "code",
      "source": [
        "dummies = pd.get_dummies(final_df[\"State ID\"], prefix = \"State ID\")"
      ],
      "metadata": {
        "id": "2vw3TseWrILV"
      },
      "execution_count": 161,
      "outputs": []
    },
    {
      "cell_type": "code",
      "source": [
        "dummies"
      ],
      "metadata": {
        "colab": {
          "base_uri": "https://localhost:8080/",
          "height": 505
        },
        "id": "d4Q9NfsLrZ3d",
        "outputId": "d8cd6d76-fbea-4c1c-d265-b128df4eda29"
      },
      "execution_count": 162,
      "outputs": [
        {
          "output_type": "execute_result",
          "data": {
            "text/plain": [
              "      State ID_R1011  State ID_R1012  State ID_R1013  State ID_R1014  \\\n",
              "0                  0               0               1               0   \n",
              "1                  0               0               1               0   \n",
              "3                  0               0               0               0   \n",
              "4                  0               1               0               0   \n",
              "5                  1               0               0               0   \n",
              "...              ...             ...             ...             ...   \n",
              "2330               0               0               1               0   \n",
              "2331               0               0               1               0   \n",
              "2332               0               0               1               0   \n",
              "2333               0               0               1               0   \n",
              "2334               0               0               1               0   \n",
              "\n",
              "      State ID_R1015  State ID_R1016  State ID_R1017  State ID_R1018  \\\n",
              "0                  0               0               0               0   \n",
              "1                  0               0               0               0   \n",
              "3                  0               0               0               0   \n",
              "4                  0               0               0               0   \n",
              "5                  0               0               0               0   \n",
              "...              ...             ...             ...             ...   \n",
              "2330               0               0               0               0   \n",
              "2331               0               0               0               0   \n",
              "2332               0               0               0               0   \n",
              "2333               0               0               0               0   \n",
              "2334               0               0               0               0   \n",
              "\n",
              "      State ID_R1019  State ID_R1020  State ID_R1021  State ID_R1022  \\\n",
              "0                  0               0               0               0   \n",
              "1                  0               0               0               0   \n",
              "3                  0               0               0               0   \n",
              "4                  0               0               0               0   \n",
              "5                  0               0               0               0   \n",
              "...              ...             ...             ...             ...   \n",
              "2330               0               0               0               0   \n",
              "2331               0               0               0               0   \n",
              "2332               0               0               0               0   \n",
              "2333               0               0               0               0   \n",
              "2334               0               0               0               0   \n",
              "\n",
              "      State ID_R1023  State ID_R1024  State ID_R1025  State ID_R1026  \n",
              "0                  0               0               0               0  \n",
              "1                  0               0               0               0  \n",
              "3                  0               1               0               0  \n",
              "4                  0               0               0               0  \n",
              "5                  0               0               0               0  \n",
              "...              ...             ...             ...             ...  \n",
              "2330               0               0               0               0  \n",
              "2331               0               0               0               0  \n",
              "2332               0               0               0               0  \n",
              "2333               0               0               0               0  \n",
              "2334               0               0               0               0  \n",
              "\n",
              "[2325 rows x 16 columns]"
            ],
            "text/html": [
              "\n",
              "  <div id=\"df-adf725b8-deeb-4afd-abf0-a66eddcedf09\">\n",
              "    <div class=\"colab-df-container\">\n",
              "      <div>\n",
              "<style scoped>\n",
              "    .dataframe tbody tr th:only-of-type {\n",
              "        vertical-align: middle;\n",
              "    }\n",
              "\n",
              "    .dataframe tbody tr th {\n",
              "        vertical-align: top;\n",
              "    }\n",
              "\n",
              "    .dataframe thead th {\n",
              "        text-align: right;\n",
              "    }\n",
              "</style>\n",
              "<table border=\"1\" class=\"dataframe\">\n",
              "  <thead>\n",
              "    <tr style=\"text-align: right;\">\n",
              "      <th></th>\n",
              "      <th>State ID_R1011</th>\n",
              "      <th>State ID_R1012</th>\n",
              "      <th>State ID_R1013</th>\n",
              "      <th>State ID_R1014</th>\n",
              "      <th>State ID_R1015</th>\n",
              "      <th>State ID_R1016</th>\n",
              "      <th>State ID_R1017</th>\n",
              "      <th>State ID_R1018</th>\n",
              "      <th>State ID_R1019</th>\n",
              "      <th>State ID_R1020</th>\n",
              "      <th>State ID_R1021</th>\n",
              "      <th>State ID_R1022</th>\n",
              "      <th>State ID_R1023</th>\n",
              "      <th>State ID_R1024</th>\n",
              "      <th>State ID_R1025</th>\n",
              "      <th>State ID_R1026</th>\n",
              "    </tr>\n",
              "  </thead>\n",
              "  <tbody>\n",
              "    <tr>\n",
              "      <th>0</th>\n",
              "      <td>0</td>\n",
              "      <td>0</td>\n",
              "      <td>1</td>\n",
              "      <td>0</td>\n",
              "      <td>0</td>\n",
              "      <td>0</td>\n",
              "      <td>0</td>\n",
              "      <td>0</td>\n",
              "      <td>0</td>\n",
              "      <td>0</td>\n",
              "      <td>0</td>\n",
              "      <td>0</td>\n",
              "      <td>0</td>\n",
              "      <td>0</td>\n",
              "      <td>0</td>\n",
              "      <td>0</td>\n",
              "    </tr>\n",
              "    <tr>\n",
              "      <th>1</th>\n",
              "      <td>0</td>\n",
              "      <td>0</td>\n",
              "      <td>1</td>\n",
              "      <td>0</td>\n",
              "      <td>0</td>\n",
              "      <td>0</td>\n",
              "      <td>0</td>\n",
              "      <td>0</td>\n",
              "      <td>0</td>\n",
              "      <td>0</td>\n",
              "      <td>0</td>\n",
              "      <td>0</td>\n",
              "      <td>0</td>\n",
              "      <td>0</td>\n",
              "      <td>0</td>\n",
              "      <td>0</td>\n",
              "    </tr>\n",
              "    <tr>\n",
              "      <th>3</th>\n",
              "      <td>0</td>\n",
              "      <td>0</td>\n",
              "      <td>0</td>\n",
              "      <td>0</td>\n",
              "      <td>0</td>\n",
              "      <td>0</td>\n",
              "      <td>0</td>\n",
              "      <td>0</td>\n",
              "      <td>0</td>\n",
              "      <td>0</td>\n",
              "      <td>0</td>\n",
              "      <td>0</td>\n",
              "      <td>0</td>\n",
              "      <td>1</td>\n",
              "      <td>0</td>\n",
              "      <td>0</td>\n",
              "    </tr>\n",
              "    <tr>\n",
              "      <th>4</th>\n",
              "      <td>0</td>\n",
              "      <td>1</td>\n",
              "      <td>0</td>\n",
              "      <td>0</td>\n",
              "      <td>0</td>\n",
              "      <td>0</td>\n",
              "      <td>0</td>\n",
              "      <td>0</td>\n",
              "      <td>0</td>\n",
              "      <td>0</td>\n",
              "      <td>0</td>\n",
              "      <td>0</td>\n",
              "      <td>0</td>\n",
              "      <td>0</td>\n",
              "      <td>0</td>\n",
              "      <td>0</td>\n",
              "    </tr>\n",
              "    <tr>\n",
              "      <th>5</th>\n",
              "      <td>1</td>\n",
              "      <td>0</td>\n",
              "      <td>0</td>\n",
              "      <td>0</td>\n",
              "      <td>0</td>\n",
              "      <td>0</td>\n",
              "      <td>0</td>\n",
              "      <td>0</td>\n",
              "      <td>0</td>\n",
              "      <td>0</td>\n",
              "      <td>0</td>\n",
              "      <td>0</td>\n",
              "      <td>0</td>\n",
              "      <td>0</td>\n",
              "      <td>0</td>\n",
              "      <td>0</td>\n",
              "    </tr>\n",
              "    <tr>\n",
              "      <th>...</th>\n",
              "      <td>...</td>\n",
              "      <td>...</td>\n",
              "      <td>...</td>\n",
              "      <td>...</td>\n",
              "      <td>...</td>\n",
              "      <td>...</td>\n",
              "      <td>...</td>\n",
              "      <td>...</td>\n",
              "      <td>...</td>\n",
              "      <td>...</td>\n",
              "      <td>...</td>\n",
              "      <td>...</td>\n",
              "      <td>...</td>\n",
              "      <td>...</td>\n",
              "      <td>...</td>\n",
              "      <td>...</td>\n",
              "    </tr>\n",
              "    <tr>\n",
              "      <th>2330</th>\n",
              "      <td>0</td>\n",
              "      <td>0</td>\n",
              "      <td>1</td>\n",
              "      <td>0</td>\n",
              "      <td>0</td>\n",
              "      <td>0</td>\n",
              "      <td>0</td>\n",
              "      <td>0</td>\n",
              "      <td>0</td>\n",
              "      <td>0</td>\n",
              "      <td>0</td>\n",
              "      <td>0</td>\n",
              "      <td>0</td>\n",
              "      <td>0</td>\n",
              "      <td>0</td>\n",
              "      <td>0</td>\n",
              "    </tr>\n",
              "    <tr>\n",
              "      <th>2331</th>\n",
              "      <td>0</td>\n",
              "      <td>0</td>\n",
              "      <td>1</td>\n",
              "      <td>0</td>\n",
              "      <td>0</td>\n",
              "      <td>0</td>\n",
              "      <td>0</td>\n",
              "      <td>0</td>\n",
              "      <td>0</td>\n",
              "      <td>0</td>\n",
              "      <td>0</td>\n",
              "      <td>0</td>\n",
              "      <td>0</td>\n",
              "      <td>0</td>\n",
              "      <td>0</td>\n",
              "      <td>0</td>\n",
              "    </tr>\n",
              "    <tr>\n",
              "      <th>2332</th>\n",
              "      <td>0</td>\n",
              "      <td>0</td>\n",
              "      <td>1</td>\n",
              "      <td>0</td>\n",
              "      <td>0</td>\n",
              "      <td>0</td>\n",
              "      <td>0</td>\n",
              "      <td>0</td>\n",
              "      <td>0</td>\n",
              "      <td>0</td>\n",
              "      <td>0</td>\n",
              "      <td>0</td>\n",
              "      <td>0</td>\n",
              "      <td>0</td>\n",
              "      <td>0</td>\n",
              "      <td>0</td>\n",
              "    </tr>\n",
              "    <tr>\n",
              "      <th>2333</th>\n",
              "      <td>0</td>\n",
              "      <td>0</td>\n",
              "      <td>1</td>\n",
              "      <td>0</td>\n",
              "      <td>0</td>\n",
              "      <td>0</td>\n",
              "      <td>0</td>\n",
              "      <td>0</td>\n",
              "      <td>0</td>\n",
              "      <td>0</td>\n",
              "      <td>0</td>\n",
              "      <td>0</td>\n",
              "      <td>0</td>\n",
              "      <td>0</td>\n",
              "      <td>0</td>\n",
              "      <td>0</td>\n",
              "    </tr>\n",
              "    <tr>\n",
              "      <th>2334</th>\n",
              "      <td>0</td>\n",
              "      <td>0</td>\n",
              "      <td>1</td>\n",
              "      <td>0</td>\n",
              "      <td>0</td>\n",
              "      <td>0</td>\n",
              "      <td>0</td>\n",
              "      <td>0</td>\n",
              "      <td>0</td>\n",
              "      <td>0</td>\n",
              "      <td>0</td>\n",
              "      <td>0</td>\n",
              "      <td>0</td>\n",
              "      <td>0</td>\n",
              "      <td>0</td>\n",
              "      <td>0</td>\n",
              "    </tr>\n",
              "  </tbody>\n",
              "</table>\n",
              "<p>2325 rows × 16 columns</p>\n",
              "</div>\n",
              "      <button class=\"colab-df-convert\" onclick=\"convertToInteractive('df-adf725b8-deeb-4afd-abf0-a66eddcedf09')\"\n",
              "              title=\"Convert this dataframe to an interactive table.\"\n",
              "              style=\"display:none;\">\n",
              "        \n",
              "  <svg xmlns=\"http://www.w3.org/2000/svg\" height=\"24px\"viewBox=\"0 0 24 24\"\n",
              "       width=\"24px\">\n",
              "    <path d=\"M0 0h24v24H0V0z\" fill=\"none\"/>\n",
              "    <path d=\"M18.56 5.44l.94 2.06.94-2.06 2.06-.94-2.06-.94-.94-2.06-.94 2.06-2.06.94zm-11 1L8.5 8.5l.94-2.06 2.06-.94-2.06-.94L8.5 2.5l-.94 2.06-2.06.94zm10 10l.94 2.06.94-2.06 2.06-.94-2.06-.94-.94-2.06-.94 2.06-2.06.94z\"/><path d=\"M17.41 7.96l-1.37-1.37c-.4-.4-.92-.59-1.43-.59-.52 0-1.04.2-1.43.59L10.3 9.45l-7.72 7.72c-.78.78-.78 2.05 0 2.83L4 21.41c.39.39.9.59 1.41.59.51 0 1.02-.2 1.41-.59l7.78-7.78 2.81-2.81c.8-.78.8-2.07 0-2.86zM5.41 20L4 18.59l7.72-7.72 1.47 1.35L5.41 20z\"/>\n",
              "  </svg>\n",
              "      </button>\n",
              "      \n",
              "  <style>\n",
              "    .colab-df-container {\n",
              "      display:flex;\n",
              "      flex-wrap:wrap;\n",
              "      gap: 12px;\n",
              "    }\n",
              "\n",
              "    .colab-df-convert {\n",
              "      background-color: #E8F0FE;\n",
              "      border: none;\n",
              "      border-radius: 50%;\n",
              "      cursor: pointer;\n",
              "      display: none;\n",
              "      fill: #1967D2;\n",
              "      height: 32px;\n",
              "      padding: 0 0 0 0;\n",
              "      width: 32px;\n",
              "    }\n",
              "\n",
              "    .colab-df-convert:hover {\n",
              "      background-color: #E2EBFA;\n",
              "      box-shadow: 0px 1px 2px rgba(60, 64, 67, 0.3), 0px 1px 3px 1px rgba(60, 64, 67, 0.15);\n",
              "      fill: #174EA6;\n",
              "    }\n",
              "\n",
              "    [theme=dark] .colab-df-convert {\n",
              "      background-color: #3B4455;\n",
              "      fill: #D2E3FC;\n",
              "    }\n",
              "\n",
              "    [theme=dark] .colab-df-convert:hover {\n",
              "      background-color: #434B5C;\n",
              "      box-shadow: 0px 1px 3px 1px rgba(0, 0, 0, 0.15);\n",
              "      filter: drop-shadow(0px 1px 2px rgba(0, 0, 0, 0.3));\n",
              "      fill: #FFFFFF;\n",
              "    }\n",
              "  </style>\n",
              "\n",
              "      <script>\n",
              "        const buttonEl =\n",
              "          document.querySelector('#df-adf725b8-deeb-4afd-abf0-a66eddcedf09 button.colab-df-convert');\n",
              "        buttonEl.style.display =\n",
              "          google.colab.kernel.accessAllowed ? 'block' : 'none';\n",
              "\n",
              "        async function convertToInteractive(key) {\n",
              "          const element = document.querySelector('#df-adf725b8-deeb-4afd-abf0-a66eddcedf09');\n",
              "          const dataTable =\n",
              "            await google.colab.kernel.invokeFunction('convertToInteractive',\n",
              "                                                     [key], {});\n",
              "          if (!dataTable) return;\n",
              "\n",
              "          const docLinkHtml = 'Like what you see? Visit the ' +\n",
              "            '<a target=\"_blank\" href=https://colab.research.google.com/notebooks/data_table.ipynb>data table notebook</a>'\n",
              "            + ' to learn more about interactive tables.';\n",
              "          element.innerHTML = '';\n",
              "          dataTable['output_type'] = 'display_data';\n",
              "          await google.colab.output.renderOutput(dataTable, element);\n",
              "          const docLink = document.createElement('div');\n",
              "          docLink.innerHTML = docLinkHtml;\n",
              "          element.appendChild(docLink);\n",
              "        }\n",
              "      </script>\n",
              "    </div>\n",
              "  </div>\n",
              "  "
            ]
          },
          "metadata": {},
          "execution_count": 162
        }
      ]
    },
    {
      "cell_type": "code",
      "source": [
        "#lets consider only those state id which plays significant role in the dataset\n",
        "dummy = dummies[['State ID_R1011', 'State ID_R1012', 'State ID_R1013']]\n",
        "dummy"
      ],
      "metadata": {
        "colab": {
          "base_uri": "https://localhost:8080/",
          "height": 424
        },
        "id": "JY0Btc4yrcR1",
        "outputId": "734c0da7-fab5-4b24-ae56-afa1104215f7"
      },
      "execution_count": 163,
      "outputs": [
        {
          "output_type": "execute_result",
          "data": {
            "text/plain": [
              "      State ID_R1011  State ID_R1012  State ID_R1013\n",
              "0                  0               0               1\n",
              "1                  0               0               1\n",
              "3                  0               0               0\n",
              "4                  0               1               0\n",
              "5                  1               0               0\n",
              "...              ...             ...             ...\n",
              "2330               0               0               1\n",
              "2331               0               0               1\n",
              "2332               0               0               1\n",
              "2333               0               0               1\n",
              "2334               0               0               1\n",
              "\n",
              "[2325 rows x 3 columns]"
            ],
            "text/html": [
              "\n",
              "  <div id=\"df-9219e90f-6d4e-4342-ab80-ea939712c525\">\n",
              "    <div class=\"colab-df-container\">\n",
              "      <div>\n",
              "<style scoped>\n",
              "    .dataframe tbody tr th:only-of-type {\n",
              "        vertical-align: middle;\n",
              "    }\n",
              "\n",
              "    .dataframe tbody tr th {\n",
              "        vertical-align: top;\n",
              "    }\n",
              "\n",
              "    .dataframe thead th {\n",
              "        text-align: right;\n",
              "    }\n",
              "</style>\n",
              "<table border=\"1\" class=\"dataframe\">\n",
              "  <thead>\n",
              "    <tr style=\"text-align: right;\">\n",
              "      <th></th>\n",
              "      <th>State ID_R1011</th>\n",
              "      <th>State ID_R1012</th>\n",
              "      <th>State ID_R1013</th>\n",
              "    </tr>\n",
              "  </thead>\n",
              "  <tbody>\n",
              "    <tr>\n",
              "      <th>0</th>\n",
              "      <td>0</td>\n",
              "      <td>0</td>\n",
              "      <td>1</td>\n",
              "    </tr>\n",
              "    <tr>\n",
              "      <th>1</th>\n",
              "      <td>0</td>\n",
              "      <td>0</td>\n",
              "      <td>1</td>\n",
              "    </tr>\n",
              "    <tr>\n",
              "      <th>3</th>\n",
              "      <td>0</td>\n",
              "      <td>0</td>\n",
              "      <td>0</td>\n",
              "    </tr>\n",
              "    <tr>\n",
              "      <th>4</th>\n",
              "      <td>0</td>\n",
              "      <td>1</td>\n",
              "      <td>0</td>\n",
              "    </tr>\n",
              "    <tr>\n",
              "      <th>5</th>\n",
              "      <td>1</td>\n",
              "      <td>0</td>\n",
              "      <td>0</td>\n",
              "    </tr>\n",
              "    <tr>\n",
              "      <th>...</th>\n",
              "      <td>...</td>\n",
              "      <td>...</td>\n",
              "      <td>...</td>\n",
              "    </tr>\n",
              "    <tr>\n",
              "      <th>2330</th>\n",
              "      <td>0</td>\n",
              "      <td>0</td>\n",
              "      <td>1</td>\n",
              "    </tr>\n",
              "    <tr>\n",
              "      <th>2331</th>\n",
              "      <td>0</td>\n",
              "      <td>0</td>\n",
              "      <td>1</td>\n",
              "    </tr>\n",
              "    <tr>\n",
              "      <th>2332</th>\n",
              "      <td>0</td>\n",
              "      <td>0</td>\n",
              "      <td>1</td>\n",
              "    </tr>\n",
              "    <tr>\n",
              "      <th>2333</th>\n",
              "      <td>0</td>\n",
              "      <td>0</td>\n",
              "      <td>1</td>\n",
              "    </tr>\n",
              "    <tr>\n",
              "      <th>2334</th>\n",
              "      <td>0</td>\n",
              "      <td>0</td>\n",
              "      <td>1</td>\n",
              "    </tr>\n",
              "  </tbody>\n",
              "</table>\n",
              "<p>2325 rows × 3 columns</p>\n",
              "</div>\n",
              "      <button class=\"colab-df-convert\" onclick=\"convertToInteractive('df-9219e90f-6d4e-4342-ab80-ea939712c525')\"\n",
              "              title=\"Convert this dataframe to an interactive table.\"\n",
              "              style=\"display:none;\">\n",
              "        \n",
              "  <svg xmlns=\"http://www.w3.org/2000/svg\" height=\"24px\"viewBox=\"0 0 24 24\"\n",
              "       width=\"24px\">\n",
              "    <path d=\"M0 0h24v24H0V0z\" fill=\"none\"/>\n",
              "    <path d=\"M18.56 5.44l.94 2.06.94-2.06 2.06-.94-2.06-.94-.94-2.06-.94 2.06-2.06.94zm-11 1L8.5 8.5l.94-2.06 2.06-.94-2.06-.94L8.5 2.5l-.94 2.06-2.06.94zm10 10l.94 2.06.94-2.06 2.06-.94-2.06-.94-.94-2.06-.94 2.06-2.06.94z\"/><path d=\"M17.41 7.96l-1.37-1.37c-.4-.4-.92-.59-1.43-.59-.52 0-1.04.2-1.43.59L10.3 9.45l-7.72 7.72c-.78.78-.78 2.05 0 2.83L4 21.41c.39.39.9.59 1.41.59.51 0 1.02-.2 1.41-.59l7.78-7.78 2.81-2.81c.8-.78.8-2.07 0-2.86zM5.41 20L4 18.59l7.72-7.72 1.47 1.35L5.41 20z\"/>\n",
              "  </svg>\n",
              "      </button>\n",
              "      \n",
              "  <style>\n",
              "    .colab-df-container {\n",
              "      display:flex;\n",
              "      flex-wrap:wrap;\n",
              "      gap: 12px;\n",
              "    }\n",
              "\n",
              "    .colab-df-convert {\n",
              "      background-color: #E8F0FE;\n",
              "      border: none;\n",
              "      border-radius: 50%;\n",
              "      cursor: pointer;\n",
              "      display: none;\n",
              "      fill: #1967D2;\n",
              "      height: 32px;\n",
              "      padding: 0 0 0 0;\n",
              "      width: 32px;\n",
              "    }\n",
              "\n",
              "    .colab-df-convert:hover {\n",
              "      background-color: #E2EBFA;\n",
              "      box-shadow: 0px 1px 2px rgba(60, 64, 67, 0.3), 0px 1px 3px 1px rgba(60, 64, 67, 0.15);\n",
              "      fill: #174EA6;\n",
              "    }\n",
              "\n",
              "    [theme=dark] .colab-df-convert {\n",
              "      background-color: #3B4455;\n",
              "      fill: #D2E3FC;\n",
              "    }\n",
              "\n",
              "    [theme=dark] .colab-df-convert:hover {\n",
              "      background-color: #434B5C;\n",
              "      box-shadow: 0px 1px 3px 1px rgba(0, 0, 0, 0.15);\n",
              "      filter: drop-shadow(0px 1px 2px rgba(0, 0, 0, 0.3));\n",
              "      fill: #FFFFFF;\n",
              "    }\n",
              "  </style>\n",
              "\n",
              "      <script>\n",
              "        const buttonEl =\n",
              "          document.querySelector('#df-9219e90f-6d4e-4342-ab80-ea939712c525 button.colab-df-convert');\n",
              "        buttonEl.style.display =\n",
              "          google.colab.kernel.accessAllowed ? 'block' : 'none';\n",
              "\n",
              "        async function convertToInteractive(key) {\n",
              "          const element = document.querySelector('#df-9219e90f-6d4e-4342-ab80-ea939712c525');\n",
              "          const dataTable =\n",
              "            await google.colab.kernel.invokeFunction('convertToInteractive',\n",
              "                                                     [key], {});\n",
              "          if (!dataTable) return;\n",
              "\n",
              "          const docLinkHtml = 'Like what you see? Visit the ' +\n",
              "            '<a target=\"_blank\" href=https://colab.research.google.com/notebooks/data_table.ipynb>data table notebook</a>'\n",
              "            + ' to learn more about interactive tables.';\n",
              "          element.innerHTML = '';\n",
              "          dataTable['output_type'] = 'display_data';\n",
              "          await google.colab.output.renderOutput(dataTable, element);\n",
              "          const docLink = document.createElement('div');\n",
              "          docLink.innerHTML = docLinkHtml;\n",
              "          element.appendChild(docLink);\n",
              "        }\n",
              "      </script>\n",
              "    </div>\n",
              "  </div>\n",
              "  "
            ]
          },
          "metadata": {},
          "execution_count": 163
        }
      ]
    },
    {
      "cell_type": "code",
      "source": [
        "final_df = pd.concat([final_df, dummy], axis = 1)"
      ],
      "metadata": {
        "id": "zK8k_VK8r-Pq"
      },
      "execution_count": 164,
      "outputs": []
    },
    {
      "cell_type": "code",
      "source": [
        "final_df.drop(['State ID'], inplace = True, axis = 1)"
      ],
      "metadata": {
        "id": "c_4geYAmsIvW"
      },
      "execution_count": 165,
      "outputs": []
    },
    {
      "cell_type": "code",
      "source": [
        "final_df.head()"
      ],
      "metadata": {
        "colab": {
          "base_uri": "https://localhost:8080/",
          "height": 478
        },
        "id": "6KLCYt8ssZQm",
        "outputId": "f047191b-7565-4156-ed52-adbf97bf30d2"
      },
      "execution_count": 166,
      "outputs": [
        {
          "output_type": "execute_result",
          "data": {
            "text/plain": [
              "  Customer ID                    name  year month  date  children   charges  \\\n",
              "0         Id1       Hawks, Ms.  Kelly  1968   Oct    12         0  63770.43   \n",
              "1         Id2  Lehner, Mr.  Matthew D  1977   Jun     8         0  62592.87   \n",
              "3         Id4    Osborne, Ms.  Kelsey  1991   Jun     6         1  58571.07   \n",
              "4         Id5    Kadala, Ms.  Kristyn  1989   Jun    19         0  55135.40   \n",
              "5         Id6  Baker, Mr.  Russell B.  1962   Aug     4         0  52590.83   \n",
              "\n",
              "   Hospital tier  City tier     BMI  HBA1C  Heart Issues  Any Transplants  \\\n",
              "0              1          3  47.410   7.47             0                0   \n",
              "1              2          3  30.360   5.77             0                0   \n",
              "3              1          3  38.095   6.05             0                0   \n",
              "4              1          2  35.530   5.45             0                0   \n",
              "5              1          3  32.800   6.59             0                0   \n",
              "\n",
              "   Cancer history NumberOfMajorSurgeries  smoker  State ID_R1011  \\\n",
              "0               0       No major surgery       1               0   \n",
              "1               0       No major surgery       1               0   \n",
              "3               0       No major surgery       1               0   \n",
              "4               0       No major surgery       1               0   \n",
              "5               0       No major surgery       1               1   \n",
              "\n",
              "   State ID_R1012  State ID_R1013  \n",
              "0               0               1  \n",
              "1               0               1  \n",
              "3               0               0  \n",
              "4               1               0  \n",
              "5               0               0  "
            ],
            "text/html": [
              "\n",
              "  <div id=\"df-cd571030-a8e8-462a-b2e4-e06397a18abb\">\n",
              "    <div class=\"colab-df-container\">\n",
              "      <div>\n",
              "<style scoped>\n",
              "    .dataframe tbody tr th:only-of-type {\n",
              "        vertical-align: middle;\n",
              "    }\n",
              "\n",
              "    .dataframe tbody tr th {\n",
              "        vertical-align: top;\n",
              "    }\n",
              "\n",
              "    .dataframe thead th {\n",
              "        text-align: right;\n",
              "    }\n",
              "</style>\n",
              "<table border=\"1\" class=\"dataframe\">\n",
              "  <thead>\n",
              "    <tr style=\"text-align: right;\">\n",
              "      <th></th>\n",
              "      <th>Customer ID</th>\n",
              "      <th>name</th>\n",
              "      <th>year</th>\n",
              "      <th>month</th>\n",
              "      <th>date</th>\n",
              "      <th>children</th>\n",
              "      <th>charges</th>\n",
              "      <th>Hospital tier</th>\n",
              "      <th>City tier</th>\n",
              "      <th>BMI</th>\n",
              "      <th>HBA1C</th>\n",
              "      <th>Heart Issues</th>\n",
              "      <th>Any Transplants</th>\n",
              "      <th>Cancer history</th>\n",
              "      <th>NumberOfMajorSurgeries</th>\n",
              "      <th>smoker</th>\n",
              "      <th>State ID_R1011</th>\n",
              "      <th>State ID_R1012</th>\n",
              "      <th>State ID_R1013</th>\n",
              "    </tr>\n",
              "  </thead>\n",
              "  <tbody>\n",
              "    <tr>\n",
              "      <th>0</th>\n",
              "      <td>Id1</td>\n",
              "      <td>Hawks, Ms.  Kelly</td>\n",
              "      <td>1968</td>\n",
              "      <td>Oct</td>\n",
              "      <td>12</td>\n",
              "      <td>0</td>\n",
              "      <td>63770.43</td>\n",
              "      <td>1</td>\n",
              "      <td>3</td>\n",
              "      <td>47.410</td>\n",
              "      <td>7.47</td>\n",
              "      <td>0</td>\n",
              "      <td>0</td>\n",
              "      <td>0</td>\n",
              "      <td>No major surgery</td>\n",
              "      <td>1</td>\n",
              "      <td>0</td>\n",
              "      <td>0</td>\n",
              "      <td>1</td>\n",
              "    </tr>\n",
              "    <tr>\n",
              "      <th>1</th>\n",
              "      <td>Id2</td>\n",
              "      <td>Lehner, Mr.  Matthew D</td>\n",
              "      <td>1977</td>\n",
              "      <td>Jun</td>\n",
              "      <td>8</td>\n",
              "      <td>0</td>\n",
              "      <td>62592.87</td>\n",
              "      <td>2</td>\n",
              "      <td>3</td>\n",
              "      <td>30.360</td>\n",
              "      <td>5.77</td>\n",
              "      <td>0</td>\n",
              "      <td>0</td>\n",
              "      <td>0</td>\n",
              "      <td>No major surgery</td>\n",
              "      <td>1</td>\n",
              "      <td>0</td>\n",
              "      <td>0</td>\n",
              "      <td>1</td>\n",
              "    </tr>\n",
              "    <tr>\n",
              "      <th>3</th>\n",
              "      <td>Id4</td>\n",
              "      <td>Osborne, Ms.  Kelsey</td>\n",
              "      <td>1991</td>\n",
              "      <td>Jun</td>\n",
              "      <td>6</td>\n",
              "      <td>1</td>\n",
              "      <td>58571.07</td>\n",
              "      <td>1</td>\n",
              "      <td>3</td>\n",
              "      <td>38.095</td>\n",
              "      <td>6.05</td>\n",
              "      <td>0</td>\n",
              "      <td>0</td>\n",
              "      <td>0</td>\n",
              "      <td>No major surgery</td>\n",
              "      <td>1</td>\n",
              "      <td>0</td>\n",
              "      <td>0</td>\n",
              "      <td>0</td>\n",
              "    </tr>\n",
              "    <tr>\n",
              "      <th>4</th>\n",
              "      <td>Id5</td>\n",
              "      <td>Kadala, Ms.  Kristyn</td>\n",
              "      <td>1989</td>\n",
              "      <td>Jun</td>\n",
              "      <td>19</td>\n",
              "      <td>0</td>\n",
              "      <td>55135.40</td>\n",
              "      <td>1</td>\n",
              "      <td>2</td>\n",
              "      <td>35.530</td>\n",
              "      <td>5.45</td>\n",
              "      <td>0</td>\n",
              "      <td>0</td>\n",
              "      <td>0</td>\n",
              "      <td>No major surgery</td>\n",
              "      <td>1</td>\n",
              "      <td>0</td>\n",
              "      <td>1</td>\n",
              "      <td>0</td>\n",
              "    </tr>\n",
              "    <tr>\n",
              "      <th>5</th>\n",
              "      <td>Id6</td>\n",
              "      <td>Baker, Mr.  Russell B.</td>\n",
              "      <td>1962</td>\n",
              "      <td>Aug</td>\n",
              "      <td>4</td>\n",
              "      <td>0</td>\n",
              "      <td>52590.83</td>\n",
              "      <td>1</td>\n",
              "      <td>3</td>\n",
              "      <td>32.800</td>\n",
              "      <td>6.59</td>\n",
              "      <td>0</td>\n",
              "      <td>0</td>\n",
              "      <td>0</td>\n",
              "      <td>No major surgery</td>\n",
              "      <td>1</td>\n",
              "      <td>1</td>\n",
              "      <td>0</td>\n",
              "      <td>0</td>\n",
              "    </tr>\n",
              "  </tbody>\n",
              "</table>\n",
              "</div>\n",
              "      <button class=\"colab-df-convert\" onclick=\"convertToInteractive('df-cd571030-a8e8-462a-b2e4-e06397a18abb')\"\n",
              "              title=\"Convert this dataframe to an interactive table.\"\n",
              "              style=\"display:none;\">\n",
              "        \n",
              "  <svg xmlns=\"http://www.w3.org/2000/svg\" height=\"24px\"viewBox=\"0 0 24 24\"\n",
              "       width=\"24px\">\n",
              "    <path d=\"M0 0h24v24H0V0z\" fill=\"none\"/>\n",
              "    <path d=\"M18.56 5.44l.94 2.06.94-2.06 2.06-.94-2.06-.94-.94-2.06-.94 2.06-2.06.94zm-11 1L8.5 8.5l.94-2.06 2.06-.94-2.06-.94L8.5 2.5l-.94 2.06-2.06.94zm10 10l.94 2.06.94-2.06 2.06-.94-2.06-.94-.94-2.06-.94 2.06-2.06.94z\"/><path d=\"M17.41 7.96l-1.37-1.37c-.4-.4-.92-.59-1.43-.59-.52 0-1.04.2-1.43.59L10.3 9.45l-7.72 7.72c-.78.78-.78 2.05 0 2.83L4 21.41c.39.39.9.59 1.41.59.51 0 1.02-.2 1.41-.59l7.78-7.78 2.81-2.81c.8-.78.8-2.07 0-2.86zM5.41 20L4 18.59l7.72-7.72 1.47 1.35L5.41 20z\"/>\n",
              "  </svg>\n",
              "      </button>\n",
              "      \n",
              "  <style>\n",
              "    .colab-df-container {\n",
              "      display:flex;\n",
              "      flex-wrap:wrap;\n",
              "      gap: 12px;\n",
              "    }\n",
              "\n",
              "    .colab-df-convert {\n",
              "      background-color: #E8F0FE;\n",
              "      border: none;\n",
              "      border-radius: 50%;\n",
              "      cursor: pointer;\n",
              "      display: none;\n",
              "      fill: #1967D2;\n",
              "      height: 32px;\n",
              "      padding: 0 0 0 0;\n",
              "      width: 32px;\n",
              "    }\n",
              "\n",
              "    .colab-df-convert:hover {\n",
              "      background-color: #E2EBFA;\n",
              "      box-shadow: 0px 1px 2px rgba(60, 64, 67, 0.3), 0px 1px 3px 1px rgba(60, 64, 67, 0.15);\n",
              "      fill: #174EA6;\n",
              "    }\n",
              "\n",
              "    [theme=dark] .colab-df-convert {\n",
              "      background-color: #3B4455;\n",
              "      fill: #D2E3FC;\n",
              "    }\n",
              "\n",
              "    [theme=dark] .colab-df-convert:hover {\n",
              "      background-color: #434B5C;\n",
              "      box-shadow: 0px 1px 3px 1px rgba(0, 0, 0, 0.15);\n",
              "      filter: drop-shadow(0px 1px 2px rgba(0, 0, 0, 0.3));\n",
              "      fill: #FFFFFF;\n",
              "    }\n",
              "  </style>\n",
              "\n",
              "      <script>\n",
              "        const buttonEl =\n",
              "          document.querySelector('#df-cd571030-a8e8-462a-b2e4-e06397a18abb button.colab-df-convert');\n",
              "        buttonEl.style.display =\n",
              "          google.colab.kernel.accessAllowed ? 'block' : 'none';\n",
              "\n",
              "        async function convertToInteractive(key) {\n",
              "          const element = document.querySelector('#df-cd571030-a8e8-462a-b2e4-e06397a18abb');\n",
              "          const dataTable =\n",
              "            await google.colab.kernel.invokeFunction('convertToInteractive',\n",
              "                                                     [key], {});\n",
              "          if (!dataTable) return;\n",
              "\n",
              "          const docLinkHtml = 'Like what you see? Visit the ' +\n",
              "            '<a target=\"_blank\" href=https://colab.research.google.com/notebooks/data_table.ipynb>data table notebook</a>'\n",
              "            + ' to learn more about interactive tables.';\n",
              "          element.innerHTML = '';\n",
              "          dataTable['output_type'] = 'display_data';\n",
              "          await google.colab.output.renderOutput(dataTable, element);\n",
              "          const docLink = document.createElement('div');\n",
              "          docLink.innerHTML = docLinkHtml;\n",
              "          element.appendChild(docLink);\n",
              "        }\n",
              "      </script>\n",
              "    </div>\n",
              "  </div>\n",
              "  "
            ]
          },
          "metadata": {},
          "execution_count": 166
        }
      ]
    },
    {
      "cell_type": "markdown",
      "source": [
        "#6. The variable NumberOfMajorSurgeries also appears to have string values. Apply a suitable method to clean up this variable."
      ],
      "metadata": {
        "id": "hCoO_PBaseMo"
      }
    },
    {
      "cell_type": "code",
      "source": [
        "final_df['NumberOfMajorSurgeries'].value_counts()"
      ],
      "metadata": {
        "colab": {
          "base_uri": "https://localhost:8080/"
        },
        "id": "pdLi5kYbsXKu",
        "outputId": "b49ac4ee-b69f-452f-9ec5-04547550af6b"
      },
      "execution_count": 167,
      "outputs": [
        {
          "output_type": "execute_result",
          "data": {
            "text/plain": [
              "No major surgery    1070\n",
              "1                    961\n",
              "2                    272\n",
              "3                     22\n",
              "Name: NumberOfMajorSurgeries, dtype: int64"
            ]
          },
          "metadata": {},
          "execution_count": 167
        }
      ]
    },
    {
      "cell_type": "markdown",
      "source": [
        "The NumberOfMajorSurgeries variable contain string value no major Surgery that mean simpli is 0 surgery so we will replace this value into int value equal to zero."
      ],
      "metadata": {
        "id": "Lhs81zjas8aF"
      }
    },
    {
      "cell_type": "code",
      "source": [
        "final_df['NumberOfMajorSurgeries'] = final_df['NumberOfMajorSurgeries'].replace(\"No major surgery\",\"0\")"
      ],
      "metadata": {
        "id": "IJGKgfUusxOA"
      },
      "execution_count": 168,
      "outputs": []
    },
    {
      "cell_type": "code",
      "source": [
        "final_df['NumberOfMajorSurgeries'] = final_df['NumberOfMajorSurgeries'].astype(int)"
      ],
      "metadata": {
        "id": "dbI1FzoLtOJ2"
      },
      "execution_count": 169,
      "outputs": []
    },
    {
      "cell_type": "code",
      "source": [
        "final_df['NumberOfMajorSurgeries'].value_counts()"
      ],
      "metadata": {
        "colab": {
          "base_uri": "https://localhost:8080/"
        },
        "id": "7zTLUfoMtHHP",
        "outputId": "e8325031-8533-40fd-b1a8-b0bc1a158d2b"
      },
      "execution_count": 170,
      "outputs": [
        {
          "output_type": "execute_result",
          "data": {
            "text/plain": [
              "0    1070\n",
              "1     961\n",
              "2     272\n",
              "3      22\n",
              "Name: NumberOfMajorSurgeries, dtype: int64"
            ]
          },
          "metadata": {},
          "execution_count": 170
        }
      ]
    },
    {
      "cell_type": "markdown",
      "source": [
        "#7. Age appears to be a significant factor in this analysis. Calculate the patients' ages based on their dates of birth."
      ],
      "metadata": {
        "id": "cJxxbEuxtXPx"
      }
    },
    {
      "cell_type": "code",
      "source": [
        "final_df[\"year\"] = pd.to_datetime(final_df[\"year\"], format='%Y').dt.year\n",
        "final_df[\"year\"]"
      ],
      "metadata": {
        "colab": {
          "base_uri": "https://localhost:8080/"
        },
        "id": "aGl3nPgitI4D",
        "outputId": "2c940acd-1737-46e9-dbad-28bd5cb8cb12"
      },
      "execution_count": 171,
      "outputs": [
        {
          "output_type": "execute_result",
          "data": {
            "text/plain": [
              "0       1968\n",
              "1       1977\n",
              "3       1991\n",
              "4       1989\n",
              "5       1962\n",
              "        ... \n",
              "2330    1998\n",
              "2331    1992\n",
              "2332    1993\n",
              "2333    1992\n",
              "2334    1992\n",
              "Name: year, Length: 2325, dtype: int64"
            ]
          },
          "metadata": {},
          "execution_count": 171
        }
      ]
    },
    {
      "cell_type": "code",
      "source": [
        "final_df[\"month\"] = pd.to_datetime(final_df[\"month\"], format='%b').dt.month\n",
        "final_df[\"month\"]"
      ],
      "metadata": {
        "colab": {
          "base_uri": "https://localhost:8080/"
        },
        "id": "I3ktwdJ6tsTl",
        "outputId": "bf617be7-3b06-4484-fd2a-e3ee2afdfcf6"
      },
      "execution_count": 172,
      "outputs": [
        {
          "output_type": "execute_result",
          "data": {
            "text/plain": [
              "0       10\n",
              "1        6\n",
              "3        6\n",
              "4        6\n",
              "5        8\n",
              "        ..\n",
              "2330     7\n",
              "2331     9\n",
              "2332     6\n",
              "2333    11\n",
              "2334     7\n",
              "Name: month, Length: 2325, dtype: int64"
            ]
          },
          "metadata": {},
          "execution_count": 172
        }
      ]
    },
    {
      "cell_type": "code",
      "source": [
        "final_df['DateInt'] = final_df[\"year\"].astype(str)+final_df[\"month\"].astype(str).str.zfill(2)+final_df[\"date\"].astype(str).str.zfill(2)"
      ],
      "metadata": {
        "id": "tdEtr7Svvta0"
      },
      "execution_count": 173,
      "outputs": []
    },
    {
      "cell_type": "code",
      "source": [
        "final_df['DOB'] = pd.to_datetime(final_df.DateInt, format = \"%Y%m%d\")"
      ],
      "metadata": {
        "id": "qhLa_4gLvHC6"
      },
      "execution_count": 174,
      "outputs": []
    },
    {
      "cell_type": "code",
      "source": [
        "final_df.drop([\"DateInt\"], inplace = True, axis = 1)"
      ],
      "metadata": {
        "id": "DR40y0NAwZf8"
      },
      "execution_count": 175,
      "outputs": []
    },
    {
      "cell_type": "code",
      "source": [
        "final_df.head()"
      ],
      "metadata": {
        "colab": {
          "base_uri": "https://localhost:8080/",
          "height": 478
        },
        "id": "5mkgxeGPwvNa",
        "outputId": "11de586e-bedd-43b7-de08-acd77aeefb14"
      },
      "execution_count": 176,
      "outputs": [
        {
          "output_type": "execute_result",
          "data": {
            "text/plain": [
              "  Customer ID                    name  year  month  date  children   charges  \\\n",
              "0         Id1       Hawks, Ms.  Kelly  1968     10    12         0  63770.43   \n",
              "1         Id2  Lehner, Mr.  Matthew D  1977      6     8         0  62592.87   \n",
              "3         Id4    Osborne, Ms.  Kelsey  1991      6     6         1  58571.07   \n",
              "4         Id5    Kadala, Ms.  Kristyn  1989      6    19         0  55135.40   \n",
              "5         Id6  Baker, Mr.  Russell B.  1962      8     4         0  52590.83   \n",
              "\n",
              "   Hospital tier  City tier     BMI  HBA1C  Heart Issues  Any Transplants  \\\n",
              "0              1          3  47.410   7.47             0                0   \n",
              "1              2          3  30.360   5.77             0                0   \n",
              "3              1          3  38.095   6.05             0                0   \n",
              "4              1          2  35.530   5.45             0                0   \n",
              "5              1          3  32.800   6.59             0                0   \n",
              "\n",
              "   Cancer history  NumberOfMajorSurgeries  smoker  State ID_R1011  \\\n",
              "0               0                       0       1               0   \n",
              "1               0                       0       1               0   \n",
              "3               0                       0       1               0   \n",
              "4               0                       0       1               0   \n",
              "5               0                       0       1               1   \n",
              "\n",
              "   State ID_R1012  State ID_R1013        DOB  \n",
              "0               0               1 1968-10-12  \n",
              "1               0               1 1977-06-08  \n",
              "3               0               0 1991-06-06  \n",
              "4               1               0 1989-06-19  \n",
              "5               0               0 1962-08-04  "
            ],
            "text/html": [
              "\n",
              "  <div id=\"df-f1eab0e0-3d7d-4ed6-bfa0-d8347323da29\">\n",
              "    <div class=\"colab-df-container\">\n",
              "      <div>\n",
              "<style scoped>\n",
              "    .dataframe tbody tr th:only-of-type {\n",
              "        vertical-align: middle;\n",
              "    }\n",
              "\n",
              "    .dataframe tbody tr th {\n",
              "        vertical-align: top;\n",
              "    }\n",
              "\n",
              "    .dataframe thead th {\n",
              "        text-align: right;\n",
              "    }\n",
              "</style>\n",
              "<table border=\"1\" class=\"dataframe\">\n",
              "  <thead>\n",
              "    <tr style=\"text-align: right;\">\n",
              "      <th></th>\n",
              "      <th>Customer ID</th>\n",
              "      <th>name</th>\n",
              "      <th>year</th>\n",
              "      <th>month</th>\n",
              "      <th>date</th>\n",
              "      <th>children</th>\n",
              "      <th>charges</th>\n",
              "      <th>Hospital tier</th>\n",
              "      <th>City tier</th>\n",
              "      <th>BMI</th>\n",
              "      <th>HBA1C</th>\n",
              "      <th>Heart Issues</th>\n",
              "      <th>Any Transplants</th>\n",
              "      <th>Cancer history</th>\n",
              "      <th>NumberOfMajorSurgeries</th>\n",
              "      <th>smoker</th>\n",
              "      <th>State ID_R1011</th>\n",
              "      <th>State ID_R1012</th>\n",
              "      <th>State ID_R1013</th>\n",
              "      <th>DOB</th>\n",
              "    </tr>\n",
              "  </thead>\n",
              "  <tbody>\n",
              "    <tr>\n",
              "      <th>0</th>\n",
              "      <td>Id1</td>\n",
              "      <td>Hawks, Ms.  Kelly</td>\n",
              "      <td>1968</td>\n",
              "      <td>10</td>\n",
              "      <td>12</td>\n",
              "      <td>0</td>\n",
              "      <td>63770.43</td>\n",
              "      <td>1</td>\n",
              "      <td>3</td>\n",
              "      <td>47.410</td>\n",
              "      <td>7.47</td>\n",
              "      <td>0</td>\n",
              "      <td>0</td>\n",
              "      <td>0</td>\n",
              "      <td>0</td>\n",
              "      <td>1</td>\n",
              "      <td>0</td>\n",
              "      <td>0</td>\n",
              "      <td>1</td>\n",
              "      <td>1968-10-12</td>\n",
              "    </tr>\n",
              "    <tr>\n",
              "      <th>1</th>\n",
              "      <td>Id2</td>\n",
              "      <td>Lehner, Mr.  Matthew D</td>\n",
              "      <td>1977</td>\n",
              "      <td>6</td>\n",
              "      <td>8</td>\n",
              "      <td>0</td>\n",
              "      <td>62592.87</td>\n",
              "      <td>2</td>\n",
              "      <td>3</td>\n",
              "      <td>30.360</td>\n",
              "      <td>5.77</td>\n",
              "      <td>0</td>\n",
              "      <td>0</td>\n",
              "      <td>0</td>\n",
              "      <td>0</td>\n",
              "      <td>1</td>\n",
              "      <td>0</td>\n",
              "      <td>0</td>\n",
              "      <td>1</td>\n",
              "      <td>1977-06-08</td>\n",
              "    </tr>\n",
              "    <tr>\n",
              "      <th>3</th>\n",
              "      <td>Id4</td>\n",
              "      <td>Osborne, Ms.  Kelsey</td>\n",
              "      <td>1991</td>\n",
              "      <td>6</td>\n",
              "      <td>6</td>\n",
              "      <td>1</td>\n",
              "      <td>58571.07</td>\n",
              "      <td>1</td>\n",
              "      <td>3</td>\n",
              "      <td>38.095</td>\n",
              "      <td>6.05</td>\n",
              "      <td>0</td>\n",
              "      <td>0</td>\n",
              "      <td>0</td>\n",
              "      <td>0</td>\n",
              "      <td>1</td>\n",
              "      <td>0</td>\n",
              "      <td>0</td>\n",
              "      <td>0</td>\n",
              "      <td>1991-06-06</td>\n",
              "    </tr>\n",
              "    <tr>\n",
              "      <th>4</th>\n",
              "      <td>Id5</td>\n",
              "      <td>Kadala, Ms.  Kristyn</td>\n",
              "      <td>1989</td>\n",
              "      <td>6</td>\n",
              "      <td>19</td>\n",
              "      <td>0</td>\n",
              "      <td>55135.40</td>\n",
              "      <td>1</td>\n",
              "      <td>2</td>\n",
              "      <td>35.530</td>\n",
              "      <td>5.45</td>\n",
              "      <td>0</td>\n",
              "      <td>0</td>\n",
              "      <td>0</td>\n",
              "      <td>0</td>\n",
              "      <td>1</td>\n",
              "      <td>0</td>\n",
              "      <td>1</td>\n",
              "      <td>0</td>\n",
              "      <td>1989-06-19</td>\n",
              "    </tr>\n",
              "    <tr>\n",
              "      <th>5</th>\n",
              "      <td>Id6</td>\n",
              "      <td>Baker, Mr.  Russell B.</td>\n",
              "      <td>1962</td>\n",
              "      <td>8</td>\n",
              "      <td>4</td>\n",
              "      <td>0</td>\n",
              "      <td>52590.83</td>\n",
              "      <td>1</td>\n",
              "      <td>3</td>\n",
              "      <td>32.800</td>\n",
              "      <td>6.59</td>\n",
              "      <td>0</td>\n",
              "      <td>0</td>\n",
              "      <td>0</td>\n",
              "      <td>0</td>\n",
              "      <td>1</td>\n",
              "      <td>1</td>\n",
              "      <td>0</td>\n",
              "      <td>0</td>\n",
              "      <td>1962-08-04</td>\n",
              "    </tr>\n",
              "  </tbody>\n",
              "</table>\n",
              "</div>\n",
              "      <button class=\"colab-df-convert\" onclick=\"convertToInteractive('df-f1eab0e0-3d7d-4ed6-bfa0-d8347323da29')\"\n",
              "              title=\"Convert this dataframe to an interactive table.\"\n",
              "              style=\"display:none;\">\n",
              "        \n",
              "  <svg xmlns=\"http://www.w3.org/2000/svg\" height=\"24px\"viewBox=\"0 0 24 24\"\n",
              "       width=\"24px\">\n",
              "    <path d=\"M0 0h24v24H0V0z\" fill=\"none\"/>\n",
              "    <path d=\"M18.56 5.44l.94 2.06.94-2.06 2.06-.94-2.06-.94-.94-2.06-.94 2.06-2.06.94zm-11 1L8.5 8.5l.94-2.06 2.06-.94-2.06-.94L8.5 2.5l-.94 2.06-2.06.94zm10 10l.94 2.06.94-2.06 2.06-.94-2.06-.94-.94-2.06-.94 2.06-2.06.94z\"/><path d=\"M17.41 7.96l-1.37-1.37c-.4-.4-.92-.59-1.43-.59-.52 0-1.04.2-1.43.59L10.3 9.45l-7.72 7.72c-.78.78-.78 2.05 0 2.83L4 21.41c.39.39.9.59 1.41.59.51 0 1.02-.2 1.41-.59l7.78-7.78 2.81-2.81c.8-.78.8-2.07 0-2.86zM5.41 20L4 18.59l7.72-7.72 1.47 1.35L5.41 20z\"/>\n",
              "  </svg>\n",
              "      </button>\n",
              "      \n",
              "  <style>\n",
              "    .colab-df-container {\n",
              "      display:flex;\n",
              "      flex-wrap:wrap;\n",
              "      gap: 12px;\n",
              "    }\n",
              "\n",
              "    .colab-df-convert {\n",
              "      background-color: #E8F0FE;\n",
              "      border: none;\n",
              "      border-radius: 50%;\n",
              "      cursor: pointer;\n",
              "      display: none;\n",
              "      fill: #1967D2;\n",
              "      height: 32px;\n",
              "      padding: 0 0 0 0;\n",
              "      width: 32px;\n",
              "    }\n",
              "\n",
              "    .colab-df-convert:hover {\n",
              "      background-color: #E2EBFA;\n",
              "      box-shadow: 0px 1px 2px rgba(60, 64, 67, 0.3), 0px 1px 3px 1px rgba(60, 64, 67, 0.15);\n",
              "      fill: #174EA6;\n",
              "    }\n",
              "\n",
              "    [theme=dark] .colab-df-convert {\n",
              "      background-color: #3B4455;\n",
              "      fill: #D2E3FC;\n",
              "    }\n",
              "\n",
              "    [theme=dark] .colab-df-convert:hover {\n",
              "      background-color: #434B5C;\n",
              "      box-shadow: 0px 1px 3px 1px rgba(0, 0, 0, 0.15);\n",
              "      filter: drop-shadow(0px 1px 2px rgba(0, 0, 0, 0.3));\n",
              "      fill: #FFFFFF;\n",
              "    }\n",
              "  </style>\n",
              "\n",
              "      <script>\n",
              "        const buttonEl =\n",
              "          document.querySelector('#df-f1eab0e0-3d7d-4ed6-bfa0-d8347323da29 button.colab-df-convert');\n",
              "        buttonEl.style.display =\n",
              "          google.colab.kernel.accessAllowed ? 'block' : 'none';\n",
              "\n",
              "        async function convertToInteractive(key) {\n",
              "          const element = document.querySelector('#df-f1eab0e0-3d7d-4ed6-bfa0-d8347323da29');\n",
              "          const dataTable =\n",
              "            await google.colab.kernel.invokeFunction('convertToInteractive',\n",
              "                                                     [key], {});\n",
              "          if (!dataTable) return;\n",
              "\n",
              "          const docLinkHtml = 'Like what you see? Visit the ' +\n",
              "            '<a target=\"_blank\" href=https://colab.research.google.com/notebooks/data_table.ipynb>data table notebook</a>'\n",
              "            + ' to learn more about interactive tables.';\n",
              "          element.innerHTML = '';\n",
              "          dataTable['output_type'] = 'display_data';\n",
              "          await google.colab.output.renderOutput(dataTable, element);\n",
              "          const docLink = document.createElement('div');\n",
              "          docLink.innerHTML = docLinkHtml;\n",
              "          element.appendChild(docLink);\n",
              "        }\n",
              "      </script>\n",
              "    </div>\n",
              "  </div>\n",
              "  "
            ]
          },
          "metadata": {},
          "execution_count": 176
        }
      ]
    },
    {
      "cell_type": "code",
      "source": [
        "import datetime as dt\n",
        "current_date = dt.datetime.now()"
      ],
      "metadata": {
        "id": "7Q6zug_Twx4W"
      },
      "execution_count": 177,
      "outputs": []
    },
    {
      "cell_type": "code",
      "source": [
        "final_df['age'] = (((current_date - final_df.DOB).dt.days)/365).astype(int)"
      ],
      "metadata": {
        "id": "ZQiupvSjw66G"
      },
      "execution_count": 178,
      "outputs": []
    },
    {
      "cell_type": "code",
      "source": [
        "final_df.head()"
      ],
      "metadata": {
        "colab": {
          "base_uri": "https://localhost:8080/",
          "height": 508
        },
        "id": "bKFomvwyxJht",
        "outputId": "f79295cc-6d19-4579-9aa2-1418cb0e0ad5"
      },
      "execution_count": 179,
      "outputs": [
        {
          "output_type": "execute_result",
          "data": {
            "text/plain": [
              "  Customer ID                    name  year  month  date  children   charges  \\\n",
              "0         Id1       Hawks, Ms.  Kelly  1968     10    12         0  63770.43   \n",
              "1         Id2  Lehner, Mr.  Matthew D  1977      6     8         0  62592.87   \n",
              "3         Id4    Osborne, Ms.  Kelsey  1991      6     6         1  58571.07   \n",
              "4         Id5    Kadala, Ms.  Kristyn  1989      6    19         0  55135.40   \n",
              "5         Id6  Baker, Mr.  Russell B.  1962      8     4         0  52590.83   \n",
              "\n",
              "   Hospital tier  City tier     BMI  ...  Heart Issues  Any Transplants  \\\n",
              "0              1          3  47.410  ...             0                0   \n",
              "1              2          3  30.360  ...             0                0   \n",
              "3              1          3  38.095  ...             0                0   \n",
              "4              1          2  35.530  ...             0                0   \n",
              "5              1          3  32.800  ...             0                0   \n",
              "\n",
              "   Cancer history  NumberOfMajorSurgeries  smoker  State ID_R1011  \\\n",
              "0               0                       0       1               0   \n",
              "1               0                       0       1               0   \n",
              "3               0                       0       1               0   \n",
              "4               0                       0       1               0   \n",
              "5               0                       0       1               1   \n",
              "\n",
              "   State ID_R1012  State ID_R1013        DOB age  \n",
              "0               0               1 1968-10-12  54  \n",
              "1               0               1 1977-06-08  45  \n",
              "3               0               0 1991-06-06  31  \n",
              "4               1               0 1989-06-19  33  \n",
              "5               0               0 1962-08-04  60  \n",
              "\n",
              "[5 rows x 21 columns]"
            ],
            "text/html": [
              "\n",
              "  <div id=\"df-74d9256e-3382-4df1-881a-0131db263e66\">\n",
              "    <div class=\"colab-df-container\">\n",
              "      <div>\n",
              "<style scoped>\n",
              "    .dataframe tbody tr th:only-of-type {\n",
              "        vertical-align: middle;\n",
              "    }\n",
              "\n",
              "    .dataframe tbody tr th {\n",
              "        vertical-align: top;\n",
              "    }\n",
              "\n",
              "    .dataframe thead th {\n",
              "        text-align: right;\n",
              "    }\n",
              "</style>\n",
              "<table border=\"1\" class=\"dataframe\">\n",
              "  <thead>\n",
              "    <tr style=\"text-align: right;\">\n",
              "      <th></th>\n",
              "      <th>Customer ID</th>\n",
              "      <th>name</th>\n",
              "      <th>year</th>\n",
              "      <th>month</th>\n",
              "      <th>date</th>\n",
              "      <th>children</th>\n",
              "      <th>charges</th>\n",
              "      <th>Hospital tier</th>\n",
              "      <th>City tier</th>\n",
              "      <th>BMI</th>\n",
              "      <th>...</th>\n",
              "      <th>Heart Issues</th>\n",
              "      <th>Any Transplants</th>\n",
              "      <th>Cancer history</th>\n",
              "      <th>NumberOfMajorSurgeries</th>\n",
              "      <th>smoker</th>\n",
              "      <th>State ID_R1011</th>\n",
              "      <th>State ID_R1012</th>\n",
              "      <th>State ID_R1013</th>\n",
              "      <th>DOB</th>\n",
              "      <th>age</th>\n",
              "    </tr>\n",
              "  </thead>\n",
              "  <tbody>\n",
              "    <tr>\n",
              "      <th>0</th>\n",
              "      <td>Id1</td>\n",
              "      <td>Hawks, Ms.  Kelly</td>\n",
              "      <td>1968</td>\n",
              "      <td>10</td>\n",
              "      <td>12</td>\n",
              "      <td>0</td>\n",
              "      <td>63770.43</td>\n",
              "      <td>1</td>\n",
              "      <td>3</td>\n",
              "      <td>47.410</td>\n",
              "      <td>...</td>\n",
              "      <td>0</td>\n",
              "      <td>0</td>\n",
              "      <td>0</td>\n",
              "      <td>0</td>\n",
              "      <td>1</td>\n",
              "      <td>0</td>\n",
              "      <td>0</td>\n",
              "      <td>1</td>\n",
              "      <td>1968-10-12</td>\n",
              "      <td>54</td>\n",
              "    </tr>\n",
              "    <tr>\n",
              "      <th>1</th>\n",
              "      <td>Id2</td>\n",
              "      <td>Lehner, Mr.  Matthew D</td>\n",
              "      <td>1977</td>\n",
              "      <td>6</td>\n",
              "      <td>8</td>\n",
              "      <td>0</td>\n",
              "      <td>62592.87</td>\n",
              "      <td>2</td>\n",
              "      <td>3</td>\n",
              "      <td>30.360</td>\n",
              "      <td>...</td>\n",
              "      <td>0</td>\n",
              "      <td>0</td>\n",
              "      <td>0</td>\n",
              "      <td>0</td>\n",
              "      <td>1</td>\n",
              "      <td>0</td>\n",
              "      <td>0</td>\n",
              "      <td>1</td>\n",
              "      <td>1977-06-08</td>\n",
              "      <td>45</td>\n",
              "    </tr>\n",
              "    <tr>\n",
              "      <th>3</th>\n",
              "      <td>Id4</td>\n",
              "      <td>Osborne, Ms.  Kelsey</td>\n",
              "      <td>1991</td>\n",
              "      <td>6</td>\n",
              "      <td>6</td>\n",
              "      <td>1</td>\n",
              "      <td>58571.07</td>\n",
              "      <td>1</td>\n",
              "      <td>3</td>\n",
              "      <td>38.095</td>\n",
              "      <td>...</td>\n",
              "      <td>0</td>\n",
              "      <td>0</td>\n",
              "      <td>0</td>\n",
              "      <td>0</td>\n",
              "      <td>1</td>\n",
              "      <td>0</td>\n",
              "      <td>0</td>\n",
              "      <td>0</td>\n",
              "      <td>1991-06-06</td>\n",
              "      <td>31</td>\n",
              "    </tr>\n",
              "    <tr>\n",
              "      <th>4</th>\n",
              "      <td>Id5</td>\n",
              "      <td>Kadala, Ms.  Kristyn</td>\n",
              "      <td>1989</td>\n",
              "      <td>6</td>\n",
              "      <td>19</td>\n",
              "      <td>0</td>\n",
              "      <td>55135.40</td>\n",
              "      <td>1</td>\n",
              "      <td>2</td>\n",
              "      <td>35.530</td>\n",
              "      <td>...</td>\n",
              "      <td>0</td>\n",
              "      <td>0</td>\n",
              "      <td>0</td>\n",
              "      <td>0</td>\n",
              "      <td>1</td>\n",
              "      <td>0</td>\n",
              "      <td>1</td>\n",
              "      <td>0</td>\n",
              "      <td>1989-06-19</td>\n",
              "      <td>33</td>\n",
              "    </tr>\n",
              "    <tr>\n",
              "      <th>5</th>\n",
              "      <td>Id6</td>\n",
              "      <td>Baker, Mr.  Russell B.</td>\n",
              "      <td>1962</td>\n",
              "      <td>8</td>\n",
              "      <td>4</td>\n",
              "      <td>0</td>\n",
              "      <td>52590.83</td>\n",
              "      <td>1</td>\n",
              "      <td>3</td>\n",
              "      <td>32.800</td>\n",
              "      <td>...</td>\n",
              "      <td>0</td>\n",
              "      <td>0</td>\n",
              "      <td>0</td>\n",
              "      <td>0</td>\n",
              "      <td>1</td>\n",
              "      <td>1</td>\n",
              "      <td>0</td>\n",
              "      <td>0</td>\n",
              "      <td>1962-08-04</td>\n",
              "      <td>60</td>\n",
              "    </tr>\n",
              "  </tbody>\n",
              "</table>\n",
              "<p>5 rows × 21 columns</p>\n",
              "</div>\n",
              "      <button class=\"colab-df-convert\" onclick=\"convertToInteractive('df-74d9256e-3382-4df1-881a-0131db263e66')\"\n",
              "              title=\"Convert this dataframe to an interactive table.\"\n",
              "              style=\"display:none;\">\n",
              "        \n",
              "  <svg xmlns=\"http://www.w3.org/2000/svg\" height=\"24px\"viewBox=\"0 0 24 24\"\n",
              "       width=\"24px\">\n",
              "    <path d=\"M0 0h24v24H0V0z\" fill=\"none\"/>\n",
              "    <path d=\"M18.56 5.44l.94 2.06.94-2.06 2.06-.94-2.06-.94-.94-2.06-.94 2.06-2.06.94zm-11 1L8.5 8.5l.94-2.06 2.06-.94-2.06-.94L8.5 2.5l-.94 2.06-2.06.94zm10 10l.94 2.06.94-2.06 2.06-.94-2.06-.94-.94-2.06-.94 2.06-2.06.94z\"/><path d=\"M17.41 7.96l-1.37-1.37c-.4-.4-.92-.59-1.43-.59-.52 0-1.04.2-1.43.59L10.3 9.45l-7.72 7.72c-.78.78-.78 2.05 0 2.83L4 21.41c.39.39.9.59 1.41.59.51 0 1.02-.2 1.41-.59l7.78-7.78 2.81-2.81c.8-.78.8-2.07 0-2.86zM5.41 20L4 18.59l7.72-7.72 1.47 1.35L5.41 20z\"/>\n",
              "  </svg>\n",
              "      </button>\n",
              "      \n",
              "  <style>\n",
              "    .colab-df-container {\n",
              "      display:flex;\n",
              "      flex-wrap:wrap;\n",
              "      gap: 12px;\n",
              "    }\n",
              "\n",
              "    .colab-df-convert {\n",
              "      background-color: #E8F0FE;\n",
              "      border: none;\n",
              "      border-radius: 50%;\n",
              "      cursor: pointer;\n",
              "      display: none;\n",
              "      fill: #1967D2;\n",
              "      height: 32px;\n",
              "      padding: 0 0 0 0;\n",
              "      width: 32px;\n",
              "    }\n",
              "\n",
              "    .colab-df-convert:hover {\n",
              "      background-color: #E2EBFA;\n",
              "      box-shadow: 0px 1px 2px rgba(60, 64, 67, 0.3), 0px 1px 3px 1px rgba(60, 64, 67, 0.15);\n",
              "      fill: #174EA6;\n",
              "    }\n",
              "\n",
              "    [theme=dark] .colab-df-convert {\n",
              "      background-color: #3B4455;\n",
              "      fill: #D2E3FC;\n",
              "    }\n",
              "\n",
              "    [theme=dark] .colab-df-convert:hover {\n",
              "      background-color: #434B5C;\n",
              "      box-shadow: 0px 1px 3px 1px rgba(0, 0, 0, 0.15);\n",
              "      filter: drop-shadow(0px 1px 2px rgba(0, 0, 0, 0.3));\n",
              "      fill: #FFFFFF;\n",
              "    }\n",
              "  </style>\n",
              "\n",
              "      <script>\n",
              "        const buttonEl =\n",
              "          document.querySelector('#df-74d9256e-3382-4df1-881a-0131db263e66 button.colab-df-convert');\n",
              "        buttonEl.style.display =\n",
              "          google.colab.kernel.accessAllowed ? 'block' : 'none';\n",
              "\n",
              "        async function convertToInteractive(key) {\n",
              "          const element = document.querySelector('#df-74d9256e-3382-4df1-881a-0131db263e66');\n",
              "          const dataTable =\n",
              "            await google.colab.kernel.invokeFunction('convertToInteractive',\n",
              "                                                     [key], {});\n",
              "          if (!dataTable) return;\n",
              "\n",
              "          const docLinkHtml = 'Like what you see? Visit the ' +\n",
              "            '<a target=\"_blank\" href=https://colab.research.google.com/notebooks/data_table.ipynb>data table notebook</a>'\n",
              "            + ' to learn more about interactive tables.';\n",
              "          element.innerHTML = '';\n",
              "          dataTable['output_type'] = 'display_data';\n",
              "          await google.colab.output.renderOutput(dataTable, element);\n",
              "          const docLink = document.createElement('div');\n",
              "          docLink.innerHTML = docLinkHtml;\n",
              "          element.appendChild(docLink);\n",
              "        }\n",
              "      </script>\n",
              "    </div>\n",
              "  </div>\n",
              "  "
            ]
          },
          "metadata": {},
          "execution_count": 179
        }
      ]
    },
    {
      "cell_type": "markdown",
      "source": [
        "#8. The gender of the patient may be an important factor in determining the cost of hospitalization. The salutations in a beneficiary's name can be used to determine their gender. Make a new field for the beneficiary's gender."
      ],
      "metadata": {
        "id": "UKbsKXsCxWX5"
      }
    },
    {
      "cell_type": "code",
      "source": [
        "def gender(val):\n",
        "  if \"Ms.\" in val:\n",
        "    return 0\n",
        "  else:\n",
        "    return 1"
      ],
      "metadata": {
        "id": "3cIGvp5SxQEY"
      },
      "execution_count": 180,
      "outputs": []
    },
    {
      "cell_type": "markdown",
      "source": [
        "the salutation (Ms.) denote the female and (Mr.) denote the male."
      ],
      "metadata": {
        "id": "tveJmZTHz29h"
      }
    },
    {
      "cell_type": "markdown",
      "source": [
        "The gender will play the inportant role to predict the hospitalization cost so for model building we directly denote the gender by int."
      ],
      "metadata": {
        "id": "9Um2h9C7z5xm"
      }
    },
    {
      "cell_type": "markdown",
      "source": [
        "Male = 1 & Female = 0"
      ],
      "metadata": {
        "id": "1qYpv5_4z7WQ"
      }
    },
    {
      "cell_type": "code",
      "source": [
        "final_df[\"gender\"] = final_df[\"name\"].map(gender)"
      ],
      "metadata": {
        "id": "ZzNBxiwGz0IW"
      },
      "execution_count": 181,
      "outputs": []
    },
    {
      "cell_type": "code",
      "source": [
        "final_df.head()"
      ],
      "metadata": {
        "colab": {
          "base_uri": "https://localhost:8080/",
          "height": 508
        },
        "id": "4iqJyqJY0Liv",
        "outputId": "c49365d0-0ecb-48b7-96a5-75d475ecaefa"
      },
      "execution_count": 182,
      "outputs": [
        {
          "output_type": "execute_result",
          "data": {
            "text/plain": [
              "  Customer ID                    name  year  month  date  children   charges  \\\n",
              "0         Id1       Hawks, Ms.  Kelly  1968     10    12         0  63770.43   \n",
              "1         Id2  Lehner, Mr.  Matthew D  1977      6     8         0  62592.87   \n",
              "3         Id4    Osborne, Ms.  Kelsey  1991      6     6         1  58571.07   \n",
              "4         Id5    Kadala, Ms.  Kristyn  1989      6    19         0  55135.40   \n",
              "5         Id6  Baker, Mr.  Russell B.  1962      8     4         0  52590.83   \n",
              "\n",
              "   Hospital tier  City tier     BMI  ...  Any Transplants  Cancer history  \\\n",
              "0              1          3  47.410  ...                0               0   \n",
              "1              2          3  30.360  ...                0               0   \n",
              "3              1          3  38.095  ...                0               0   \n",
              "4              1          2  35.530  ...                0               0   \n",
              "5              1          3  32.800  ...                0               0   \n",
              "\n",
              "   NumberOfMajorSurgeries  smoker  State ID_R1011  State ID_R1012  \\\n",
              "0                       0       1               0               0   \n",
              "1                       0       1               0               0   \n",
              "3                       0       1               0               0   \n",
              "4                       0       1               0               1   \n",
              "5                       0       1               1               0   \n",
              "\n",
              "   State ID_R1013        DOB  age gender  \n",
              "0               1 1968-10-12   54      0  \n",
              "1               1 1977-06-08   45      1  \n",
              "3               0 1991-06-06   31      0  \n",
              "4               0 1989-06-19   33      0  \n",
              "5               0 1962-08-04   60      1  \n",
              "\n",
              "[5 rows x 22 columns]"
            ],
            "text/html": [
              "\n",
              "  <div id=\"df-6256e2a4-9a2d-450a-851e-95530d60463a\">\n",
              "    <div class=\"colab-df-container\">\n",
              "      <div>\n",
              "<style scoped>\n",
              "    .dataframe tbody tr th:only-of-type {\n",
              "        vertical-align: middle;\n",
              "    }\n",
              "\n",
              "    .dataframe tbody tr th {\n",
              "        vertical-align: top;\n",
              "    }\n",
              "\n",
              "    .dataframe thead th {\n",
              "        text-align: right;\n",
              "    }\n",
              "</style>\n",
              "<table border=\"1\" class=\"dataframe\">\n",
              "  <thead>\n",
              "    <tr style=\"text-align: right;\">\n",
              "      <th></th>\n",
              "      <th>Customer ID</th>\n",
              "      <th>name</th>\n",
              "      <th>year</th>\n",
              "      <th>month</th>\n",
              "      <th>date</th>\n",
              "      <th>children</th>\n",
              "      <th>charges</th>\n",
              "      <th>Hospital tier</th>\n",
              "      <th>City tier</th>\n",
              "      <th>BMI</th>\n",
              "      <th>...</th>\n",
              "      <th>Any Transplants</th>\n",
              "      <th>Cancer history</th>\n",
              "      <th>NumberOfMajorSurgeries</th>\n",
              "      <th>smoker</th>\n",
              "      <th>State ID_R1011</th>\n",
              "      <th>State ID_R1012</th>\n",
              "      <th>State ID_R1013</th>\n",
              "      <th>DOB</th>\n",
              "      <th>age</th>\n",
              "      <th>gender</th>\n",
              "    </tr>\n",
              "  </thead>\n",
              "  <tbody>\n",
              "    <tr>\n",
              "      <th>0</th>\n",
              "      <td>Id1</td>\n",
              "      <td>Hawks, Ms.  Kelly</td>\n",
              "      <td>1968</td>\n",
              "      <td>10</td>\n",
              "      <td>12</td>\n",
              "      <td>0</td>\n",
              "      <td>63770.43</td>\n",
              "      <td>1</td>\n",
              "      <td>3</td>\n",
              "      <td>47.410</td>\n",
              "      <td>...</td>\n",
              "      <td>0</td>\n",
              "      <td>0</td>\n",
              "      <td>0</td>\n",
              "      <td>1</td>\n",
              "      <td>0</td>\n",
              "      <td>0</td>\n",
              "      <td>1</td>\n",
              "      <td>1968-10-12</td>\n",
              "      <td>54</td>\n",
              "      <td>0</td>\n",
              "    </tr>\n",
              "    <tr>\n",
              "      <th>1</th>\n",
              "      <td>Id2</td>\n",
              "      <td>Lehner, Mr.  Matthew D</td>\n",
              "      <td>1977</td>\n",
              "      <td>6</td>\n",
              "      <td>8</td>\n",
              "      <td>0</td>\n",
              "      <td>62592.87</td>\n",
              "      <td>2</td>\n",
              "      <td>3</td>\n",
              "      <td>30.360</td>\n",
              "      <td>...</td>\n",
              "      <td>0</td>\n",
              "      <td>0</td>\n",
              "      <td>0</td>\n",
              "      <td>1</td>\n",
              "      <td>0</td>\n",
              "      <td>0</td>\n",
              "      <td>1</td>\n",
              "      <td>1977-06-08</td>\n",
              "      <td>45</td>\n",
              "      <td>1</td>\n",
              "    </tr>\n",
              "    <tr>\n",
              "      <th>3</th>\n",
              "      <td>Id4</td>\n",
              "      <td>Osborne, Ms.  Kelsey</td>\n",
              "      <td>1991</td>\n",
              "      <td>6</td>\n",
              "      <td>6</td>\n",
              "      <td>1</td>\n",
              "      <td>58571.07</td>\n",
              "      <td>1</td>\n",
              "      <td>3</td>\n",
              "      <td>38.095</td>\n",
              "      <td>...</td>\n",
              "      <td>0</td>\n",
              "      <td>0</td>\n",
              "      <td>0</td>\n",
              "      <td>1</td>\n",
              "      <td>0</td>\n",
              "      <td>0</td>\n",
              "      <td>0</td>\n",
              "      <td>1991-06-06</td>\n",
              "      <td>31</td>\n",
              "      <td>0</td>\n",
              "    </tr>\n",
              "    <tr>\n",
              "      <th>4</th>\n",
              "      <td>Id5</td>\n",
              "      <td>Kadala, Ms.  Kristyn</td>\n",
              "      <td>1989</td>\n",
              "      <td>6</td>\n",
              "      <td>19</td>\n",
              "      <td>0</td>\n",
              "      <td>55135.40</td>\n",
              "      <td>1</td>\n",
              "      <td>2</td>\n",
              "      <td>35.530</td>\n",
              "      <td>...</td>\n",
              "      <td>0</td>\n",
              "      <td>0</td>\n",
              "      <td>0</td>\n",
              "      <td>1</td>\n",
              "      <td>0</td>\n",
              "      <td>1</td>\n",
              "      <td>0</td>\n",
              "      <td>1989-06-19</td>\n",
              "      <td>33</td>\n",
              "      <td>0</td>\n",
              "    </tr>\n",
              "    <tr>\n",
              "      <th>5</th>\n",
              "      <td>Id6</td>\n",
              "      <td>Baker, Mr.  Russell B.</td>\n",
              "      <td>1962</td>\n",
              "      <td>8</td>\n",
              "      <td>4</td>\n",
              "      <td>0</td>\n",
              "      <td>52590.83</td>\n",
              "      <td>1</td>\n",
              "      <td>3</td>\n",
              "      <td>32.800</td>\n",
              "      <td>...</td>\n",
              "      <td>0</td>\n",
              "      <td>0</td>\n",
              "      <td>0</td>\n",
              "      <td>1</td>\n",
              "      <td>1</td>\n",
              "      <td>0</td>\n",
              "      <td>0</td>\n",
              "      <td>1962-08-04</td>\n",
              "      <td>60</td>\n",
              "      <td>1</td>\n",
              "    </tr>\n",
              "  </tbody>\n",
              "</table>\n",
              "<p>5 rows × 22 columns</p>\n",
              "</div>\n",
              "      <button class=\"colab-df-convert\" onclick=\"convertToInteractive('df-6256e2a4-9a2d-450a-851e-95530d60463a')\"\n",
              "              title=\"Convert this dataframe to an interactive table.\"\n",
              "              style=\"display:none;\">\n",
              "        \n",
              "  <svg xmlns=\"http://www.w3.org/2000/svg\" height=\"24px\"viewBox=\"0 0 24 24\"\n",
              "       width=\"24px\">\n",
              "    <path d=\"M0 0h24v24H0V0z\" fill=\"none\"/>\n",
              "    <path d=\"M18.56 5.44l.94 2.06.94-2.06 2.06-.94-2.06-.94-.94-2.06-.94 2.06-2.06.94zm-11 1L8.5 8.5l.94-2.06 2.06-.94-2.06-.94L8.5 2.5l-.94 2.06-2.06.94zm10 10l.94 2.06.94-2.06 2.06-.94-2.06-.94-.94-2.06-.94 2.06-2.06.94z\"/><path d=\"M17.41 7.96l-1.37-1.37c-.4-.4-.92-.59-1.43-.59-.52 0-1.04.2-1.43.59L10.3 9.45l-7.72 7.72c-.78.78-.78 2.05 0 2.83L4 21.41c.39.39.9.59 1.41.59.51 0 1.02-.2 1.41-.59l7.78-7.78 2.81-2.81c.8-.78.8-2.07 0-2.86zM5.41 20L4 18.59l7.72-7.72 1.47 1.35L5.41 20z\"/>\n",
              "  </svg>\n",
              "      </button>\n",
              "      \n",
              "  <style>\n",
              "    .colab-df-container {\n",
              "      display:flex;\n",
              "      flex-wrap:wrap;\n",
              "      gap: 12px;\n",
              "    }\n",
              "\n",
              "    .colab-df-convert {\n",
              "      background-color: #E8F0FE;\n",
              "      border: none;\n",
              "      border-radius: 50%;\n",
              "      cursor: pointer;\n",
              "      display: none;\n",
              "      fill: #1967D2;\n",
              "      height: 32px;\n",
              "      padding: 0 0 0 0;\n",
              "      width: 32px;\n",
              "    }\n",
              "\n",
              "    .colab-df-convert:hover {\n",
              "      background-color: #E2EBFA;\n",
              "      box-shadow: 0px 1px 2px rgba(60, 64, 67, 0.3), 0px 1px 3px 1px rgba(60, 64, 67, 0.15);\n",
              "      fill: #174EA6;\n",
              "    }\n",
              "\n",
              "    [theme=dark] .colab-df-convert {\n",
              "      background-color: #3B4455;\n",
              "      fill: #D2E3FC;\n",
              "    }\n",
              "\n",
              "    [theme=dark] .colab-df-convert:hover {\n",
              "      background-color: #434B5C;\n",
              "      box-shadow: 0px 1px 3px 1px rgba(0, 0, 0, 0.15);\n",
              "      filter: drop-shadow(0px 1px 2px rgba(0, 0, 0, 0.3));\n",
              "      fill: #FFFFFF;\n",
              "    }\n",
              "  </style>\n",
              "\n",
              "      <script>\n",
              "        const buttonEl =\n",
              "          document.querySelector('#df-6256e2a4-9a2d-450a-851e-95530d60463a button.colab-df-convert');\n",
              "        buttonEl.style.display =\n",
              "          google.colab.kernel.accessAllowed ? 'block' : 'none';\n",
              "\n",
              "        async function convertToInteractive(key) {\n",
              "          const element = document.querySelector('#df-6256e2a4-9a2d-450a-851e-95530d60463a');\n",
              "          const dataTable =\n",
              "            await google.colab.kernel.invokeFunction('convertToInteractive',\n",
              "                                                     [key], {});\n",
              "          if (!dataTable) return;\n",
              "\n",
              "          const docLinkHtml = 'Like what you see? Visit the ' +\n",
              "            '<a target=\"_blank\" href=https://colab.research.google.com/notebooks/data_table.ipynb>data table notebook</a>'\n",
              "            + ' to learn more about interactive tables.';\n",
              "          element.innerHTML = '';\n",
              "          dataTable['output_type'] = 'display_data';\n",
              "          await google.colab.output.renderOutput(dataTable, element);\n",
              "          const docLink = document.createElement('div');\n",
              "          docLink.innerHTML = docLinkHtml;\n",
              "          element.appendChild(docLink);\n",
              "        }\n",
              "      </script>\n",
              "    </div>\n",
              "  </div>\n",
              "  "
            ]
          },
          "metadata": {},
          "execution_count": 182
        }
      ]
    },
    {
      "cell_type": "markdown",
      "source": [
        "#9. You should also visualize the distribution of costs using a histogram, box and whisker plot, and swarm plot."
      ],
      "metadata": {
        "id": "5Bl2C0Nj0SgH"
      }
    },
    {
      "cell_type": "code",
      "source": [
        "#lets make the histogram for the cost distribution\n",
        "plt.figure(figsize = (12,5))\n",
        "sns.histplot(final_df['charges'])\n",
        "plt.show()"
      ],
      "metadata": {
        "colab": {
          "base_uri": "https://localhost:8080/",
          "height": 334
        },
        "id": "ciOGBU-M0OBt",
        "outputId": "b7cf6647-0b70-4ac9-e72e-693d6c480b33"
      },
      "execution_count": 183,
      "outputs": [
        {
          "output_type": "display_data",
          "data": {
            "text/plain": [
              "<Figure size 864x360 with 1 Axes>"
            ],
            "image/png": "[encoded data removed]"
          },
          "metadata": {
            "needs_background": "light"
          }
        }
      ]
    },
    {
      "cell_type": "code",
      "source": [
        "# visualize the cost distribution of the hospitals by box or whisker plot.\n",
        "plt.boxplot(final_df['charges'])\n",
        "plt.show()"
      ],
      "metadata": {
        "colab": {
          "base_uri": "https://localhost:8080/",
          "height": 265
        },
        "id": "pFhoXoAQ0pa7",
        "outputId": "c3925036-0d2b-45e0-aa5e-f9dadc2ab848"
      },
      "execution_count": 184,
      "outputs": [
        {
          "output_type": "display_data",
          "data": {
            "text/plain": [
              "<Figure size 432x288 with 1 Axes>"
            ],
            "image/png": "[encoded data removed]"
          },
          "metadata": {
            "needs_background": "light"
          }
        }
      ]
    },
    {
      "cell_type": "code",
      "source": [
        "# visualize the cost distribution of the hospitals by swarm plot.\n",
        "plt.figure(figsize = (12,5))\n",
        "sns.swarmplot(x = 'year', y = 'charges', hue = \"gender\", data = final_df)\n",
        "plt.show()"
      ],
      "metadata": {
        "colab": {
          "base_uri": "https://localhost:8080/",
          "height": 334
        },
        "id": "wzSEmdqw08yu",
        "outputId": "de3d1d99-ea26-4946-f917-81d11d70432b"
      },
      "execution_count": 185,
      "outputs": [
        {
          "output_type": "display_data",
          "data": {
            "text/plain": [
              "<Figure size 864x360 with 1 Axes>"
            ],
            "image/png": "[encoded data removed]"
          },
          "metadata": {
            "needs_background": "light"
          }
        }
      ]
    },
    {
      "cell_type": "markdown",
      "source": [
        "#10. State how the distribution is different across gender and tiers of hospitals"
      ],
      "metadata": {
        "id": "rvKXRmI31arh"
      }
    },
    {
      "cell_type": "code",
      "source": [
        "sns.countplot(data = final_df, x = 'Hospital tier', hue = 'gender')\n",
        "plt.show()"
      ],
      "metadata": {
        "colab": {
          "base_uri": "https://localhost:8080/",
          "height": 279
        },
        "id": "FQrKl26S1ULZ",
        "outputId": "9bcab907-6476-4da4-c910-129f630402eb"
      },
      "execution_count": 186,
      "outputs": [
        {
          "output_type": "display_data",
          "data": {
            "text/plain": [
              "<Figure size 432x288 with 1 Axes>"
            ],
            "image/png": "[encoded data removed]"
          },
          "metadata": {
            "needs_background": "light"
          }
        }
      ]
    },
    {
      "cell_type": "markdown",
      "source": [
        "From the above representation it is clear that the number of female in the tier 1 and 3 is half of the male just in tier 2 hospital female is little bit more as compare to male."
      ],
      "metadata": {
        "id": "lGg8cD5e1tqh"
      }
    },
    {
      "cell_type": "markdown",
      "source": [
        "#11. Create a radar chart to showcase the median hospitalization cost for each tier of hospitals"
      ],
      "metadata": {
        "id": "KhHZOkPa1uif"
      }
    },
    {
      "cell_type": "code",
      "source": [
        "print(\"median cost of tier 1 hospitals:\", final_df[final_df[\"Hospital tier\"]==1].charges.median())\n",
        "print(\"median cost of tier 2 hospitals:\", final_df[final_df[\"Hospital tier\"]==2].charges.median())\n",
        "print(\"median cost of tier 3 hospitals:\", final_df[final_df[\"Hospital tier\"]==3].charges.median())"
      ],
      "metadata": {
        "colab": {
          "base_uri": "https://localhost:8080/"
        },
        "id": "fymw2tMZ1rWV",
        "outputId": "f25614e1-7b71-43c5-d386-619dfbb48f2b"
      },
      "execution_count": 187,
      "outputs": [
        {
          "output_type": "stream",
          "name": "stdout",
          "text": [
            "median cost of tier 1 hospitals: 32097.434999999998\n",
            "median cost of tier 2 hospitals: 7168.76\n",
            "median cost of tier 3 hospitals: 10676.83\n"
          ]
        }
      ]
    },
    {
      "cell_type": "code",
      "source": [
        "df = pd.DataFrame(dict(r = [32097.43, 7168.76,10676.83], theta = ['tier 1 hospital', 'tier 2 hospital', 'tier 3 hospital']))"
      ],
      "metadata": {
        "id": "E906kglS2vrT"
      },
      "execution_count": 188,
      "outputs": []
    },
    {
      "cell_type": "code",
      "source": [
        "df"
      ],
      "metadata": {
        "colab": {
          "base_uri": "https://localhost:8080/",
          "height": 143
        },
        "id": "wQJDqR-B3LLx",
        "outputId": "3f243129-9256-4c4f-e05f-1d6170d4afea"
      },
      "execution_count": 189,
      "outputs": [
        {
          "output_type": "execute_result",
          "data": {
            "text/plain": [
              "          r            theta\n",
              "0  32097.43  tier 1 hospital\n",
              "1   7168.76  tier 2 hospital\n",
              "2  10676.83  tier 3 hospital"
            ],
            "text/html": [
              "\n",
              "  <div id=\"df-92cddbc2-0c72-4f60-9df6-2b6a7b96a5b0\">\n",
              "    <div class=\"colab-df-container\">\n",
              "      <div>\n",
              "<style scoped>\n",
              "    .dataframe tbody tr th:only-of-type {\n",
              "        vertical-align: middle;\n",
              "    }\n",
              "\n",
              "    .dataframe tbody tr th {\n",
              "        vertical-align: top;\n",
              "    }\n",
              "\n",
              "    .dataframe thead th {\n",
              "        text-align: right;\n",
              "    }\n",
              "</style>\n",
              "<table border=\"1\" class=\"dataframe\">\n",
              "  <thead>\n",
              "    <tr style=\"text-align: right;\">\n",
              "      <th></th>\n",
              "      <th>r</th>\n",
              "      <th>theta</th>\n",
              "    </tr>\n",
              "  </thead>\n",
              "  <tbody>\n",
              "    <tr>\n",
              "      <th>0</th>\n",
              "      <td>32097.43</td>\n",
              "      <td>tier 1 hospital</td>\n",
              "    </tr>\n",
              "    <tr>\n",
              "      <th>1</th>\n",
              "      <td>7168.76</td>\n",
              "      <td>tier 2 hospital</td>\n",
              "    </tr>\n",
              "    <tr>\n",
              "      <th>2</th>\n",
              "      <td>10676.83</td>\n",
              "      <td>tier 3 hospital</td>\n",
              "    </tr>\n",
              "  </tbody>\n",
              "</table>\n",
              "</div>\n",
              "      <button class=\"colab-df-convert\" onclick=\"convertToInteractive('df-92cddbc2-0c72-4f60-9df6-2b6a7b96a5b0')\"\n",
              "              title=\"Convert this dataframe to an interactive table.\"\n",
              "              style=\"display:none;\">\n",
              "        \n",
              "  <svg xmlns=\"http://www.w3.org/2000/svg\" height=\"24px\"viewBox=\"0 0 24 24\"\n",
              "       width=\"24px\">\n",
              "    <path d=\"M0 0h24v24H0V0z\" fill=\"none\"/>\n",
              "    <path d=\"M18.56 5.44l.94 2.06.94-2.06 2.06-.94-2.06-.94-.94-2.06-.94 2.06-2.06.94zm-11 1L8.5 8.5l.94-2.06 2.06-.94-2.06-.94L8.5 2.5l-.94 2.06-2.06.94zm10 10l.94 2.06.94-2.06 2.06-.94-2.06-.94-.94-2.06-.94 2.06-2.06.94z\"/><path d=\"M17.41 7.96l-1.37-1.37c-.4-.4-.92-.59-1.43-.59-.52 0-1.04.2-1.43.59L10.3 9.45l-7.72 7.72c-.78.78-.78 2.05 0 2.83L4 21.41c.39.39.9.59 1.41.59.51 0 1.02-.2 1.41-.59l7.78-7.78 2.81-2.81c.8-.78.8-2.07 0-2.86zM5.41 20L4 18.59l7.72-7.72 1.47 1.35L5.41 20z\"/>\n",
              "  </svg>\n",
              "      </button>\n",
              "      \n",
              "  <style>\n",
              "    .colab-df-container {\n",
              "      display:flex;\n",
              "      flex-wrap:wrap;\n",
              "      gap: 12px;\n",
              "    }\n",
              "\n",
              "    .colab-df-convert {\n",
              "      background-color: #E8F0FE;\n",
              "      border: none;\n",
              "      border-radius: 50%;\n",
              "      cursor: pointer;\n",
              "      display: none;\n",
              "      fill: #1967D2;\n",
              "      height: 32px;\n",
              "      padding: 0 0 0 0;\n",
              "      width: 32px;\n",
              "    }\n",
              "\n",
              "    .colab-df-convert:hover {\n",
              "      background-color: #E2EBFA;\n",
              "      box-shadow: 0px 1px 2px rgba(60, 64, 67, 0.3), 0px 1px 3px 1px rgba(60, 64, 67, 0.15);\n",
              "      fill: #174EA6;\n",
              "    }\n",
              "\n",
              "    [theme=dark] .colab-df-convert {\n",
              "      background-color: #3B4455;\n",
              "      fill: #D2E3FC;\n",
              "    }\n",
              "\n",
              "    [theme=dark] .colab-df-convert:hover {\n",
              "      background-color: #434B5C;\n",
              "      box-shadow: 0px 1px 3px 1px rgba(0, 0, 0, 0.15);\n",
              "      filter: drop-shadow(0px 1px 2px rgba(0, 0, 0, 0.3));\n",
              "      fill: #FFFFFF;\n",
              "    }\n",
              "  </style>\n",
              "\n",
              "      <script>\n",
              "        const buttonEl =\n",
              "          document.querySelector('#df-92cddbc2-0c72-4f60-9df6-2b6a7b96a5b0 button.colab-df-convert');\n",
              "        buttonEl.style.display =\n",
              "          google.colab.kernel.accessAllowed ? 'block' : 'none';\n",
              "\n",
              "        async function convertToInteractive(key) {\n",
              "          const element = document.querySelector('#df-92cddbc2-0c72-4f60-9df6-2b6a7b96a5b0');\n",
              "          const dataTable =\n",
              "            await google.colab.kernel.invokeFunction('convertToInteractive',\n",
              "                                                     [key], {});\n",
              "          if (!dataTable) return;\n",
              "\n",
              "          const docLinkHtml = 'Like what you see? Visit the ' +\n",
              "            '<a target=\"_blank\" href=https://colab.research.google.com/notebooks/data_table.ipynb>data table notebook</a>'\n",
              "            + ' to learn more about interactive tables.';\n",
              "          element.innerHTML = '';\n",
              "          dataTable['output_type'] = 'display_data';\n",
              "          await google.colab.output.renderOutput(dataTable, element);\n",
              "          const docLink = document.createElement('div');\n",
              "          docLink.innerHTML = docLinkHtml;\n",
              "          element.appendChild(docLink);\n",
              "        }\n",
              "      </script>\n",
              "    </div>\n",
              "  </div>\n",
              "  "
            ]
          },
          "metadata": {},
          "execution_count": 189
        }
      ]
    },
    {
      "cell_type": "code",
      "source": [
        "import plotly.express as px\n",
        "fig = px.line_polar(df, r='r', theta = 'theta', line_close = True)\n",
        "fig.update_traces(fill = 'toself')\n",
        "fig.show()"
      ],
      "metadata": {
        "colab": {
          "base_uri": "https://localhost:8080/",
          "height": 542
        },
        "id": "kn2Okks33NQG",
        "outputId": "621909fa-54d7-4f89-d4d7-366669d44e45"
      },
      "execution_count": 190,
      "outputs": [
        {
          "output_type": "display_data",
          "data": {
            "text/html": [
              "<html>\n",
              "<head><meta charset=\"utf-8\" /></head>\n",
              "<body>\n",
              "    <div>            <script src=\"https://cdnjs.cloudflare.com/ajax/libs/mathjax/2.7.5/MathJax.js?config=TeX-AMS-MML_SVG\"></script><script type=\"text/javascript\">if (window.MathJax) {MathJax.Hub.Config({SVG: {font: \"STIX-Web\"}});}</script>                <script type=\"text/javascript\">window.PlotlyConfig = {MathJaxConfig: 'local'};</script>\n",
              "        <script src=\"https://cdn.plot.ly/plotly-2.8.3.min.js\"></script>                <div id=\"dbf8500a-5256-4023-b3bd-c5d7e5c87417\" class=\"plotly-graph-div\" style=\"height:525px; width:100%;\"></div>            <script type=\"text/javascript\">                                    window.PLOTLYENV=window.PLOTLYENV || {};                                    if (document.getElementById(\"dbf8500a-5256-4023-b3bd-c5d7e5c87417\")) {                    Plotly.newPlot(                        \"dbf8500a-5256-4023-b3bd-c5d7e5c87417\",                        [{\"hovertemplate\":\"r=%{r}<br>theta=%{theta}<extra></extra>\",\"legendgroup\":\"\",\"line\":{\"color\":\"#636efa\",\"dash\":\"solid\"},\"marker\":{\"symbol\":\"circle\"},\"mode\":\"lines\",\"name\":\"\",\"r\":[32097.43,7168.76,10676.83,32097.43],\"showlegend\":false,\"subplot\":\"polar\",\"theta\":[\"tier 1 hospital\",\"tier 2 hospital\",\"tier 3 hospital\",\"tier 1 hospital\"],\"type\":\"scatterpolar\",\"fill\":\"toself\"}],                        {\"template\":{\"data\":{\"bar\":[{\"error_x\":{\"color\":\"#2a3f5f\"},\"error_y\":{\"color\":\"#2a3f5f\"},\"marker\":{\"line\":{\"color\":\"#E5ECF6\",\"width\":0.5},\"pattern\":{\"fillmode\":\"overlay\",\"size\":10,\"solidity\":0.2}},\"type\":\"bar\"}],\"barpolar\":[{\"marker\":{\"line\":{\"color\":\"#E5ECF6\",\"width\":0.5},\"pattern\":{\"fillmode\":\"overlay\",\"size\":10,\"solidity\":0.2}},\"type\":\"barpolar\"}],\"carpet\":[{\"aaxis\":{\"endlinecolor\":\"#2a3f5f\",\"gridcolor\":\"white\",\"linecolor\":\"white\",\"minorgridcolor\":\"white\",\"startlinecolor\":\"#2a3f5f\"},\"baxis\":{\"endlinecolor\":\"#2a3f5f\",\"gridcolor\":\"white\",\"linecolor\":\"white\",\"minorgridcolor\":\"white\",\"startlinecolor\":\"#2a3f5f\"},\"type\":\"carpet\"}],\"choropleth\":[{\"colorbar\":{\"outlinewidth\":0,\"ticks\":\"\"},\"type\":\"choropleth\"}],\"contour\":[{\"colorbar\":{\"outlinewidth\":0,\"ticks\":\"\"},\"colorscale\":[[0.0,\"#0d0887\"],[0.1111111111111111,\"#46039f\"],[0.2222222222222222,\"#7201a8\"],[0.3333333333333333,\"#9c179e\"],[0.4444444444444444,\"#bd3786\"],[0.5555555555555556,\"#d8576b\"],[0.6666666666666666,\"#ed7953\"],[0.7777777777777778,\"#fb9f3a\"],[0.8888888888888888,\"#fdca26\"],[1.0,\"#f0f921\"]],\"type\":\"contour\"}],\"contourcarpet\":[{\"colorbar\":{\"outlinewidth\":0,\"ticks\":\"\"},\"type\":\"contourcarpet\"}],\"heatmap\":[{\"colorbar\":{\"outlinewidth\":0,\"ticks\":\"\"},\"colorscale\":[[0.0,\"#0d0887\"],[0.1111111111111111,\"#46039f\"],[0.2222222222222222,\"#7201a8\"],[0.3333333333333333,\"#9c179e\"],[0.4444444444444444,\"#bd3786\"],[0.5555555555555556,\"#d8576b\"],[0.6666666666666666,\"#ed7953\"],[0.7777777777777778,\"#fb9f3a\"],[0.8888888888888888,\"#fdca26\"],[1.0,\"#f0f921\"]],\"type\":\"heatmap\"}],\"heatmapgl\":[{\"colorbar\":{\"outlinewidth\":0,\"ticks\":\"\"},\"colorscale\":[[0.0,\"#0d0887\"],[0.1111111111111111,\"#46039f\"],[0.2222222222222222,\"#7201a8\"],[0.3333333333333333,\"#9c179e\"],[0.4444444444444444,\"#bd3786\"],[0.5555555555555556,\"#d8576b\"],[0.6666666666666666,\"#ed7953\"],[0.7777777777777778,\"#fb9f3a\"],[0.8888888888888888,\"#fdca26\"],[1.0,\"#f0f921\"]],\"type\":\"heatmapgl\"}],\"histogram\":[{\"marker\":{\"pattern\":{\"fillmode\":\"overlay\",\"size\":10,\"solidity\":0.2}},\"type\":\"histogram\"}],\"histogram2d\":[{\"colorbar\":{\"outlinewidth\":0,\"ticks\":\"\"},\"colorscale\":[[0.0,\"#0d0887\"],[0.1111111111111111,\"#46039f\"],[0.2222222222222222,\"#7201a8\"],[0.3333333333333333,\"#9c179e\"],[0.4444444444444444,\"#bd3786\"],[0.5555555555555556,\"#d8576b\"],[0.6666666666666666,\"#ed7953\"],[0.7777777777777778,\"#fb9f3a\"],[0.8888888888888888,\"#fdca26\"],[1.0,\"#f0f921\"]],\"type\":\"histogram2d\"}],\"histogram2dcontour\":[{\"colorbar\":{\"outlinewidth\":0,\"ticks\":\"\"},\"colorscale\":[[0.0,\"#0d0887\"],[0.1111111111111111,\"#46039f\"],[0.2222222222222222,\"#7201a8\"],[0.3333333333333333,\"#9c179e\"],[0.4444444444444444,\"#bd3786\"],[0.5555555555555556,\"#d8576b\"],[0.6666666666666666,\"#ed7953\"],[0.7777777777777778,\"#fb9f3a\"],[0.8888888888888888,\"#fdca26\"],[1.0,\"#f0f921\"]],\"type\":\"histogram2dcontour\"}],\"mesh3d\":[{\"colorbar\":{\"outlinewidth\":0,\"ticks\":\"\"},\"type\":\"mesh3d\"}],\"parcoords\":[{\"line\":{\"colorbar\":{\"outlinewidth\":0,\"ticks\":\"\"}},\"type\":\"parcoords\"}],\"pie\":[{\"automargin\":true,\"type\":\"pie\"}],\"scatter\":[{\"marker\":{\"colorbar\":{\"outlinewidth\":0,\"ticks\":\"\"}},\"type\":\"scatter\"}],\"scatter3d\":[{\"line\":{\"colorbar\":{\"outlinewidth\":0,\"ticks\":\"\"}},\"marker\":{\"colorbar\":{\"outlinewidth\":0,\"ticks\":\"\"}},\"type\":\"scatter3d\"}],\"scattercarpet\":[{\"marker\":{\"colorbar\":{\"outlinewidth\":0,\"ticks\":\"\"}},\"type\":\"scattercarpet\"}],\"scattergeo\":[{\"marker\":{\"colorbar\":{\"outlinewidth\":0,\"ticks\":\"\"}},\"type\":\"scattergeo\"}],\"scattergl\":[{\"marker\":{\"colorbar\":{\"outlinewidth\":0,\"ticks\":\"\"}},\"type\":\"scattergl\"}],\"scattermapbox\":[{\"marker\":{\"colorbar\":{\"outlinewidth\":0,\"ticks\":\"\"}},\"type\":\"scattermapbox\"}],\"scatterpolar\":[{\"marker\":{\"colorbar\":{\"outlinewidth\":0,\"ticks\":\"\"}},\"type\":\"scatterpolar\"}],\"scatterpolargl\":[{\"marker\":{\"colorbar\":{\"outlinewidth\":0,\"ticks\":\"\"}},\"type\":\"scatterpolargl\"}],\"scatterternary\":[{\"marker\":{\"colorbar\":{\"outlinewidth\":0,\"ticks\":\"\"}},\"type\":\"scatterternary\"}],\"surface\":[{\"colorbar\":{\"outlinewidth\":0,\"ticks\":\"\"},\"colorscale\":[[0.0,\"#0d0887\"],[0.1111111111111111,\"#46039f\"],[0.2222222222222222,\"#7201a8\"],[0.3333333333333333,\"#9c179e\"],[0.4444444444444444,\"#bd3786\"],[0.5555555555555556,\"#d8576b\"],[0.6666666666666666,\"#ed7953\"],[0.7777777777777778,\"#fb9f3a\"],[0.8888888888888888,\"#fdca26\"],[1.0,\"#f0f921\"]],\"type\":\"surface\"}],\"table\":[{\"cells\":{\"fill\":{\"color\":\"#EBF0F8\"},\"line\":{\"color\":\"white\"}},\"header\":{\"fill\":{\"color\":\"#C8D4E3\"},\"line\":{\"color\":\"white\"}},\"type\":\"table\"}]},\"layout\":{\"annotationdefaults\":{\"arrowcolor\":\"#2a3f5f\",\"arrowhead\":0,\"arrowwidth\":1},\"autotypenumbers\":\"strict\",\"coloraxis\":{\"colorbar\":{\"outlinewidth\":0,\"ticks\":\"\"}},\"colorscale\":{\"diverging\":[[0,\"#8e0152\"],[0.1,\"#c51b7d\"],[0.2,\"#de77ae\"],[0.3,\"#f1b6da\"],[0.4,\"#fde0ef\"],[0.5,\"#f7f7f7\"],[0.6,\"#e6f5d0\"],[0.7,\"#b8e186\"],[0.8,\"#7fbc41\"],[0.9,\"#4d9221\"],[1,\"#276419\"]],\"sequential\":[[0.0,\"#0d0887\"],[0.1111111111111111,\"#46039f\"],[0.2222222222222222,\"#7201a8\"],[0.3333333333333333,\"#9c179e\"],[0.4444444444444444,\"#bd3786\"],[0.5555555555555556,\"#d8576b\"],[0.6666666666666666,\"#ed7953\"],[0.7777777777777778,\"#fb9f3a\"],[0.8888888888888888,\"#fdca26\"],[1.0,\"#f0f921\"]],\"sequentialminus\":[[0.0,\"#0d0887\"],[0.1111111111111111,\"#46039f\"],[0.2222222222222222,\"#7201a8\"],[0.3333333333333333,\"#9c179e\"],[0.4444444444444444,\"#bd3786\"],[0.5555555555555556,\"#d8576b\"],[0.6666666666666666,\"#ed7953\"],[0.7777777777777778,\"#fb9f3a\"],[0.8888888888888888,\"#fdca26\"],[1.0,\"#f0f921\"]]},\"colorway\":[\"#636efa\",\"#EF553B\",\"#00cc96\",\"#ab63fa\",\"#FFA15A\",\"#19d3f3\",\"#FF6692\",\"#B6E880\",\"#FF97FF\",\"#FECB52\"],\"font\":{\"color\":\"#2a3f5f\"},\"geo\":{\"bgcolor\":\"white\",\"lakecolor\":\"white\",\"landcolor\":\"#E5ECF6\",\"showlakes\":true,\"showland\":true,\"subunitcolor\":\"white\"},\"hoverlabel\":{\"align\":\"left\"},\"hovermode\":\"closest\",\"mapbox\":{\"style\":\"light\"},\"paper_bgcolor\":\"white\",\"plot_bgcolor\":\"#E5ECF6\",\"polar\":{\"angularaxis\":{\"gridcolor\":\"white\",\"linecolor\":\"white\",\"ticks\":\"\"},\"bgcolor\":\"#E5ECF6\",\"radialaxis\":{\"gridcolor\":\"white\",\"linecolor\":\"white\",\"ticks\":\"\"}},\"scene\":{\"xaxis\":{\"backgroundcolor\":\"#E5ECF6\",\"gridcolor\":\"white\",\"gridwidth\":2,\"linecolor\":\"white\",\"showbackground\":true,\"ticks\":\"\",\"zerolinecolor\":\"white\"},\"yaxis\":{\"backgroundcolor\":\"#E5ECF6\",\"gridcolor\":\"white\",\"gridwidth\":2,\"linecolor\":\"white\",\"showbackground\":true,\"ticks\":\"\",\"zerolinecolor\":\"white\"},\"zaxis\":{\"backgroundcolor\":\"#E5ECF6\",\"gridcolor\":\"white\",\"gridwidth\":2,\"linecolor\":\"white\",\"showbackground\":true,\"ticks\":\"\",\"zerolinecolor\":\"white\"}},\"shapedefaults\":{\"line\":{\"color\":\"#2a3f5f\"}},\"ternary\":{\"aaxis\":{\"gridcolor\":\"white\",\"linecolor\":\"white\",\"ticks\":\"\"},\"baxis\":{\"gridcolor\":\"white\",\"linecolor\":\"white\",\"ticks\":\"\"},\"bgcolor\":\"#E5ECF6\",\"caxis\":{\"gridcolor\":\"white\",\"linecolor\":\"white\",\"ticks\":\"\"}},\"title\":{\"x\":0.05},\"xaxis\":{\"automargin\":true,\"gridcolor\":\"white\",\"linecolor\":\"white\",\"ticks\":\"\",\"title\":{\"standoff\":15},\"zerolinecolor\":\"white\",\"zerolinewidth\":2},\"yaxis\":{\"automargin\":true,\"gridcolor\":\"white\",\"linecolor\":\"white\",\"ticks\":\"\",\"title\":{\"standoff\":15},\"zerolinecolor\":\"white\",\"zerolinewidth\":2}}},\"polar\":{\"domain\":{\"x\":[0.0,1.0],\"y\":[0.0,1.0]},\"angularaxis\":{\"direction\":\"clockwise\",\"rotation\":90}},\"legend\":{\"tracegroupgap\":0},\"margin\":{\"t\":60}},                        {\"responsive\": true}                    ).then(function(){\n",
              "                            \n",
              "var gd = document.getElementById('dbf8500a-5256-4023-b3bd-c5d7e5c87417');\n",
              "var x = new MutationObserver(function (mutations, observer) {{\n",
              "        var display = window.getComputedStyle(gd).display;\n",
              "        if (!display || display === 'none') {{\n",
              "            console.log([gd, 'removed!']);\n",
              "            Plotly.purge(gd);\n",
              "            observer.disconnect();\n",
              "        }}\n",
              "}});\n",
              "\n",
              "// Listen for the removal of the full notebook cells\n",
              "var notebookContainer = gd.closest('#notebook-container');\n",
              "if (notebookContainer) {{\n",
              "    x.observe(notebookContainer, {childList: true});\n",
              "}}\n",
              "\n",
              "// Listen for the clearing of the current output cell\n",
              "var outputEl = gd.closest('.output');\n",
              "if (outputEl) {{\n",
              "    x.observe(outputEl, {childList: true});\n",
              "}}\n",
              "\n",
              "                        })                };                            </script>        </div>\n",
              "</body>\n",
              "</html>"
            ]
          },
          "metadata": {}
        }
      ]
    },
    {
      "cell_type": "markdown",
      "source": [
        "#12. Create a frequency table and a stacked bar chart to visualize the count of people in the different tiers of cities and hospitals"
      ],
      "metadata": {
        "id": "KpS-eZW7amEb"
      }
    },
    {
      "cell_type": "code",
      "source": [
        "final_df[\"Hospital tier\"].value_counts()\n"
      ],
      "metadata": {
        "colab": {
          "base_uri": "https://localhost:8080/"
        },
        "id": "FJ5V15cQ3jLT",
        "outputId": "55ed19f2-ebc1-4cd1-ca0a-3836027fee60"
      },
      "execution_count": 191,
      "outputs": [
        {
          "output_type": "execute_result",
          "data": {
            "text/plain": [
              "2    1334\n",
              "3     691\n",
              "1     300\n",
              "Name: Hospital tier, dtype: int64"
            ]
          },
          "metadata": {},
          "execution_count": 191
        }
      ]
    },
    {
      "cell_type": "code",
      "source": [
        "final_df[\"City tier\"].value_counts()"
      ],
      "metadata": {
        "colab": {
          "base_uri": "https://localhost:8080/"
        },
        "id": "L8K3rwkPceHg",
        "outputId": "7818a755-2587-4cd5-fee0-74c12c7426a0"
      },
      "execution_count": 192,
      "outputs": [
        {
          "output_type": "execute_result",
          "data": {
            "text/plain": [
              "2    807\n",
              "3    789\n",
              "1    729\n",
              "Name: City tier, dtype: int64"
            ]
          },
          "metadata": {},
          "execution_count": 192
        }
      ]
    },
    {
      "cell_type": "code",
      "source": [
        "city_freq = final_df[\"City tier\"].value_counts().rename_axis('City&hospital_tier').reset_index(name = 'city_counts')"
      ],
      "metadata": {
        "id": "lwn1RqANa9_H"
      },
      "execution_count": 193,
      "outputs": []
    },
    {
      "cell_type": "code",
      "source": [
        "hospital_freq = final_df[\"Hospital tier\"].value_counts().rename_axis('City&hospital_tier').reset_index(name = 'hospital_counts')"
      ],
      "metadata": {
        "id": "8DwSF7z-bb_M"
      },
      "execution_count": 194,
      "outputs": []
    },
    {
      "cell_type": "code",
      "source": [
        "df = pd.merge(city_freq, hospital_freq, on = 'City&hospital_tier')"
      ],
      "metadata": {
        "id": "F461NxP9cCxL"
      },
      "execution_count": 195,
      "outputs": []
    },
    {
      "cell_type": "code",
      "source": [
        "df"
      ],
      "metadata": {
        "colab": {
          "base_uri": "https://localhost:8080/",
          "height": 143
        },
        "id": "dymmnA6HcOMr",
        "outputId": "d3660325-ea27-482c-d2e5-fa5cd6b655bd"
      },
      "execution_count": 196,
      "outputs": [
        {
          "output_type": "execute_result",
          "data": {
            "text/plain": [
              "   City&hospital_tier  city_counts  hospital_counts\n",
              "0                   2          807             1334\n",
              "1                   3          789              691\n",
              "2                   1          729              300"
            ],
            "text/html": [
              "\n",
              "  <div id=\"df-11d446a3-1ca3-4bb3-a73b-ba8290b04b93\">\n",
              "    <div class=\"colab-df-container\">\n",
              "      <div>\n",
              "<style scoped>\n",
              "    .dataframe tbody tr th:only-of-type {\n",
              "        vertical-align: middle;\n",
              "    }\n",
              "\n",
              "    .dataframe tbody tr th {\n",
              "        vertical-align: top;\n",
              "    }\n",
              "\n",
              "    .dataframe thead th {\n",
              "        text-align: right;\n",
              "    }\n",
              "</style>\n",
              "<table border=\"1\" class=\"dataframe\">\n",
              "  <thead>\n",
              "    <tr style=\"text-align: right;\">\n",
              "      <th></th>\n",
              "      <th>City&amp;hospital_tier</th>\n",
              "      <th>city_counts</th>\n",
              "      <th>hospital_counts</th>\n",
              "    </tr>\n",
              "  </thead>\n",
              "  <tbody>\n",
              "    <tr>\n",
              "      <th>0</th>\n",
              "      <td>2</td>\n",
              "      <td>807</td>\n",
              "      <td>1334</td>\n",
              "    </tr>\n",
              "    <tr>\n",
              "      <th>1</th>\n",
              "      <td>3</td>\n",
              "      <td>789</td>\n",
              "      <td>691</td>\n",
              "    </tr>\n",
              "    <tr>\n",
              "      <th>2</th>\n",
              "      <td>1</td>\n",
              "      <td>729</td>\n",
              "      <td>300</td>\n",
              "    </tr>\n",
              "  </tbody>\n",
              "</table>\n",
              "</div>\n",
              "      <button class=\"colab-df-convert\" onclick=\"convertToInteractive('df-11d446a3-1ca3-4bb3-a73b-ba8290b04b93')\"\n",
              "              title=\"Convert this dataframe to an interactive table.\"\n",
              "              style=\"display:none;\">\n",
              "        \n",
              "  <svg xmlns=\"http://www.w3.org/2000/svg\" height=\"24px\"viewBox=\"0 0 24 24\"\n",
              "       width=\"24px\">\n",
              "    <path d=\"M0 0h24v24H0V0z\" fill=\"none\"/>\n",
              "    <path d=\"M18.56 5.44l.94 2.06.94-2.06 2.06-.94-2.06-.94-.94-2.06-.94 2.06-2.06.94zm-11 1L8.5 8.5l.94-2.06 2.06-.94-2.06-.94L8.5 2.5l-.94 2.06-2.06.94zm10 10l.94 2.06.94-2.06 2.06-.94-2.06-.94-.94-2.06-.94 2.06-2.06.94z\"/><path d=\"M17.41 7.96l-1.37-1.37c-.4-.4-.92-.59-1.43-.59-.52 0-1.04.2-1.43.59L10.3 9.45l-7.72 7.72c-.78.78-.78 2.05 0 2.83L4 21.41c.39.39.9.59 1.41.59.51 0 1.02-.2 1.41-.59l7.78-7.78 2.81-2.81c.8-.78.8-2.07 0-2.86zM5.41 20L4 18.59l7.72-7.72 1.47 1.35L5.41 20z\"/>\n",
              "  </svg>\n",
              "      </button>\n",
              "      \n",
              "  <style>\n",
              "    .colab-df-container {\n",
              "      display:flex;\n",
              "      flex-wrap:wrap;\n",
              "      gap: 12px;\n",
              "    }\n",
              "\n",
              "    .colab-df-convert {\n",
              "      background-color: #E8F0FE;\n",
              "      border: none;\n",
              "      border-radius: 50%;\n",
              "      cursor: pointer;\n",
              "      display: none;\n",
              "      fill: #1967D2;\n",
              "      height: 32px;\n",
              "      padding: 0 0 0 0;\n",
              "      width: 32px;\n",
              "    }\n",
              "\n",
              "    .colab-df-convert:hover {\n",
              "      background-color: #E2EBFA;\n",
              "      box-shadow: 0px 1px 2px rgba(60, 64, 67, 0.3), 0px 1px 3px 1px rgba(60, 64, 67, 0.15);\n",
              "      fill: #174EA6;\n",
              "    }\n",
              "\n",
              "    [theme=dark] .colab-df-convert {\n",
              "      background-color: #3B4455;\n",
              "      fill: #D2E3FC;\n",
              "    }\n",
              "\n",
              "    [theme=dark] .colab-df-convert:hover {\n",
              "      background-color: #434B5C;\n",
              "      box-shadow: 0px 1px 3px 1px rgba(0, 0, 0, 0.15);\n",
              "      filter: drop-shadow(0px 1px 2px rgba(0, 0, 0, 0.3));\n",
              "      fill: #FFFFFF;\n",
              "    }\n",
              "  </style>\n",
              "\n",
              "      <script>\n",
              "        const buttonEl =\n",
              "          document.querySelector('#df-11d446a3-1ca3-4bb3-a73b-ba8290b04b93 button.colab-df-convert');\n",
              "        buttonEl.style.display =\n",
              "          google.colab.kernel.accessAllowed ? 'block' : 'none';\n",
              "\n",
              "        async function convertToInteractive(key) {\n",
              "          const element = document.querySelector('#df-11d446a3-1ca3-4bb3-a73b-ba8290b04b93');\n",
              "          const dataTable =\n",
              "            await google.colab.kernel.invokeFunction('convertToInteractive',\n",
              "                                                     [key], {});\n",
              "          if (!dataTable) return;\n",
              "\n",
              "          const docLinkHtml = 'Like what you see? Visit the ' +\n",
              "            '<a target=\"_blank\" href=https://colab.research.google.com/notebooks/data_table.ipynb>data table notebook</a>'\n",
              "            + ' to learn more about interactive tables.';\n",
              "          element.innerHTML = '';\n",
              "          dataTable['output_type'] = 'display_data';\n",
              "          await google.colab.output.renderOutput(dataTable, element);\n",
              "          const docLink = document.createElement('div');\n",
              "          docLink.innerHTML = docLinkHtml;\n",
              "          element.appendChild(docLink);\n",
              "        }\n",
              "      </script>\n",
              "    </div>\n",
              "  </div>\n",
              "  "
            ]
          },
          "metadata": {},
          "execution_count": 196
        }
      ]
    },
    {
      "cell_type": "code",
      "source": [
        "plt.bar(df[\"City&hospital_tier\"], df[\"city_counts\"], color='r')\n",
        "plt.bar(df[\"City&hospital_tier\"], df[\"hospital_counts\"], bottom=df[\"city_counts\"], color='b')\n",
        "plt.show()"
      ],
      "metadata": {
        "colab": {
          "base_uri": "https://localhost:8080/",
          "height": 265
        },
        "id": "j_LVUeYRcUOJ",
        "outputId": "76bfbe58-36f2-4490-d2dc-8f3701f4824d"
      },
      "execution_count": 197,
      "outputs": [
        {
          "output_type": "display_data",
          "data": {
            "text/plain": [
              "<Figure size 432x288 with 1 Axes>"
            ],
            "image/png": "[encoded data removed]"
          },
          "metadata": {
            "needs_background": "light"
          }
        }
      ]
    },
    {
      "cell_type": "markdown",
      "source": [
        "# #13. Test the following null hypotheses:\n",
        "#a. The average hospitalization costs for the three types of hospitals are not significantly different\n",
        "#b. The average hospitalization costs for the three types of cities are not significantly different\n",
        "#c. The average hospitalization cost for smokers is not significantly different from the average cost for nonsmokers\n",
        "#d. Smoking and heart issues are independent"
      ],
      "metadata": {
        "id": "b_Imr7TAdfEx"
      }
    },
    {
      "cell_type": "code",
      "source": [
        "from scipy.stats import ttest_1samp"
      ],
      "metadata": {
        "id": "GjZ5tbAxdPii"
      },
      "execution_count": 198,
      "outputs": []
    },
    {
      "cell_type": "markdown",
      "source": [
        "#a. the average hospitalozation costs for the three types of hospitals are not significantly different"
      ],
      "metadata": {
        "id": "F-g3MJQdi7QD"
      }
    },
    {
      "cell_type": "code",
      "source": [
        "print(\"median cost of tier 1 hospital:\", final_df[final_df[\"Hospital tier\"]==1].charges.median())\n",
        "print(\"median cost of tier 1 hospital:\", final_df[final_df[\"Hospital tier\"]==2].charges.median())\n",
        "print(\"median cost of tier 1 hospital:\", final_df[final_df[\"Hospital tier\"]==3].charges.median())"
      ],
      "metadata": {
        "colab": {
          "base_uri": "https://localhost:8080/"
        },
        "id": "pHR7qcX1invv",
        "outputId": "ff03f3d1-2397-4bba-8314-bc7d97a19b87"
      },
      "execution_count": 199,
      "outputs": [
        {
          "output_type": "stream",
          "name": "stdout",
          "text": [
            "median cost of tier 1 hospital: 32097.434999999998\n",
            "median cost of tier 1 hospital: 7168.76\n",
            "median cost of tier 1 hospital: 10676.83\n"
          ]
        }
      ]
    },
    {
      "cell_type": "markdown",
      "source": [
        "#Interpretation\n",
        "H0: the distributions of all samples are equal. || H1: the distributions of one or more samples are not equal"
      ],
      "metadata": {
        "id": "9oblPkCojQag"
      }
    },
    {
      "cell_type": "code",
      "source": [
        "from scipy.stats import friedmanchisquare\n",
        "data1 = [32097.43]\n",
        "data2 = [7168.76]\n",
        "data3 = [10676.83]\n",
        "stat, p = friedmanchisquare(data1,data2,data3)\n",
        "print('stat = %.3f, p=%.3f' % (stat, p))\n",
        "if p > 0.05:\n",
        "  print('Probably the same distribution')\n",
        "else:\n",
        "  print('Probably different distributions')\n"
      ],
      "metadata": {
        "colab": {
          "base_uri": "https://localhost:8080/"
        },
        "id": "Rdd6cXs4i13W",
        "outputId": "cf9c7477-9cfe-4db2-879b-0a33ec5be571"
      },
      "execution_count": 200,
      "outputs": [
        {
          "output_type": "stream",
          "name": "stdout",
          "text": [
            "stat = 2.000, p=0.368\n",
            "Probably the same distribution\n"
          ]
        }
      ]
    },
    {
      "cell_type": "markdown",
      "source": [
        "#b. The average hospitalization costs for the three types of cities are not significantly different"
      ],
      "metadata": {
        "id": "h3WXdPl_kJLO"
      }
    },
    {
      "cell_type": "code",
      "source": [
        "print(\"median cost of tier 1 city:\", final_df[final_df[\"City tier\"]==1].charges.median())\n",
        "print(\"median cost of tier 1 city:\", final_df[final_df[\"City tier\"]==2].charges.median())\n",
        "print(\"median cost of tier 1 city:\", final_df[final_df[\"City tier\"]==3].charges.median())"
      ],
      "metadata": {
        "colab": {
          "base_uri": "https://localhost:8080/"
        },
        "id": "_gQkzjIBkYoy",
        "outputId": "2eb0b1e1-9450-4e82-c0c6-140ca73d87af"
      },
      "execution_count": 201,
      "outputs": [
        {
          "output_type": "stream",
          "name": "stdout",
          "text": [
            "median cost of tier 1 city: 10027.15\n",
            "median cost of tier 1 city: 8968.33\n",
            "median cost of tier 1 city: 9880.07\n"
          ]
        }
      ]
    },
    {
      "cell_type": "code",
      "source": [
        "data1 = [10027.15]\n",
        "data2 = [8968.33]\n",
        "data3 = [9880.07]\n",
        "stat, p = friedmanchisquare(data1, data2, data3)\n",
        "print('stat=%.3f, p=%.3f' % (stat, p))\n",
        "if p > 0.05:\n",
        "    print('Probably the same distribution')\n",
        "else:\n",
        "    print('Probably different distributions')"
      ],
      "metadata": {
        "colab": {
          "base_uri": "https://localhost:8080/"
        },
        "id": "y5fFJTnwjn7a",
        "outputId": "ef83bdc3-f163-4549-ec32-b2b5ecf75951"
      },
      "execution_count": 202,
      "outputs": [
        {
          "output_type": "stream",
          "name": "stdout",
          "text": [
            "stat=2.000, p=0.368\n",
            "Probably the same distribution\n"
          ]
        }
      ]
    },
    {
      "cell_type": "markdown",
      "source": [
        "#c. The average hospitalization cost for smokers is not significantly different from the average cost for nonsmokers"
      ],
      "metadata": {
        "id": "uBlUqo76koLm"
      }
    },
    {
      "cell_type": "code",
      "source": [
        "print(\"median cost of smoker:\", final_df[final_df[\"smoker\"]==1].charges.median())\n",
        "print(\"median cost of non smoker:\", final_df[final_df[\"smoker\"]==0].charges.median())"
      ],
      "metadata": {
        "colab": {
          "base_uri": "https://localhost:8080/"
        },
        "id": "wXDbbukoklBw",
        "outputId": "bc3f171c-527a-490b-8f18-47c094cf96bd"
      },
      "execution_count": 203,
      "outputs": [
        {
          "output_type": "stream",
          "name": "stdout",
          "text": [
            "median cost of smoker: 34125.475\n",
            "median cost of non smoker: 7537.16\n"
          ]
        }
      ]
    },
    {
      "cell_type": "code",
      "source": [
        "from scipy.stats import kruskal\n",
        "data1 = [34125.47]\n",
        "data2 = [7537.16]\n",
        "stat, p = kruskal(data1, data2)\n",
        "print('stat=%.3f, p=%.3f' % (stat, p))\n",
        "if p > 0.05:\n",
        "    print('Probably the same distribution')\n",
        "else:\n",
        "    print('Probably different distributions')"
      ],
      "metadata": {
        "colab": {
          "base_uri": "https://localhost:8080/"
        },
        "id": "UBx8sdyKkwN-",
        "outputId": "329c8480-01ff-41d2-b92f-4bea894b567c"
      },
      "execution_count": 204,
      "outputs": [
        {
          "output_type": "stream",
          "name": "stdout",
          "text": [
            "stat=1.000, p=0.317\n",
            "Probably the same distribution\n"
          ]
        }
      ]
    },
    {
      "cell_type": "markdown",
      "source": [
        "#Interpretation\n",
        "H0: the two samples are independent. H1: there is a dependency between the samples."
      ],
      "metadata": {
        "id": "F5-_dA5plJnn"
      }
    },
    {
      "cell_type": "markdown",
      "source": [
        "#d. Smoking and heart issues are independent\n"
      ],
      "metadata": {
        "id": "77dCq60KlMLG"
      }
    },
    {
      "cell_type": "code",
      "source": [
        "from scipy.stats import chi2_contingency\n",
        "table = [[final_df[\"Heart Issues\"].value_counts()],[final_df[\"smoker\"].value_counts()]]\n",
        "stat, p, dof, expected = chi2_contingency(table)\n",
        "print('stat = %.3f, p = %.3f' % (stat,p))\n",
        "if p> 0.05:\n",
        "  print('Probably independent')\n",
        "else:\n",
        "  print('Probably dependent')\n",
        "        "
      ],
      "metadata": {
        "colab": {
          "base_uri": "https://localhost:8080/"
        },
        "id": "IgSjaZl7k6R6",
        "outputId": "8f26b82f-9186-4297-a912-d8429b12ea76"
      },
      "execution_count": 205,
      "outputs": [
        {
          "output_type": "stream",
          "name": "stdout",
          "text": [
            "stat = 191.145, p = 0.000\n",
            "Probably dependent\n"
          ]
        }
      ]
    },
    {
      "cell_type": "markdown",
      "source": [
        "#**Machine Learning**"
      ],
      "metadata": {
        "id": "o802_lr5muv9"
      }
    },
    {
      "cell_type": "markdown",
      "source": [
        "#Project Task: week 2"
      ],
      "metadata": {
        "id": "WFHS2pSAmQnM"
      }
    },
    {
      "cell_type": "markdown",
      "source": [
        "#1. Examine the correlation between predictors to identify highly correlated predictors. Use a heatmap to visualize this."
      ],
      "metadata": {
        "id": "FPazMS5fmVFs"
      }
    },
    {
      "cell_type": "code",
      "source": [
        "final_df.info()"
      ],
      "metadata": {
        "colab": {
          "base_uri": "https://localhost:8080/"
        },
        "id": "QhFYeqjYmGeq",
        "outputId": "fdecf0d1-3bb3-46ee-af4e-e21a86584c50"
      },
      "execution_count": 206,
      "outputs": [
        {
          "output_type": "stream",
          "name": "stdout",
          "text": [
            "<class 'pandas.core.frame.DataFrame'>\n",
            "Int64Index: 2325 entries, 0 to 2334\n",
            "Data columns (total 22 columns):\n",
            " #   Column                  Non-Null Count  Dtype         \n",
            "---  ------                  --------------  -----         \n",
            " 0   Customer ID             2325 non-null   object        \n",
            " 1   name                    2325 non-null   object        \n",
            " 2   year                    2325 non-null   int64         \n",
            " 3   month                   2325 non-null   int64         \n",
            " 4   date                    2325 non-null   int64         \n",
            " 5   children                2325 non-null   int64         \n",
            " 6   charges                 2325 non-null   float64       \n",
            " 7   Hospital tier           2325 non-null   int64         \n",
            " 8   City tier               2325 non-null   int64         \n",
            " 9   BMI                     2325 non-null   float64       \n",
            " 10  HBA1C                   2325 non-null   float64       \n",
            " 11  Heart Issues            2325 non-null   int64         \n",
            " 12  Any Transplants         2325 non-null   int64         \n",
            " 13  Cancer history          2325 non-null   int64         \n",
            " 14  NumberOfMajorSurgeries  2325 non-null   int64         \n",
            " 15  smoker                  2325 non-null   int64         \n",
            " 16  State ID_R1011          2325 non-null   uint8         \n",
            " 17  State ID_R1012          2325 non-null   uint8         \n",
            " 18  State ID_R1013          2325 non-null   uint8         \n",
            " 19  DOB                     2325 non-null   datetime64[ns]\n",
            " 20  age                     2325 non-null   int64         \n",
            " 21  gender                  2325 non-null   int64         \n",
            "dtypes: datetime64[ns](1), float64(3), int64(13), object(2), uint8(3)\n",
            "memory usage: 434.6+ KB\n"
          ]
        }
      ]
    },
    {
      "cell_type": "markdown",
      "source": [
        "# In the data frame some of the column are not usable to model building so lets first drop all.\n",
        "#then indentify the highly corelated predictor."
      ],
      "metadata": {
        "id": "RZfBy78du9wP"
      }
    },
    {
      "cell_type": "code",
      "source": [
        "final_df.drop([\"Customer ID\", \"name\", \"year\", \"month\", \"date\", \"DOB\"], inplace = True, axis = 1)"
      ],
      "metadata": {
        "id": "VCfFpScau0De"
      },
      "execution_count": 207,
      "outputs": []
    },
    {
      "cell_type": "code",
      "source": [
        "final_df.shape"
      ],
      "metadata": {
        "colab": {
          "base_uri": "https://localhost:8080/"
        },
        "id": "4pq5otKwvedw",
        "outputId": "908d4803-a638-4e53-c5e0-6249570ee679"
      },
      "execution_count": 208,
      "outputs": [
        {
          "output_type": "execute_result",
          "data": {
            "text/plain": [
              "(2325, 16)"
            ]
          },
          "metadata": {},
          "execution_count": 208
        }
      ]
    },
    {
      "cell_type": "code",
      "source": [
        "final_df.head()"
      ],
      "metadata": {
        "colab": {
          "base_uri": "https://localhost:8080/",
          "height": 268
        },
        "id": "ugPaCID-vhq0",
        "outputId": "d125f835-bab5-4ece-d70f-e886f01e890b"
      },
      "execution_count": 209,
      "outputs": [
        {
          "output_type": "execute_result",
          "data": {
            "text/plain": [
              "   children   charges  Hospital tier  City tier     BMI  HBA1C  Heart Issues  \\\n",
              "0         0  63770.43              1          3  47.410   7.47             0   \n",
              "1         0  62592.87              2          3  30.360   5.77             0   \n",
              "3         1  58571.07              1          3  38.095   6.05             0   \n",
              "4         0  55135.40              1          2  35.530   5.45             0   \n",
              "5         0  52590.83              1          3  32.800   6.59             0   \n",
              "\n",
              "   Any Transplants  Cancer history  NumberOfMajorSurgeries  smoker  \\\n",
              "0                0               0                       0       1   \n",
              "1                0               0                       0       1   \n",
              "3                0               0                       0       1   \n",
              "4                0               0                       0       1   \n",
              "5                0               0                       0       1   \n",
              "\n",
              "   State ID_R1011  State ID_R1012  State ID_R1013  age  gender  \n",
              "0               0               0               1   54       0  \n",
              "1               0               0               1   45       1  \n",
              "3               0               0               0   31       0  \n",
              "4               0               1               0   33       0  \n",
              "5               1               0               0   60       1  "
            ],
            "text/html": [
              "\n",
              "  <div id=\"df-0ff7a0dc-fce9-4ef5-8baf-2b48bfdc23b8\">\n",
              "    <div class=\"colab-df-container\">\n",
              "      <div>\n",
              "<style scoped>\n",
              "    .dataframe tbody tr th:only-of-type {\n",
              "        vertical-align: middle;\n",
              "    }\n",
              "\n",
              "    .dataframe tbody tr th {\n",
              "        vertical-align: top;\n",
              "    }\n",
              "\n",
              "    .dataframe thead th {\n",
              "        text-align: right;\n",
              "    }\n",
              "</style>\n",
              "<table border=\"1\" class=\"dataframe\">\n",
              "  <thead>\n",
              "    <tr style=\"text-align: right;\">\n",
              "      <th></th>\n",
              "      <th>children</th>\n",
              "      <th>charges</th>\n",
              "      <th>Hospital tier</th>\n",
              "      <th>City tier</th>\n",
              "      <th>BMI</th>\n",
              "      <th>HBA1C</th>\n",
              "      <th>Heart Issues</th>\n",
              "      <th>Any Transplants</th>\n",
              "      <th>Cancer history</th>\n",
              "      <th>NumberOfMajorSurgeries</th>\n",
              "      <th>smoker</th>\n",
              "      <th>State ID_R1011</th>\n",
              "      <th>State ID_R1012</th>\n",
              "      <th>State ID_R1013</th>\n",
              "      <th>age</th>\n",
              "      <th>gender</th>\n",
              "    </tr>\n",
              "  </thead>\n",
              "  <tbody>\n",
              "    <tr>\n",
              "      <th>0</th>\n",
              "      <td>0</td>\n",
              "      <td>63770.43</td>\n",
              "      <td>1</td>\n",
              "      <td>3</td>\n",
              "      <td>47.410</td>\n",
              "      <td>7.47</td>\n",
              "      <td>0</td>\n",
              "      <td>0</td>\n",
              "      <td>0</td>\n",
              "      <td>0</td>\n",
              "      <td>1</td>\n",
              "      <td>0</td>\n",
              "      <td>0</td>\n",
              "      <td>1</td>\n",
              "      <td>54</td>\n",
              "      <td>0</td>\n",
              "    </tr>\n",
              "    <tr>\n",
              "      <th>1</th>\n",
              "      <td>0</td>\n",
              "      <td>62592.87</td>\n",
              "      <td>2</td>\n",
              "      <td>3</td>\n",
              "      <td>30.360</td>\n",
              "      <td>5.77</td>\n",
              "      <td>0</td>\n",
              "      <td>0</td>\n",
              "      <td>0</td>\n",
              "      <td>0</td>\n",
              "      <td>1</td>\n",
              "      <td>0</td>\n",
              "      <td>0</td>\n",
              "      <td>1</td>\n",
              "      <td>45</td>\n",
              "      <td>1</td>\n",
              "    </tr>\n",
              "    <tr>\n",
              "      <th>3</th>\n",
              "      <td>1</td>\n",
              "      <td>58571.07</td>\n",
              "      <td>1</td>\n",
              "      <td>3</td>\n",
              "      <td>38.095</td>\n",
              "      <td>6.05</td>\n",
              "      <td>0</td>\n",
              "      <td>0</td>\n",
              "      <td>0</td>\n",
              "      <td>0</td>\n",
              "      <td>1</td>\n",
              "      <td>0</td>\n",
              "      <td>0</td>\n",
              "      <td>0</td>\n",
              "      <td>31</td>\n",
              "      <td>0</td>\n",
              "    </tr>\n",
              "    <tr>\n",
              "      <th>4</th>\n",
              "      <td>0</td>\n",
              "      <td>55135.40</td>\n",
              "      <td>1</td>\n",
              "      <td>2</td>\n",
              "      <td>35.530</td>\n",
              "      <td>5.45</td>\n",
              "      <td>0</td>\n",
              "      <td>0</td>\n",
              "      <td>0</td>\n",
              "      <td>0</td>\n",
              "      <td>1</td>\n",
              "      <td>0</td>\n",
              "      <td>1</td>\n",
              "      <td>0</td>\n",
              "      <td>33</td>\n",
              "      <td>0</td>\n",
              "    </tr>\n",
              "    <tr>\n",
              "      <th>5</th>\n",
              "      <td>0</td>\n",
              "      <td>52590.83</td>\n",
              "      <td>1</td>\n",
              "      <td>3</td>\n",
              "      <td>32.800</td>\n",
              "      <td>6.59</td>\n",
              "      <td>0</td>\n",
              "      <td>0</td>\n",
              "      <td>0</td>\n",
              "      <td>0</td>\n",
              "      <td>1</td>\n",
              "      <td>1</td>\n",
              "      <td>0</td>\n",
              "      <td>0</td>\n",
              "      <td>60</td>\n",
              "      <td>1</td>\n",
              "    </tr>\n",
              "  </tbody>\n",
              "</table>\n",
              "</div>\n",
              "      <button class=\"colab-df-convert\" onclick=\"convertToInteractive('df-0ff7a0dc-fce9-4ef5-8baf-2b48bfdc23b8')\"\n",
              "              title=\"Convert this dataframe to an interactive table.\"\n",
              "              style=\"display:none;\">\n",
              "        \n",
              "  <svg xmlns=\"http://www.w3.org/2000/svg\" height=\"24px\"viewBox=\"0 0 24 24\"\n",
              "       width=\"24px\">\n",
              "    <path d=\"M0 0h24v24H0V0z\" fill=\"none\"/>\n",
              "    <path d=\"M18.56 5.44l.94 2.06.94-2.06 2.06-.94-2.06-.94-.94-2.06-.94 2.06-2.06.94zm-11 1L8.5 8.5l.94-2.06 2.06-.94-2.06-.94L8.5 2.5l-.94 2.06-2.06.94zm10 10l.94 2.06.94-2.06 2.06-.94-2.06-.94-.94-2.06-.94 2.06-2.06.94z\"/><path d=\"M17.41 7.96l-1.37-1.37c-.4-.4-.92-.59-1.43-.59-.52 0-1.04.2-1.43.59L10.3 9.45l-7.72 7.72c-.78.78-.78 2.05 0 2.83L4 21.41c.39.39.9.59 1.41.59.51 0 1.02-.2 1.41-.59l7.78-7.78 2.81-2.81c.8-.78.8-2.07 0-2.86zM5.41 20L4 18.59l7.72-7.72 1.47 1.35L5.41 20z\"/>\n",
              "  </svg>\n",
              "      </button>\n",
              "      \n",
              "  <style>\n",
              "    .colab-df-container {\n",
              "      display:flex;\n",
              "      flex-wrap:wrap;\n",
              "      gap: 12px;\n",
              "    }\n",
              "\n",
              "    .colab-df-convert {\n",
              "      background-color: #E8F0FE;\n",
              "      border: none;\n",
              "      border-radius: 50%;\n",
              "      cursor: pointer;\n",
              "      display: none;\n",
              "      fill: #1967D2;\n",
              "      height: 32px;\n",
              "      padding: 0 0 0 0;\n",
              "      width: 32px;\n",
              "    }\n",
              "\n",
              "    .colab-df-convert:hover {\n",
              "      background-color: #E2EBFA;\n",
              "      box-shadow: 0px 1px 2px rgba(60, 64, 67, 0.3), 0px 1px 3px 1px rgba(60, 64, 67, 0.15);\n",
              "      fill: #174EA6;\n",
              "    }\n",
              "\n",
              "    [theme=dark] .colab-df-convert {\n",
              "      background-color: #3B4455;\n",
              "      fill: #D2E3FC;\n",
              "    }\n",
              "\n",
              "    [theme=dark] .colab-df-convert:hover {\n",
              "      background-color: #434B5C;\n",
              "      box-shadow: 0px 1px 3px 1px rgba(0, 0, 0, 0.15);\n",
              "      filter: drop-shadow(0px 1px 2px rgba(0, 0, 0, 0.3));\n",
              "      fill: #FFFFFF;\n",
              "    }\n",
              "  </style>\n",
              "\n",
              "      <script>\n",
              "        const buttonEl =\n",
              "          document.querySelector('#df-0ff7a0dc-fce9-4ef5-8baf-2b48bfdc23b8 button.colab-df-convert');\n",
              "        buttonEl.style.display =\n",
              "          google.colab.kernel.accessAllowed ? 'block' : 'none';\n",
              "\n",
              "        async function convertToInteractive(key) {\n",
              "          const element = document.querySelector('#df-0ff7a0dc-fce9-4ef5-8baf-2b48bfdc23b8');\n",
              "          const dataTable =\n",
              "            await google.colab.kernel.invokeFunction('convertToInteractive',\n",
              "                                                     [key], {});\n",
              "          if (!dataTable) return;\n",
              "\n",
              "          const docLinkHtml = 'Like what you see? Visit the ' +\n",
              "            '<a target=\"_blank\" href=https://colab.research.google.com/notebooks/data_table.ipynb>data table notebook</a>'\n",
              "            + ' to learn more about interactive tables.';\n",
              "          element.innerHTML = '';\n",
              "          dataTable['output_type'] = 'display_data';\n",
              "          await google.colab.output.renderOutput(dataTable, element);\n",
              "          const docLink = document.createElement('div');\n",
              "          docLink.innerHTML = docLinkHtml;\n",
              "          element.appendChild(docLink);\n",
              "        }\n",
              "      </script>\n",
              "    </div>\n",
              "  </div>\n",
              "  "
            ]
          },
          "metadata": {},
          "execution_count": 209
        }
      ]
    },
    {
      "cell_type": "code",
      "source": [
        "corr = final_df.corr()\n",
        "corr"
      ],
      "metadata": {
        "colab": {
          "base_uri": "https://localhost:8080/",
          "height": 632
        },
        "id": "EW3J0MGyv5EZ",
        "outputId": "686b41b5-def6-4eed-cde5-49ab0767f0c4"
      },
      "execution_count": 210,
      "outputs": [
        {
          "output_type": "execute_result",
          "data": {
            "text/plain": [
              "                        children   charges  Hospital tier  City tier  \\\n",
              "children                1.000000  0.055901      -0.052438  -0.015760   \n",
              "charges                 0.055901  1.000000      -0.446687   0.035300   \n",
              "Hospital tier          -0.052438 -0.446687       1.000000  -0.039755   \n",
              "City tier              -0.015760  0.035300      -0.039755   1.000000   \n",
              "BMI                    -0.005339  0.346730      -0.104771   0.038123   \n",
              "HBA1C                  -0.101379  0.139697       0.057855  -0.005404   \n",
              "Heart Issues            0.023984  0.049299       0.053376   0.023152   \n",
              "Any Transplants        -0.142040 -0.127028       0.011729   0.002970   \n",
              "Cancer history         -0.027880 -0.022522      -0.021429  -0.018639   \n",
              "NumberOfMajorSurgeries -0.113161  0.053308       0.033230   0.027937   \n",
              "smoker                  0.017713  0.838462      -0.474077   0.032034   \n",
              "State ID_R1011          0.011666  0.286956      -0.114685   0.036049   \n",
              "State ID_R1012          0.005247 -0.074636       0.020272  -0.018253   \n",
              "State ID_R1013         -0.013834 -0.150634       0.002455   0.002766   \n",
              "age                    -0.005457  0.304395       0.133771  -0.008070   \n",
              "gender                  0.011205  0.034069       0.041261   0.054073   \n",
              "\n",
              "                             BMI     HBA1C  Heart Issues  Any Transplants  \\\n",
              "children               -0.005339 -0.101379      0.023984        -0.142040   \n",
              "charges                 0.346730  0.139697      0.049299        -0.127028   \n",
              "Hospital tier          -0.104771  0.057855      0.053376         0.011729   \n",
              "City tier               0.038123 -0.005404      0.023152         0.002970   \n",
              "BMI                     1.000000 -0.006920      0.017129         0.015893   \n",
              "HBA1C                  -0.006920  1.000000      0.007699        -0.159855   \n",
              "Heart Issues            0.017129  0.007699      1.000000        -0.140269   \n",
              "Any Transplants         0.015893 -0.159855     -0.140269         1.000000   \n",
              "Cancer history         -0.020235 -0.170921      0.111190        -0.114677   \n",
              "NumberOfMajorSurgeries  0.018851 -0.091594      0.206147         0.158593   \n",
              "smoker                  0.107126  0.007257     -0.007159        -0.025101   \n",
              "State ID_R1011          0.115671  0.015525      0.005852        -0.058553   \n",
              "State ID_R1012          0.017939 -0.019513      0.021770        -0.066453   \n",
              "State ID_R1013         -0.208744  0.033453     -0.027967         0.064563   \n",
              "age                     0.049260  0.460558      0.192273        -0.381084   \n",
              "gender                  0.079930 -0.027339      0.010277        -0.012737   \n",
              "\n",
              "                        Cancer history  NumberOfMajorSurgeries    smoker  \\\n",
              "children                     -0.027880               -0.113161  0.017713   \n",
              "charges                      -0.022522                0.053308  0.838462   \n",
              "Hospital tier                -0.021429                0.033230 -0.474077   \n",
              "City tier                    -0.018639                0.027937  0.032034   \n",
              "BMI                          -0.020235                0.018851  0.107126   \n",
              "HBA1C                        -0.170921               -0.091594  0.007257   \n",
              "Heart Issues                  0.111190                0.206147 -0.007159   \n",
              "Any Transplants              -0.114677                0.158593 -0.025101   \n",
              "Cancer history                1.000000                0.204208  0.006415   \n",
              "NumberOfMajorSurgeries        0.204208                1.000000  0.017199   \n",
              "smoker                        0.006415                0.017199  1.000000   \n",
              "State ID_R1011                0.011919                0.000208  0.336112   \n",
              "State ID_R1012                0.058222               -0.002098 -0.106998   \n",
              "State ID_R1013               -0.066475               -0.002056 -0.094547   \n",
              "age                          -0.101073                0.151442  0.011939   \n",
              "gender                        0.009359               -0.003349  0.020968   \n",
              "\n",
              "                        State ID_R1011  State ID_R1012  State ID_R1013  \\\n",
              "children                      0.011666        0.005247       -0.013834   \n",
              "charges                       0.286956       -0.074636       -0.150634   \n",
              "Hospital tier                -0.114685        0.020272        0.002455   \n",
              "City tier                     0.036049       -0.018253        0.002766   \n",
              "BMI                           0.115671        0.017939       -0.208744   \n",
              "HBA1C                         0.015525       -0.019513        0.033453   \n",
              "Heart Issues                  0.005852        0.021770       -0.027967   \n",
              "Any Transplants              -0.058553       -0.066453        0.064563   \n",
              "Cancer history                0.011919        0.058222       -0.066475   \n",
              "NumberOfMajorSurgeries        0.000208       -0.002098       -0.002056   \n",
              "smoker                        0.336112       -0.106998       -0.094547   \n",
              "State ID_R1011                1.000000       -0.327054       -0.341085   \n",
              "State ID_R1012               -0.327054        1.000000       -0.340296   \n",
              "State ID_R1013               -0.341085       -0.340296        1.000000   \n",
              "age                           0.008022       -0.005229       -0.011926   \n",
              "gender                       -0.075234       -0.077093       -0.029639   \n",
              "\n",
              "                             age    gender  \n",
              "children               -0.005457  0.011205  \n",
              "charges                 0.304395  0.034069  \n",
              "Hospital tier           0.133771  0.041261  \n",
              "City tier              -0.008070  0.054073  \n",
              "BMI                     0.049260  0.079930  \n",
              "HBA1C                   0.460558 -0.027339  \n",
              "Heart Issues            0.192273  0.010277  \n",
              "Any Transplants        -0.381084 -0.012737  \n",
              "Cancer history         -0.101073  0.009359  \n",
              "NumberOfMajorSurgeries  0.151442 -0.003349  \n",
              "smoker                  0.011939  0.020968  \n",
              "State ID_R1011          0.008022 -0.075234  \n",
              "State ID_R1012         -0.005229 -0.077093  \n",
              "State ID_R1013         -0.011926 -0.029639  \n",
              "age                     1.000000 -0.007350  \n",
              "gender                 -0.007350  1.000000  "
            ],
            "text/html": [
              "\n",
              "  <div id=\"df-144e247e-2a1b-4953-96d4-c8fb8f95cb5b\">\n",
              "    <div class=\"colab-df-container\">\n",
              "      <div>\n",
              "<style scoped>\n",
              "    .dataframe tbody tr th:only-of-type {\n",
              "        vertical-align: middle;\n",
              "    }\n",
              "\n",
              "    .dataframe tbody tr th {\n",
              "        vertical-align: top;\n",
              "    }\n",
              "\n",
              "    .dataframe thead th {\n",
              "        text-align: right;\n",
              "    }\n",
              "</style>\n",
              "<table border=\"1\" class=\"dataframe\">\n",
              "  <thead>\n",
              "    <tr style=\"text-align: right;\">\n",
              "      <th></th>\n",
              "      <th>children</th>\n",
              "      <th>charges</th>\n",
              "      <th>Hospital tier</th>\n",
              "      <th>City tier</th>\n",
              "      <th>BMI</th>\n",
              "      <th>HBA1C</th>\n",
              "      <th>Heart Issues</th>\n",
              "      <th>Any Transplants</th>\n",
              "      <th>Cancer history</th>\n",
              "      <th>NumberOfMajorSurgeries</th>\n",
              "      <th>smoker</th>\n",
              "      <th>State ID_R1011</th>\n",
              "      <th>State ID_R1012</th>\n",
              "      <th>State ID_R1013</th>\n",
              "      <th>age</th>\n",
              "      <th>gender</th>\n",
              "    </tr>\n",
              "  </thead>\n",
              "  <tbody>\n",
              "    <tr>\n",
              "      <th>children</th>\n",
              "      <td>1.000000</td>\n",
              "      <td>0.055901</td>\n",
              "      <td>-0.052438</td>\n",
              "      <td>-0.015760</td>\n",
              "      <td>-0.005339</td>\n",
              "      <td>-0.101379</td>\n",
              "      <td>0.023984</td>\n",
              "      <td>-0.142040</td>\n",
              "      <td>-0.027880</td>\n",
              "      <td>-0.113161</td>\n",
              "      <td>0.017713</td>\n",
              "      <td>0.011666</td>\n",
              "      <td>0.005247</td>\n",
              "      <td>-0.013834</td>\n",
              "      <td>-0.005457</td>\n",
              "      <td>0.011205</td>\n",
              "    </tr>\n",
              "    <tr>\n",
              "      <th>charges</th>\n",
              "      <td>0.055901</td>\n",
              "      <td>1.000000</td>\n",
              "      <td>-0.446687</td>\n",
              "      <td>0.035300</td>\n",
              "      <td>0.346730</td>\n",
              "      <td>0.139697</td>\n",
              "      <td>0.049299</td>\n",
              "      <td>-0.127028</td>\n",
              "      <td>-0.022522</td>\n",
              "      <td>0.053308</td>\n",
              "      <td>0.838462</td>\n",
              "      <td>0.286956</td>\n",
              "      <td>-0.074636</td>\n",
              "      <td>-0.150634</td>\n",
              "      <td>0.304395</td>\n",
              "      <td>0.034069</td>\n",
              "    </tr>\n",
              "    <tr>\n",
              "      <th>Hospital tier</th>\n",
              "      <td>-0.052438</td>\n",
              "      <td>-0.446687</td>\n",
              "      <td>1.000000</td>\n",
              "      <td>-0.039755</td>\n",
              "      <td>-0.104771</td>\n",
              "      <td>0.057855</td>\n",
              "      <td>0.053376</td>\n",
              "      <td>0.011729</td>\n",
              "      <td>-0.021429</td>\n",
              "      <td>0.033230</td>\n",
              "      <td>-0.474077</td>\n",
              "      <td>-0.114685</td>\n",
              "      <td>0.020272</td>\n",
              "      <td>0.002455</td>\n",
              "      <td>0.133771</td>\n",
              "      <td>0.041261</td>\n",
              "    </tr>\n",
              "    <tr>\n",
              "      <th>City tier</th>\n",
              "      <td>-0.015760</td>\n",
              "      <td>0.035300</td>\n",
              "      <td>-0.039755</td>\n",
              "      <td>1.000000</td>\n",
              "      <td>0.038123</td>\n",
              "      <td>-0.005404</td>\n",
              "      <td>0.023152</td>\n",
              "      <td>0.002970</td>\n",
              "      <td>-0.018639</td>\n",
              "      <td>0.027937</td>\n",
              "      <td>0.032034</td>\n",
              "      <td>0.036049</td>\n",
              "      <td>-0.018253</td>\n",
              "      <td>0.002766</td>\n",
              "      <td>-0.008070</td>\n",
              "      <td>0.054073</td>\n",
              "    </tr>\n",
              "    <tr>\n",
              "      <th>BMI</th>\n",
              "      <td>-0.005339</td>\n",
              "      <td>0.346730</td>\n",
              "      <td>-0.104771</td>\n",
              "      <td>0.038123</td>\n",
              "      <td>1.000000</td>\n",
              "      <td>-0.006920</td>\n",
              "      <td>0.017129</td>\n",
              "      <td>0.015893</td>\n",
              "      <td>-0.020235</td>\n",
              "      <td>0.018851</td>\n",
              "      <td>0.107126</td>\n",
              "      <td>0.115671</td>\n",
              "      <td>0.017939</td>\n",
              "      <td>-0.208744</td>\n",
              "      <td>0.049260</td>\n",
              "      <td>0.079930</td>\n",
              "    </tr>\n",
              "    <tr>\n",
              "      <th>HBA1C</th>\n",
              "      <td>-0.101379</td>\n",
              "      <td>0.139697</td>\n",
              "      <td>0.057855</td>\n",
              "      <td>-0.005404</td>\n",
              "      <td>-0.006920</td>\n",
              "      <td>1.000000</td>\n",
              "      <td>0.007699</td>\n",
              "      <td>-0.159855</td>\n",
              "      <td>-0.170921</td>\n",
              "      <td>-0.091594</td>\n",
              "      <td>0.007257</td>\n",
              "      <td>0.015525</td>\n",
              "      <td>-0.019513</td>\n",
              "      <td>0.033453</td>\n",
              "      <td>0.460558</td>\n",
              "      <td>-0.027339</td>\n",
              "    </tr>\n",
              "    <tr>\n",
              "      <th>Heart Issues</th>\n",
              "      <td>0.023984</td>\n",
              "      <td>0.049299</td>\n",
              "      <td>0.053376</td>\n",
              "      <td>0.023152</td>\n",
              "      <td>0.017129</td>\n",
              "      <td>0.007699</td>\n",
              "      <td>1.000000</td>\n",
              "      <td>-0.140269</td>\n",
              "      <td>0.111190</td>\n",
              "      <td>0.206147</td>\n",
              "      <td>-0.007159</td>\n",
              "      <td>0.005852</td>\n",
              "      <td>0.021770</td>\n",
              "      <td>-0.027967</td>\n",
              "      <td>0.192273</td>\n",
              "      <td>0.010277</td>\n",
              "    </tr>\n",
              "    <tr>\n",
              "      <th>Any Transplants</th>\n",
              "      <td>-0.142040</td>\n",
              "      <td>-0.127028</td>\n",
              "      <td>0.011729</td>\n",
              "      <td>0.002970</td>\n",
              "      <td>0.015893</td>\n",
              "      <td>-0.159855</td>\n",
              "      <td>-0.140269</td>\n",
              "      <td>1.000000</td>\n",
              "      <td>-0.114677</td>\n",
              "      <td>0.158593</td>\n",
              "      <td>-0.025101</td>\n",
              "      <td>-0.058553</td>\n",
              "      <td>-0.066453</td>\n",
              "      <td>0.064563</td>\n",
              "      <td>-0.381084</td>\n",
              "      <td>-0.012737</td>\n",
              "    </tr>\n",
              "    <tr>\n",
              "      <th>Cancer history</th>\n",
              "      <td>-0.027880</td>\n",
              "      <td>-0.022522</td>\n",
              "      <td>-0.021429</td>\n",
              "      <td>-0.018639</td>\n",
              "      <td>-0.020235</td>\n",
              "      <td>-0.170921</td>\n",
              "      <td>0.111190</td>\n",
              "      <td>-0.114677</td>\n",
              "      <td>1.000000</td>\n",
              "      <td>0.204208</td>\n",
              "      <td>0.006415</td>\n",
              "      <td>0.011919</td>\n",
              "      <td>0.058222</td>\n",
              "      <td>-0.066475</td>\n",
              "      <td>-0.101073</td>\n",
              "      <td>0.009359</td>\n",
              "    </tr>\n",
              "    <tr>\n",
              "      <th>NumberOfMajorSurgeries</th>\n",
              "      <td>-0.113161</td>\n",
              "      <td>0.053308</td>\n",
              "      <td>0.033230</td>\n",
              "      <td>0.027937</td>\n",
              "      <td>0.018851</td>\n",
              "      <td>-0.091594</td>\n",
              "      <td>0.206147</td>\n",
              "      <td>0.158593</td>\n",
              "      <td>0.204208</td>\n",
              "      <td>1.000000</td>\n",
              "      <td>0.017199</td>\n",
              "      <td>0.000208</td>\n",
              "      <td>-0.002098</td>\n",
              "      <td>-0.002056</td>\n",
              "      <td>0.151442</td>\n",
              "      <td>-0.003349</td>\n",
              "    </tr>\n",
              "    <tr>\n",
              "      <th>smoker</th>\n",
              "      <td>0.017713</td>\n",
              "      <td>0.838462</td>\n",
              "      <td>-0.474077</td>\n",
              "      <td>0.032034</td>\n",
              "      <td>0.107126</td>\n",
              "      <td>0.007257</td>\n",
              "      <td>-0.007159</td>\n",
              "      <td>-0.025101</td>\n",
              "      <td>0.006415</td>\n",
              "      <td>0.017199</td>\n",
              "      <td>1.000000</td>\n",
              "      <td>0.336112</td>\n",
              "      <td>-0.106998</td>\n",
              "      <td>-0.094547</td>\n",
              "      <td>0.011939</td>\n",
              "      <td>0.020968</td>\n",
              "    </tr>\n",
              "    <tr>\n",
              "      <th>State ID_R1011</th>\n",
              "      <td>0.011666</td>\n",
              "      <td>0.286956</td>\n",
              "      <td>-0.114685</td>\n",
              "      <td>0.036049</td>\n",
              "      <td>0.115671</td>\n",
              "      <td>0.015525</td>\n",
              "      <td>0.005852</td>\n",
              "      <td>-0.058553</td>\n",
              "      <td>0.011919</td>\n",
              "      <td>0.000208</td>\n",
              "      <td>0.336112</td>\n",
              "      <td>1.000000</td>\n",
              "      <td>-0.327054</td>\n",
              "      <td>-0.341085</td>\n",
              "      <td>0.008022</td>\n",
              "      <td>-0.075234</td>\n",
              "    </tr>\n",
              "    <tr>\n",
              "      <th>State ID_R1012</th>\n",
              "      <td>0.005247</td>\n",
              "      <td>-0.074636</td>\n",
              "      <td>0.020272</td>\n",
              "      <td>-0.018253</td>\n",
              "      <td>0.017939</td>\n",
              "      <td>-0.019513</td>\n",
              "      <td>0.021770</td>\n",
              "      <td>-0.066453</td>\n",
              "      <td>0.058222</td>\n",
              "      <td>-0.002098</td>\n",
              "      <td>-0.106998</td>\n",
              "      <td>-0.327054</td>\n",
              "      <td>1.000000</td>\n",
              "      <td>-0.340296</td>\n",
              "      <td>-0.005229</td>\n",
              "      <td>-0.077093</td>\n",
              "    </tr>\n",
              "    <tr>\n",
              "      <th>State ID_R1013</th>\n",
              "      <td>-0.013834</td>\n",
              "      <td>-0.150634</td>\n",
              "      <td>0.002455</td>\n",
              "      <td>0.002766</td>\n",
              "      <td>-0.208744</td>\n",
              "      <td>0.033453</td>\n",
              "      <td>-0.027967</td>\n",
              "      <td>0.064563</td>\n",
              "      <td>-0.066475</td>\n",
              "      <td>-0.002056</td>\n",
              "      <td>-0.094547</td>\n",
              "      <td>-0.341085</td>\n",
              "      <td>-0.340296</td>\n",
              "      <td>1.000000</td>\n",
              "      <td>-0.011926</td>\n",
              "      <td>-0.029639</td>\n",
              "    </tr>\n",
              "    <tr>\n",
              "      <th>age</th>\n",
              "      <td>-0.005457</td>\n",
              "      <td>0.304395</td>\n",
              "      <td>0.133771</td>\n",
              "      <td>-0.008070</td>\n",
              "      <td>0.049260</td>\n",
              "      <td>0.460558</td>\n",
              "      <td>0.192273</td>\n",
              "      <td>-0.381084</td>\n",
              "      <td>-0.101073</td>\n",
              "      <td>0.151442</td>\n",
              "      <td>0.011939</td>\n",
              "      <td>0.008022</td>\n",
              "      <td>-0.005229</td>\n",
              "      <td>-0.011926</td>\n",
              "      <td>1.000000</td>\n",
              "      <td>-0.007350</td>\n",
              "    </tr>\n",
              "    <tr>\n",
              "      <th>gender</th>\n",
              "      <td>0.011205</td>\n",
              "      <td>0.034069</td>\n",
              "      <td>0.041261</td>\n",
              "      <td>0.054073</td>\n",
              "      <td>0.079930</td>\n",
              "      <td>-0.027339</td>\n",
              "      <td>0.010277</td>\n",
              "      <td>-0.012737</td>\n",
              "      <td>0.009359</td>\n",
              "      <td>-0.003349</td>\n",
              "      <td>0.020968</td>\n",
              "      <td>-0.075234</td>\n",
              "      <td>-0.077093</td>\n",
              "      <td>-0.029639</td>\n",
              "      <td>-0.007350</td>\n",
              "      <td>1.000000</td>\n",
              "    </tr>\n",
              "  </tbody>\n",
              "</table>\n",
              "</div>\n",
              "      <button class=\"colab-df-convert\" onclick=\"convertToInteractive('df-144e247e-2a1b-4953-96d4-c8fb8f95cb5b')\"\n",
              "              title=\"Convert this dataframe to an interactive table.\"\n",
              "              style=\"display:none;\">\n",
              "        \n",
              "  <svg xmlns=\"http://www.w3.org/2000/svg\" height=\"24px\"viewBox=\"0 0 24 24\"\n",
              "       width=\"24px\">\n",
              "    <path d=\"M0 0h24v24H0V0z\" fill=\"none\"/>\n",
              "    <path d=\"M18.56 5.44l.94 2.06.94-2.06 2.06-.94-2.06-.94-.94-2.06-.94 2.06-2.06.94zm-11 1L8.5 8.5l.94-2.06 2.06-.94-2.06-.94L8.5 2.5l-.94 2.06-2.06.94zm10 10l.94 2.06.94-2.06 2.06-.94-2.06-.94-.94-2.06-.94 2.06-2.06.94z\"/><path d=\"M17.41 7.96l-1.37-1.37c-.4-.4-.92-.59-1.43-.59-.52 0-1.04.2-1.43.59L10.3 9.45l-7.72 7.72c-.78.78-.78 2.05 0 2.83L4 21.41c.39.39.9.59 1.41.59.51 0 1.02-.2 1.41-.59l7.78-7.78 2.81-2.81c.8-.78.8-2.07 0-2.86zM5.41 20L4 18.59l7.72-7.72 1.47 1.35L5.41 20z\"/>\n",
              "  </svg>\n",
              "      </button>\n",
              "      \n",
              "  <style>\n",
              "    .colab-df-container {\n",
              "      display:flex;\n",
              "      flex-wrap:wrap;\n",
              "      gap: 12px;\n",
              "    }\n",
              "\n",
              "    .colab-df-convert {\n",
              "      background-color: #E8F0FE;\n",
              "      border: none;\n",
              "      border-radius: 50%;\n",
              "      cursor: pointer;\n",
              "      display: none;\n",
              "      fill: #1967D2;\n",
              "      height: 32px;\n",
              "      padding: 0 0 0 0;\n",
              "      width: 32px;\n",
              "    }\n",
              "\n",
              "    .colab-df-convert:hover {\n",
              "      background-color: #E2EBFA;\n",
              "      box-shadow: 0px 1px 2px rgba(60, 64, 67, 0.3), 0px 1px 3px 1px rgba(60, 64, 67, 0.15);\n",
              "      fill: #174EA6;\n",
              "    }\n",
              "\n",
              "    [theme=dark] .colab-df-convert {\n",
              "      background-color: #3B4455;\n",
              "      fill: #D2E3FC;\n",
              "    }\n",
              "\n",
              "    [theme=dark] .colab-df-convert:hover {\n",
              "      background-color: #434B5C;\n",
              "      box-shadow: 0px 1px 3px 1px rgba(0, 0, 0, 0.15);\n",
              "      filter: drop-shadow(0px 1px 2px rgba(0, 0, 0, 0.3));\n",
              "      fill: #FFFFFF;\n",
              "    }\n",
              "  </style>\n",
              "\n",
              "      <script>\n",
              "        const buttonEl =\n",
              "          document.querySelector('#df-144e247e-2a1b-4953-96d4-c8fb8f95cb5b button.colab-df-convert');\n",
              "        buttonEl.style.display =\n",
              "          google.colab.kernel.accessAllowed ? 'block' : 'none';\n",
              "\n",
              "        async function convertToInteractive(key) {\n",
              "          const element = document.querySelector('#df-144e247e-2a1b-4953-96d4-c8fb8f95cb5b');\n",
              "          const dataTable =\n",
              "            await google.colab.kernel.invokeFunction('convertToInteractive',\n",
              "                                                     [key], {});\n",
              "          if (!dataTable) return;\n",
              "\n",
              "          const docLinkHtml = 'Like what you see? Visit the ' +\n",
              "            '<a target=\"_blank\" href=https://colab.research.google.com/notebooks/data_table.ipynb>data table notebook</a>'\n",
              "            + ' to learn more about interactive tables.';\n",
              "          element.innerHTML = '';\n",
              "          dataTable['output_type'] = 'display_data';\n",
              "          await google.colab.output.renderOutput(dataTable, element);\n",
              "          const docLink = document.createElement('div');\n",
              "          docLink.innerHTML = docLinkHtml;\n",
              "          element.appendChild(docLink);\n",
              "        }\n",
              "      </script>\n",
              "    </div>\n",
              "  </div>\n",
              "  "
            ]
          },
          "metadata": {},
          "execution_count": 210
        }
      ]
    },
    {
      "cell_type": "code",
      "source": [
        "plt.figure(figsize = (15,10))\n",
        "sns.heatmap(corr, annot = True, linewidth = 0.5, cmap = \"crest\")\n",
        "plt.show()"
      ],
      "metadata": {
        "colab": {
          "base_uri": "https://localhost:8080/",
          "height": 712
        },
        "id": "mpIeIvjEv_r0",
        "outputId": "85998de8-2c00-4dbb-a8da-7a918d561e6d"
      },
      "execution_count": 211,
      "outputs": [
        {
          "output_type": "display_data",
          "data": {
            "text/plain": [
              "<Figure size 1080x720 with 2 Axes>"
            ],
            "image/png": "[encoded data removed]"
          },
          "metadata": {
            "needs_background": "light"
          }
        }
      ]
    },
    {
      "cell_type": "markdown",
      "source": [
        "From the above corelation its clear that somker variable is highly corealted to the output variable."
      ],
      "metadata": {
        "id": "k89DxIa1wXsv"
      }
    },
    {
      "cell_type": "markdown",
      "source": [
        "#2. Develop and evaluate the final model using regression with a stochastic gradient descent optimizer. Also, ensure that you apply all the following suggestions:"
      ],
      "metadata": {
        "id": "IduJ3ZIOwdDP"
      }
    },
    {
      "cell_type": "markdown",
      "source": [
        "Note:\n",
        "• Perform the stratified 5-fold cross-validation technique for model building and validation • Use standardization and hyperparameter tuning effectively • Use sklearn-pipelines • Use appropriate regularization techniques to address the bias-variance trade-off"
      ],
      "metadata": {
        "id": "EoY-aCNzwgUF"
      }
    },
    {
      "cell_type": "markdown",
      "source": [
        "#a. Create five folds in the data, and introduce a variable to identify the folds\n",
        "#b. For each fold, run a for loop and ensure that 80 percent of the data is used to train the model and the remaining 20 percent is used to validate it in each iteration\n",
        "#c. Develop five distinct models and five distinct validation scores (root mean squared error values)\n",
        "#d. Determine the variable importance scores, and identify the redundant variables"
      ],
      "metadata": {
        "id": "Znh9EiOswkPc"
      }
    },
    {
      "cell_type": "code",
      "source": [
        "# seperate the input and output data\n",
        "x = final_df.drop([\"charges\"], axis = 1)\n",
        "y = final_df[['charges']]"
      ],
      "metadata": {
        "id": "fskHaKSSwTSo"
      },
      "execution_count": 212,
      "outputs": []
    },
    {
      "cell_type": "code",
      "source": [
        "#split the data set into the training and testing data\n",
        "from sklearn.model_selection import train_test_split"
      ],
      "metadata": {
        "id": "lkmxfJ1HJ2Fg"
      },
      "execution_count": 213,
      "outputs": []
    },
    {
      "cell_type": "code",
      "source": [
        "x_train,x_test,y_train,y_test = train_test_split(x,y, test_size = .20, random_state = 10)"
      ],
      "metadata": {
        "id": "TiqGgU0-K1MO"
      },
      "execution_count": 214,
      "outputs": []
    },
    {
      "cell_type": "code",
      "source": [
        "#now standardize the data\n",
        "from sklearn.preprocessing import StandardScaler"
      ],
      "metadata": {
        "id": "9pgmf_BNMV6u"
      },
      "execution_count": 215,
      "outputs": []
    },
    {
      "cell_type": "code",
      "source": [
        "sc = StandardScaler()"
      ],
      "metadata": {
        "id": "OTnFiLtIM0Jz"
      },
      "execution_count": 216,
      "outputs": []
    },
    {
      "cell_type": "code",
      "source": [
        "x_train = sc.fit_transform(x_train)\n",
        "x_test = sc.fit_transform(x_test)"
      ],
      "metadata": {
        "id": "90p9wCXuM32j"
      },
      "execution_count": 217,
      "outputs": []
    },
    {
      "cell_type": "code",
      "source": [
        "from sklearn.linear_model import SGDRegressor"
      ],
      "metadata": {
        "id": "PTgw2XXPNKJC"
      },
      "execution_count": 218,
      "outputs": []
    },
    {
      "cell_type": "code",
      "source": [
        "from sklearn.model_selection import GridSearchCV\n",
        "\n",
        "params = {'alpha': [0.0001, 0.001, 0.01, 0.05, 0.1, 0.2,0.3,0.4,0.5,\n",
        "                   0.6,0.7,0.8,0.9,1.0,2.0,3.0,4.0,5.0,6.0,7.0,8.0,\n",
        "                   9.0,10.0,20,50,100,500,1000],\n",
        "         'penalty': ['l2', 'l1', 'elasticnet']}\n",
        "\n",
        "sgd = SGDRegressor()\n",
        "\n",
        "# Cross Validation \n",
        "folds = 5\n",
        "model_cv = GridSearchCV(estimator = sgd,\n",
        "                       param_grid = params,\n",
        "                       scoring = 'neg_mean_absolute_error',\n",
        "                       cv = folds,\n",
        "                       return_train_score = True,\n",
        "                       verbose = 1)\n",
        "model_cv.fit(x_train,y_train)"
      ],
      "metadata": {
        "colab": {
          "base_uri": "https://localhost:8080/",
          "height": 135
        },
        "id": "xIdZjS8sOnb_",
        "outputId": "7ce0394b-ac11-4b0c-f7b4-048a2b4397ec"
      },
      "execution_count": 219,
      "outputs": [
        {
          "output_type": "stream",
          "name": "stdout",
          "text": [
            "Fitting 5 folds for each of 84 candidates, totalling 420 fits\n"
          ]
        },
        {
          "output_type": "execute_result",
          "data": {
            "text/plain": [
              "GridSearchCV(cv=5, estimator=SGDRegressor(),\n",
              "             param_grid={'alpha': [0.0001, 0.001, 0.01, 0.05, 0.1, 0.2, 0.3,\n",
              "                                   0.4, 0.5, 0.6, 0.7, 0.8, 0.9, 1.0, 2.0, 3.0,\n",
              "                                   4.0, 5.0, 6.0, 7.0, 8.0, 9.0, 10.0, 20, 50,\n",
              "                                   100, 500, 1000],\n",
              "                         'penalty': ['l2', 'l1', 'elasticnet']},\n",
              "             return_train_score=True, scoring='neg_mean_absolute_error',\n",
              "             verbose=1)"
            ],
            "text/html": [
              "<style>#sk-container-id-3 {color: black;background-color: white;}#sk-container-id-3 pre{padding: 0;}#sk-container-id-3 div.sk-toggleable {background-color: white;}#sk-container-id-3 label.sk-toggleable__label {cursor: pointer;display: block;width: 100%;margin-bottom: 0;padding: 0.3em;box-sizing: border-box;text-align: center;}#sk-container-id-3 label.sk-toggleable__label-arrow:before {content: \"▸\";float: left;margin-right: 0.25em;color: #696969;}#sk-container-id-3 label.sk-toggleable__label-arrow:hover:before {color: black;}#sk-container-id-3 div.sk-estimator:hover label.sk-toggleable__label-arrow:before {color: black;}#sk-container-id-3 div.sk-toggleable__content {max-height: 0;max-width: 0;overflow: hidden;text-align: left;background-color: #f0f8ff;}#sk-container-id-3 div.sk-toggleable__content pre {margin: 0.2em;color: black;border-radius: 0.25em;background-color: #f0f8ff;}#sk-container-id-3 input.sk-toggleable__control:checked~div.sk-toggleable__content {max-height: 200px;max-width: 100%;overflow: auto;}#sk-container-id-3 input.sk-toggleable__control:checked~label.sk-toggleable__label-arrow:before {content: \"▾\";}#sk-container-id-3 div.sk-estimator input.sk-toggleable__control:checked~label.sk-toggleable__label {background-color: #d4ebff;}#sk-container-id-3 div.sk-label input.sk-toggleable__control:checked~label.sk-toggleable__label {background-color: #d4ebff;}#sk-container-id-3 input.sk-hidden--visually {border: 0;clip: rect(1px 1px 1px 1px);clip: rect(1px, 1px, 1px, 1px);height: 1px;margin: -1px;overflow: hidden;padding: 0;position: absolute;width: 1px;}#sk-container-id-3 div.sk-estimator {font-family: monospace;background-color: #f0f8ff;border: 1px dotted black;border-radius: 0.25em;box-sizing: border-box;margin-bottom: 0.5em;}#sk-container-id-3 div.sk-estimator:hover {background-color: #d4ebff;}#sk-container-id-3 div.sk-parallel-item::after {content: \"\";width: 100%;border-bottom: 1px solid gray;flex-grow: 1;}#sk-container-id-3 div.sk-label:hover label.sk-toggleable__label {background-color: #d4ebff;}#sk-container-id-3 div.sk-serial::before {content: \"\";position: absolute;border-left: 1px solid gray;box-sizing: border-box;top: 0;bottom: 0;left: 50%;z-index: 0;}#sk-container-id-3 div.sk-serial {display: flex;flex-direction: column;align-items: center;background-color: white;padding-right: 0.2em;padding-left: 0.2em;position: relative;}#sk-container-id-3 div.sk-item {position: relative;z-index: 1;}#sk-container-id-3 div.sk-parallel {display: flex;align-items: stretch;justify-content: center;background-color: white;position: relative;}#sk-container-id-3 div.sk-item::before, #sk-container-id-3 div.sk-parallel-item::before {content: \"\";position: absolute;border-left: 1px solid gray;box-sizing: border-box;top: 0;bottom: 0;left: 50%;z-index: -1;}#sk-container-id-3 div.sk-parallel-item {display: flex;flex-direction: column;z-index: 1;position: relative;background-color: white;}#sk-container-id-3 div.sk-parallel-item:first-child::after {align-self: flex-end;width: 50%;}#sk-container-id-3 div.sk-parallel-item:last-child::after {align-self: flex-start;width: 50%;}#sk-container-id-3 div.sk-parallel-item:only-child::after {width: 0;}#sk-container-id-3 div.sk-dashed-wrapped {border: 1px dashed gray;margin: 0 0.4em 0.5em 0.4em;box-sizing: border-box;padding-bottom: 0.4em;background-color: white;}#sk-container-id-3 div.sk-label label {font-family: monospace;font-weight: bold;display: inline-block;line-height: 1.2em;}#sk-container-id-3 div.sk-label-container {text-align: center;}#sk-container-id-3 div.sk-container {/* jupyter's `normalize.less` sets `[hidden] { display: none; }` but bootstrap.min.css set `[hidden] { display: none !important; }` so we also need the `!important` here to be able to override the default hidden behavior on the sphinx rendered scikit-learn.org. See: https://github.com/scikit-learn/scikit-learn/issues/21755 */display: inline-block !important;position: relative;}#sk-container-id-3 div.sk-text-repr-fallback {display: none;}</style><div id=\"sk-container-id-3\" class=\"sk-top-container\"><div class=\"sk-text-repr-fallback\"><pre>GridSearchCV(cv=5, estimator=SGDRegressor(),\n",
              "             param_grid={&#x27;alpha&#x27;: [0.0001, 0.001, 0.01, 0.05, 0.1, 0.2, 0.3,\n",
              "                                   0.4, 0.5, 0.6, 0.7, 0.8, 0.9, 1.0, 2.0, 3.0,\n",
              "                                   4.0, 5.0, 6.0, 7.0, 8.0, 9.0, 10.0, 20, 50,\n",
              "                                   100, 500, 1000],\n",
              "                         &#x27;penalty&#x27;: [&#x27;l2&#x27;, &#x27;l1&#x27;, &#x27;elasticnet&#x27;]},\n",
              "             return_train_score=True, scoring=&#x27;neg_mean_absolute_error&#x27;,\n",
              "             verbose=1)</pre><b>In a Jupyter environment, please rerun this cell to show the HTML representation or trust the notebook. <br />On GitHub, the HTML representation is unable to render, please try loading this page with nbviewer.org.</b></div><div class=\"sk-container\" hidden><div class=\"sk-item sk-dashed-wrapped\"><div class=\"sk-label-container\"><div class=\"sk-label sk-toggleable\"><input class=\"sk-toggleable__control sk-hidden--visually\" id=\"sk-estimator-id-5\" type=\"checkbox\" ><label for=\"sk-estimator-id-5\" class=\"sk-toggleable__label sk-toggleable__label-arrow\">GridSearchCV</label><div class=\"sk-toggleable__content\"><pre>GridSearchCV(cv=5, estimator=SGDRegressor(),\n",
              "             param_grid={&#x27;alpha&#x27;: [0.0001, 0.001, 0.01, 0.05, 0.1, 0.2, 0.3,\n",
              "                                   0.4, 0.5, 0.6, 0.7, 0.8, 0.9, 1.0, 2.0, 3.0,\n",
              "                                   4.0, 5.0, 6.0, 7.0, 8.0, 9.0, 10.0, 20, 50,\n",
              "                                   100, 500, 1000],\n",
              "                         &#x27;penalty&#x27;: [&#x27;l2&#x27;, &#x27;l1&#x27;, &#x27;elasticnet&#x27;]},\n",
              "             return_train_score=True, scoring=&#x27;neg_mean_absolute_error&#x27;,\n",
              "             verbose=1)</pre></div></div></div><div class=\"sk-parallel\"><div class=\"sk-parallel-item\"><div class=\"sk-item\"><div class=\"sk-label-container\"><div class=\"sk-label sk-toggleable\"><input class=\"sk-toggleable__control sk-hidden--visually\" id=\"sk-estimator-id-6\" type=\"checkbox\" ><label for=\"sk-estimator-id-6\" class=\"sk-toggleable__label sk-toggleable__label-arrow\">estimator: SGDRegressor</label><div class=\"sk-toggleable__content\"><pre>SGDRegressor()</pre></div></div></div><div class=\"sk-serial\"><div class=\"sk-item\"><div class=\"sk-estimator sk-toggleable\"><input class=\"sk-toggleable__control sk-hidden--visually\" id=\"sk-estimator-id-7\" type=\"checkbox\" ><label for=\"sk-estimator-id-7\" class=\"sk-toggleable__label sk-toggleable__label-arrow\">SGDRegressor</label><div class=\"sk-toggleable__content\"><pre>SGDRegressor()</pre></div></div></div></div></div></div></div></div></div></div>"
            ]
          },
          "metadata": {},
          "execution_count": 219
        }
      ]
    },
    {
      "cell_type": "code",
      "source": [
        "model_cv.best_params_"
      ],
      "metadata": {
        "colab": {
          "base_uri": "https://localhost:8080/"
        },
        "id": "xIzHYWGPPe1z",
        "outputId": "c52abc61-02e3-44bb-901a-7a504b56b4d6"
      },
      "execution_count": 220,
      "outputs": [
        {
          "output_type": "execute_result",
          "data": {
            "text/plain": [
              "{'alpha': 100, 'penalty': 'l1'}"
            ]
          },
          "metadata": {},
          "execution_count": 220
        }
      ]
    },
    {
      "cell_type": "code",
      "source": [
        "sgd = SGDRegressor(alpha = 100, penalty ='l1')"
      ],
      "metadata": {
        "id": "ZVOx2PwdPtXZ"
      },
      "execution_count": 221,
      "outputs": []
    },
    {
      "cell_type": "code",
      "source": [
        "sgd.fit(x_train, y_train)"
      ],
      "metadata": {
        "colab": {
          "base_uri": "https://localhost:8080/",
          "height": 75
        },
        "id": "7CoyN0txP8B7",
        "outputId": "93da05ea-61e7-4824-e9d2-9325dfdc6d9b"
      },
      "execution_count": 222,
      "outputs": [
        {
          "output_type": "execute_result",
          "data": {
            "text/plain": [
              "SGDRegressor(alpha=100, penalty='l1')"
            ],
            "text/html": [
              "<style>#sk-container-id-4 {color: black;background-color: white;}#sk-container-id-4 pre{padding: 0;}#sk-container-id-4 div.sk-toggleable {background-color: white;}#sk-container-id-4 label.sk-toggleable__label {cursor: pointer;display: block;width: 100%;margin-bottom: 0;padding: 0.3em;box-sizing: border-box;text-align: center;}#sk-container-id-4 label.sk-toggleable__label-arrow:before {content: \"▸\";float: left;margin-right: 0.25em;color: #696969;}#sk-container-id-4 label.sk-toggleable__label-arrow:hover:before {color: black;}#sk-container-id-4 div.sk-estimator:hover label.sk-toggleable__label-arrow:before {color: black;}#sk-container-id-4 div.sk-toggleable__content {max-height: 0;max-width: 0;overflow: hidden;text-align: left;background-color: #f0f8ff;}#sk-container-id-4 div.sk-toggleable__content pre {margin: 0.2em;color: black;border-radius: 0.25em;background-color: #f0f8ff;}#sk-container-id-4 input.sk-toggleable__control:checked~div.sk-toggleable__content {max-height: 200px;max-width: 100%;overflow: auto;}#sk-container-id-4 input.sk-toggleable__control:checked~label.sk-toggleable__label-arrow:before {content: \"▾\";}#sk-container-id-4 div.sk-estimator input.sk-toggleable__control:checked~label.sk-toggleable__label {background-color: #d4ebff;}#sk-container-id-4 div.sk-label input.sk-toggleable__control:checked~label.sk-toggleable__label {background-color: #d4ebff;}#sk-container-id-4 input.sk-hidden--visually {border: 0;clip: rect(1px 1px 1px 1px);clip: rect(1px, 1px, 1px, 1px);height: 1px;margin: -1px;overflow: hidden;padding: 0;position: absolute;width: 1px;}#sk-container-id-4 div.sk-estimator {font-family: monospace;background-color: #f0f8ff;border: 1px dotted black;border-radius: 0.25em;box-sizing: border-box;margin-bottom: 0.5em;}#sk-container-id-4 div.sk-estimator:hover {background-color: #d4ebff;}#sk-container-id-4 div.sk-parallel-item::after {content: \"\";width: 100%;border-bottom: 1px solid gray;flex-grow: 1;}#sk-container-id-4 div.sk-label:hover label.sk-toggleable__label {background-color: #d4ebff;}#sk-container-id-4 div.sk-serial::before {content: \"\";position: absolute;border-left: 1px solid gray;box-sizing: border-box;top: 0;bottom: 0;left: 50%;z-index: 0;}#sk-container-id-4 div.sk-serial {display: flex;flex-direction: column;align-items: center;background-color: white;padding-right: 0.2em;padding-left: 0.2em;position: relative;}#sk-container-id-4 div.sk-item {position: relative;z-index: 1;}#sk-container-id-4 div.sk-parallel {display: flex;align-items: stretch;justify-content: center;background-color: white;position: relative;}#sk-container-id-4 div.sk-item::before, #sk-container-id-4 div.sk-parallel-item::before {content: \"\";position: absolute;border-left: 1px solid gray;box-sizing: border-box;top: 0;bottom: 0;left: 50%;z-index: -1;}#sk-container-id-4 div.sk-parallel-item {display: flex;flex-direction: column;z-index: 1;position: relative;background-color: white;}#sk-container-id-4 div.sk-parallel-item:first-child::after {align-self: flex-end;width: 50%;}#sk-container-id-4 div.sk-parallel-item:last-child::after {align-self: flex-start;width: 50%;}#sk-container-id-4 div.sk-parallel-item:only-child::after {width: 0;}#sk-container-id-4 div.sk-dashed-wrapped {border: 1px dashed gray;margin: 0 0.4em 0.5em 0.4em;box-sizing: border-box;padding-bottom: 0.4em;background-color: white;}#sk-container-id-4 div.sk-label label {font-family: monospace;font-weight: bold;display: inline-block;line-height: 1.2em;}#sk-container-id-4 div.sk-label-container {text-align: center;}#sk-container-id-4 div.sk-container {/* jupyter's `normalize.less` sets `[hidden] { display: none; }` but bootstrap.min.css set `[hidden] { display: none !important; }` so we also need the `!important` here to be able to override the default hidden behavior on the sphinx rendered scikit-learn.org. See: https://github.com/scikit-learn/scikit-learn/issues/21755 */display: inline-block !important;position: relative;}#sk-container-id-4 div.sk-text-repr-fallback {display: none;}</style><div id=\"sk-container-id-4\" class=\"sk-top-container\"><div class=\"sk-text-repr-fallback\"><pre>SGDRegressor(alpha=100, penalty=&#x27;l1&#x27;)</pre><b>In a Jupyter environment, please rerun this cell to show the HTML representation or trust the notebook. <br />On GitHub, the HTML representation is unable to render, please try loading this page with nbviewer.org.</b></div><div class=\"sk-container\" hidden><div class=\"sk-item\"><div class=\"sk-estimator sk-toggleable\"><input class=\"sk-toggleable__control sk-hidden--visually\" id=\"sk-estimator-id-8\" type=\"checkbox\" checked><label for=\"sk-estimator-id-8\" class=\"sk-toggleable__label sk-toggleable__label-arrow\">SGDRegressor</label><div class=\"sk-toggleable__content\"><pre>SGDRegressor(alpha=100, penalty=&#x27;l1&#x27;)</pre></div></div></div></div></div>"
            ]
          },
          "metadata": {},
          "execution_count": 222
        }
      ]
    },
    {
      "cell_type": "code",
      "source": [
        "sgd.score(x_test, y_test)"
      ],
      "metadata": {
        "colab": {
          "base_uri": "https://localhost:8080/"
        },
        "id": "rEFBTHhNQJG6",
        "outputId": "db02538b-22fe-4b9e-ca8c-77f2dda64816"
      },
      "execution_count": 223,
      "outputs": [
        {
          "output_type": "execute_result",
          "data": {
            "text/plain": [
              "0.8605114418923436"
            ]
          },
          "metadata": {},
          "execution_count": 223
        }
      ]
    },
    {
      "cell_type": "code",
      "source": [
        "y_pred = sgd.predict(x_test)"
      ],
      "metadata": {
        "id": "gfVTOSsEQOpB"
      },
      "execution_count": 224,
      "outputs": []
    },
    {
      "cell_type": "code",
      "source": [
        "from sklearn.metrics import mean_squared_error, mean_absolute_error"
      ],
      "metadata": {
        "id": "au8zelPgQWiN"
      },
      "execution_count": 225,
      "outputs": []
    },
    {
      "cell_type": "code",
      "source": [
        "sgd_mae = mean_absolute_error(y_test, y_pred)\n",
        "sgd_mse = mean_squared_error(y_test, y_pred)\n",
        "sgd_rmse = sgd_mse*(1/2.0)"
      ],
      "metadata": {
        "id": "jA1nNz8TQglp"
      },
      "execution_count": 229,
      "outputs": []
    },
    {
      "cell_type": "code",
      "source": [
        "print(\"MAE:\", sgd_mae)\n",
        "print(\"MSE:\", sgd_mse)\n",
        "print(\"RMSE:\", sgd_rmse)"
      ],
      "metadata": {
        "colab": {
          "base_uri": "https://localhost:8080/"
        },
        "id": "OngTzlt3Q8IB",
        "outputId": "e7488c7d-8bf4-4d7b-a8f1-a309f51fb5c2"
      },
      "execution_count": 231,
      "outputs": [
        {
          "output_type": "stream",
          "name": "stdout",
          "text": [
            "MAE: 3121.939129506432\n",
            "MSE: 23462800.975690357\n",
            "RMSE: 11731400.487845179\n"
          ]
        }
      ]
    },
    {
      "cell_type": "code",
      "source": [
        "# d. Determine the variable importance scores, and identify the redundant variables\n",
        "importance = sgd.coef_"
      ],
      "metadata": {
        "id": "9UHnadp_SGRt"
      },
      "execution_count": 232,
      "outputs": []
    },
    {
      "cell_type": "code",
      "source": [
        "pd.DataFrame(importance, index = x.columns, columns=['Feature_imp'])\n"
      ],
      "metadata": {
        "colab": {
          "base_uri": "https://localhost:8080/",
          "height": 520
        },
        "id": "YqcnkR7BSkMY",
        "outputId": "be688d91-ff94-460f-b0c3-c256933ad698"
      },
      "execution_count": 233,
      "outputs": [
        {
          "output_type": "execute_result",
          "data": {
            "text/plain": [
              "                        Feature_imp\n",
              "children                 397.330288\n",
              "Hospital tier          -1129.799556\n",
              "City tier                  0.000000\n",
              "BMI                     2680.981086\n",
              "HBA1C                     67.699745\n",
              "Heart Issues               0.000000\n",
              "Any Transplants            0.000000\n",
              "Cancer history            39.602807\n",
              "NumberOfMajorSurgeries     0.000000\n",
              "smoker                  8820.357433\n",
              "State ID_R1011          -189.132843\n",
              "State ID_R1012             0.000000\n",
              "State ID_R1013          -340.118732\n",
              "age                     3406.031406\n",
              "gender                     0.000000"
            ],
            "text/html": [
              "\n",
              "  <div id=\"df-91073ebf-14d7-4068-b26d-974fd92322ee\">\n",
              "    <div class=\"colab-df-container\">\n",
              "      <div>\n",
              "<style scoped>\n",
              "    .dataframe tbody tr th:only-of-type {\n",
              "        vertical-align: middle;\n",
              "    }\n",
              "\n",
              "    .dataframe tbody tr th {\n",
              "        vertical-align: top;\n",
              "    }\n",
              "\n",
              "    .dataframe thead th {\n",
              "        text-align: right;\n",
              "    }\n",
              "</style>\n",
              "<table border=\"1\" class=\"dataframe\">\n",
              "  <thead>\n",
              "    <tr style=\"text-align: right;\">\n",
              "      <th></th>\n",
              "      <th>Feature_imp</th>\n",
              "    </tr>\n",
              "  </thead>\n",
              "  <tbody>\n",
              "    <tr>\n",
              "      <th>children</th>\n",
              "      <td>397.330288</td>\n",
              "    </tr>\n",
              "    <tr>\n",
              "      <th>Hospital tier</th>\n",
              "      <td>-1129.799556</td>\n",
              "    </tr>\n",
              "    <tr>\n",
              "      <th>City tier</th>\n",
              "      <td>0.000000</td>\n",
              "    </tr>\n",
              "    <tr>\n",
              "      <th>BMI</th>\n",
              "      <td>2680.981086</td>\n",
              "    </tr>\n",
              "    <tr>\n",
              "      <th>HBA1C</th>\n",
              "      <td>67.699745</td>\n",
              "    </tr>\n",
              "    <tr>\n",
              "      <th>Heart Issues</th>\n",
              "      <td>0.000000</td>\n",
              "    </tr>\n",
              "    <tr>\n",
              "      <th>Any Transplants</th>\n",
              "      <td>0.000000</td>\n",
              "    </tr>\n",
              "    <tr>\n",
              "      <th>Cancer history</th>\n",
              "      <td>39.602807</td>\n",
              "    </tr>\n",
              "    <tr>\n",
              "      <th>NumberOfMajorSurgeries</th>\n",
              "      <td>0.000000</td>\n",
              "    </tr>\n",
              "    <tr>\n",
              "      <th>smoker</th>\n",
              "      <td>8820.357433</td>\n",
              "    </tr>\n",
              "    <tr>\n",
              "      <th>State ID_R1011</th>\n",
              "      <td>-189.132843</td>\n",
              "    </tr>\n",
              "    <tr>\n",
              "      <th>State ID_R1012</th>\n",
              "      <td>0.000000</td>\n",
              "    </tr>\n",
              "    <tr>\n",
              "      <th>State ID_R1013</th>\n",
              "      <td>-340.118732</td>\n",
              "    </tr>\n",
              "    <tr>\n",
              "      <th>age</th>\n",
              "      <td>3406.031406</td>\n",
              "    </tr>\n",
              "    <tr>\n",
              "      <th>gender</th>\n",
              "      <td>0.000000</td>\n",
              "    </tr>\n",
              "  </tbody>\n",
              "</table>\n",
              "</div>\n",
              "      <button class=\"colab-df-convert\" onclick=\"convertToInteractive('df-91073ebf-14d7-4068-b26d-974fd92322ee')\"\n",
              "              title=\"Convert this dataframe to an interactive table.\"\n",
              "              style=\"display:none;\">\n",
              "        \n",
              "  <svg xmlns=\"http://www.w3.org/2000/svg\" height=\"24px\"viewBox=\"0 0 24 24\"\n",
              "       width=\"24px\">\n",
              "    <path d=\"M0 0h24v24H0V0z\" fill=\"none\"/>\n",
              "    <path d=\"M18.56 5.44l.94 2.06.94-2.06 2.06-.94-2.06-.94-.94-2.06-.94 2.06-2.06.94zm-11 1L8.5 8.5l.94-2.06 2.06-.94-2.06-.94L8.5 2.5l-.94 2.06-2.06.94zm10 10l.94 2.06.94-2.06 2.06-.94-2.06-.94-.94-2.06-.94 2.06-2.06.94z\"/><path d=\"M17.41 7.96l-1.37-1.37c-.4-.4-.92-.59-1.43-.59-.52 0-1.04.2-1.43.59L10.3 9.45l-7.72 7.72c-.78.78-.78 2.05 0 2.83L4 21.41c.39.39.9.59 1.41.59.51 0 1.02-.2 1.41-.59l7.78-7.78 2.81-2.81c.8-.78.8-2.07 0-2.86zM5.41 20L4 18.59l7.72-7.72 1.47 1.35L5.41 20z\"/>\n",
              "  </svg>\n",
              "      </button>\n",
              "      \n",
              "  <style>\n",
              "    .colab-df-container {\n",
              "      display:flex;\n",
              "      flex-wrap:wrap;\n",
              "      gap: 12px;\n",
              "    }\n",
              "\n",
              "    .colab-df-convert {\n",
              "      background-color: #E8F0FE;\n",
              "      border: none;\n",
              "      border-radius: 50%;\n",
              "      cursor: pointer;\n",
              "      display: none;\n",
              "      fill: #1967D2;\n",
              "      height: 32px;\n",
              "      padding: 0 0 0 0;\n",
              "      width: 32px;\n",
              "    }\n",
              "\n",
              "    .colab-df-convert:hover {\n",
              "      background-color: #E2EBFA;\n",
              "      box-shadow: 0px 1px 2px rgba(60, 64, 67, 0.3), 0px 1px 3px 1px rgba(60, 64, 67, 0.15);\n",
              "      fill: #174EA6;\n",
              "    }\n",
              "\n",
              "    [theme=dark] .colab-df-convert {\n",
              "      background-color: #3B4455;\n",
              "      fill: #D2E3FC;\n",
              "    }\n",
              "\n",
              "    [theme=dark] .colab-df-convert:hover {\n",
              "      background-color: #434B5C;\n",
              "      box-shadow: 0px 1px 3px 1px rgba(0, 0, 0, 0.15);\n",
              "      filter: drop-shadow(0px 1px 2px rgba(0, 0, 0, 0.3));\n",
              "      fill: #FFFFFF;\n",
              "    }\n",
              "  </style>\n",
              "\n",
              "      <script>\n",
              "        const buttonEl =\n",
              "          document.querySelector('#df-91073ebf-14d7-4068-b26d-974fd92322ee button.colab-df-convert');\n",
              "        buttonEl.style.display =\n",
              "          google.colab.kernel.accessAllowed ? 'block' : 'none';\n",
              "\n",
              "        async function convertToInteractive(key) {\n",
              "          const element = document.querySelector('#df-91073ebf-14d7-4068-b26d-974fd92322ee');\n",
              "          const dataTable =\n",
              "            await google.colab.kernel.invokeFunction('convertToInteractive',\n",
              "                                                     [key], {});\n",
              "          if (!dataTable) return;\n",
              "\n",
              "          const docLinkHtml = 'Like what you see? Visit the ' +\n",
              "            '<a target=\"_blank\" href=https://colab.research.google.com/notebooks/data_table.ipynb>data table notebook</a>'\n",
              "            + ' to learn more about interactive tables.';\n",
              "          element.innerHTML = '';\n",
              "          dataTable['output_type'] = 'display_data';\n",
              "          await google.colab.output.renderOutput(dataTable, element);\n",
              "          const docLink = document.createElement('div');\n",
              "          docLink.innerHTML = docLinkHtml;\n",
              "          element.appendChild(docLink);\n",
              "        }\n",
              "      </script>\n",
              "    </div>\n",
              "  </div>\n",
              "  "
            ]
          },
          "metadata": {},
          "execution_count": 233
        }
      ]
    },
    {
      "cell_type": "markdown",
      "source": [
        "#3. Use random forest and extreme gradient boosting for cost prediction, share your cross\u0002validation results, and calculate the variable importance scores\n"
      ],
      "metadata": {
        "id": "B3SItBtSSofB"
      }
    },
    {
      "cell_type": "markdown",
      "source": [
        "Random Forest"
      ],
      "metadata": {
        "id": "j1-nW3RNSq0M"
      }
    },
    {
      "cell_type": "code",
      "source": [
        "from sklearn.ensemble import RandomForestRegressor\n"
      ],
      "metadata": {
        "id": "dBXbaL7PSl6F"
      },
      "execution_count": 234,
      "outputs": []
    },
    {
      "cell_type": "code",
      "source": [
        "# Instantiate model with 1000 decision trees\n",
        "rf = RandomForestRegressor(n_estimators = 1000, random_state = 42)\n",
        "\n",
        "# Train the model on training data\n",
        "rf.fit(x_train, y_train)"
      ],
      "metadata": {
        "colab": {
          "base_uri": "https://localhost:8080/",
          "height": 75
        },
        "id": "0elqNT4_SwwV",
        "outputId": "0b907342-00ee-4334-bca4-78088b51cb75"
      },
      "execution_count": 235,
      "outputs": [
        {
          "output_type": "execute_result",
          "data": {
            "text/plain": [
              "RandomForestRegressor(n_estimators=1000, random_state=42)"
            ],
            "text/html": [
              "<style>#sk-container-id-5 {color: black;background-color: white;}#sk-container-id-5 pre{padding: 0;}#sk-container-id-5 div.sk-toggleable {background-color: white;}#sk-container-id-5 label.sk-toggleable__label {cursor: pointer;display: block;width: 100%;margin-bottom: 0;padding: 0.3em;box-sizing: border-box;text-align: center;}#sk-container-id-5 label.sk-toggleable__label-arrow:before {content: \"▸\";float: left;margin-right: 0.25em;color: #696969;}#sk-container-id-5 label.sk-toggleable__label-arrow:hover:before {color: black;}#sk-container-id-5 div.sk-estimator:hover label.sk-toggleable__label-arrow:before {color: black;}#sk-container-id-5 div.sk-toggleable__content {max-height: 0;max-width: 0;overflow: hidden;text-align: left;background-color: #f0f8ff;}#sk-container-id-5 div.sk-toggleable__content pre {margin: 0.2em;color: black;border-radius: 0.25em;background-color: #f0f8ff;}#sk-container-id-5 input.sk-toggleable__control:checked~div.sk-toggleable__content {max-height: 200px;max-width: 100%;overflow: auto;}#sk-container-id-5 input.sk-toggleable__control:checked~label.sk-toggleable__label-arrow:before {content: \"▾\";}#sk-container-id-5 div.sk-estimator input.sk-toggleable__control:checked~label.sk-toggleable__label {background-color: #d4ebff;}#sk-container-id-5 div.sk-label input.sk-toggleable__control:checked~label.sk-toggleable__label {background-color: #d4ebff;}#sk-container-id-5 input.sk-hidden--visually {border: 0;clip: rect(1px 1px 1px 1px);clip: rect(1px, 1px, 1px, 1px);height: 1px;margin: -1px;overflow: hidden;padding: 0;position: absolute;width: 1px;}#sk-container-id-5 div.sk-estimator {font-family: monospace;background-color: #f0f8ff;border: 1px dotted black;border-radius: 0.25em;box-sizing: border-box;margin-bottom: 0.5em;}#sk-container-id-5 div.sk-estimator:hover {background-color: #d4ebff;}#sk-container-id-5 div.sk-parallel-item::after {content: \"\";width: 100%;border-bottom: 1px solid gray;flex-grow: 1;}#sk-container-id-5 div.sk-label:hover label.sk-toggleable__label {background-color: #d4ebff;}#sk-container-id-5 div.sk-serial::before {content: \"\";position: absolute;border-left: 1px solid gray;box-sizing: border-box;top: 0;bottom: 0;left: 50%;z-index: 0;}#sk-container-id-5 div.sk-serial {display: flex;flex-direction: column;align-items: center;background-color: white;padding-right: 0.2em;padding-left: 0.2em;position: relative;}#sk-container-id-5 div.sk-item {position: relative;z-index: 1;}#sk-container-id-5 div.sk-parallel {display: flex;align-items: stretch;justify-content: center;background-color: white;position: relative;}#sk-container-id-5 div.sk-item::before, #sk-container-id-5 div.sk-parallel-item::before {content: \"\";position: absolute;border-left: 1px solid gray;box-sizing: border-box;top: 0;bottom: 0;left: 50%;z-index: -1;}#sk-container-id-5 div.sk-parallel-item {display: flex;flex-direction: column;z-index: 1;position: relative;background-color: white;}#sk-container-id-5 div.sk-parallel-item:first-child::after {align-self: flex-end;width: 50%;}#sk-container-id-5 div.sk-parallel-item:last-child::after {align-self: flex-start;width: 50%;}#sk-container-id-5 div.sk-parallel-item:only-child::after {width: 0;}#sk-container-id-5 div.sk-dashed-wrapped {border: 1px dashed gray;margin: 0 0.4em 0.5em 0.4em;box-sizing: border-box;padding-bottom: 0.4em;background-color: white;}#sk-container-id-5 div.sk-label label {font-family: monospace;font-weight: bold;display: inline-block;line-height: 1.2em;}#sk-container-id-5 div.sk-label-container {text-align: center;}#sk-container-id-5 div.sk-container {/* jupyter's `normalize.less` sets `[hidden] { display: none; }` but bootstrap.min.css set `[hidden] { display: none !important; }` so we also need the `!important` here to be able to override the default hidden behavior on the sphinx rendered scikit-learn.org. See: https://github.com/scikit-learn/scikit-learn/issues/21755 */display: inline-block !important;position: relative;}#sk-container-id-5 div.sk-text-repr-fallback {display: none;}</style><div id=\"sk-container-id-5\" class=\"sk-top-container\"><div class=\"sk-text-repr-fallback\"><pre>RandomForestRegressor(n_estimators=1000, random_state=42)</pre><b>In a Jupyter environment, please rerun this cell to show the HTML representation or trust the notebook. <br />On GitHub, the HTML representation is unable to render, please try loading this page with nbviewer.org.</b></div><div class=\"sk-container\" hidden><div class=\"sk-item\"><div class=\"sk-estimator sk-toggleable\"><input class=\"sk-toggleable__control sk-hidden--visually\" id=\"sk-estimator-id-9\" type=\"checkbox\" checked><label for=\"sk-estimator-id-9\" class=\"sk-toggleable__label sk-toggleable__label-arrow\">RandomForestRegressor</label><div class=\"sk-toggleable__content\"><pre>RandomForestRegressor(n_estimators=1000, random_state=42)</pre></div></div></div></div></div>"
            ]
          },
          "metadata": {},
          "execution_count": 235
        }
      ]
    },
    {
      "cell_type": "code",
      "source": [
        "score = rf.score(x_test,y_test)\n",
        "score"
      ],
      "metadata": {
        "colab": {
          "base_uri": "https://localhost:8080/"
        },
        "id": "j9aTeopZS0Lr",
        "outputId": "3abeb291-8e59-4c4f-852a-46de589b61d7"
      },
      "execution_count": 236,
      "outputs": [
        {
          "output_type": "execute_result",
          "data": {
            "text/plain": [
              "0.9222696338245824"
            ]
          },
          "metadata": {},
          "execution_count": 236
        }
      ]
    },
    {
      "cell_type": "code",
      "source": [
        "y_pred = rf.predict(x_test)"
      ],
      "metadata": {
        "id": "o7WXVIvYS5T2"
      },
      "execution_count": 237,
      "outputs": []
    },
    {
      "cell_type": "code",
      "source": [
        "rf_mae = mean_absolute_error(y_test, y_pred)\n"
      ],
      "metadata": {
        "id": "nW8ijM1BS7KR"
      },
      "execution_count": 238,
      "outputs": []
    },
    {
      "cell_type": "code",
      "source": [
        "rf_mae\n"
      ],
      "metadata": {
        "colab": {
          "base_uri": "https://localhost:8080/"
        },
        "id": "rCw_QeaIS9Dh",
        "outputId": "f4209faa-4dbe-4ca4-e585-3af33d0b3809"
      },
      "execution_count": 239,
      "outputs": [
        {
          "output_type": "execute_result",
          "data": {
            "text/plain": [
              "1870.3529629462323"
            ]
          },
          "metadata": {},
          "execution_count": 239
        }
      ]
    },
    {
      "cell_type": "markdown",
      "source": [
        "#extreme gradient boosting\n"
      ],
      "metadata": {
        "id": "p-6GPdeqS__A"
      }
    },
    {
      "cell_type": "code",
      "source": [
        "from sklearn.ensemble import GradientBoostingRegressor\n"
      ],
      "metadata": {
        "id": "644dpJGvS-c6"
      },
      "execution_count": 240,
      "outputs": []
    },
    {
      "cell_type": "code",
      "source": [
        "# Instantiate model with 1000 decision trees\n",
        "gbr = GradientBoostingRegressor(n_estimators = 1000, random_state = 42)\n",
        "\n",
        "# Train the model on training data\n",
        "gbr.fit(x_train, y_train)"
      ],
      "metadata": {
        "colab": {
          "base_uri": "https://localhost:8080/",
          "height": 75
        },
        "id": "Hl-3oEfcTDEB",
        "outputId": "3db217e1-329a-482a-9f3f-73a942cbf8c7"
      },
      "execution_count": 241,
      "outputs": [
        {
          "output_type": "execute_result",
          "data": {
            "text/plain": [
              "GradientBoostingRegressor(n_estimators=1000, random_state=42)"
            ],
            "text/html": [
              "<style>#sk-container-id-6 {color: black;background-color: white;}#sk-container-id-6 pre{padding: 0;}#sk-container-id-6 div.sk-toggleable {background-color: white;}#sk-container-id-6 label.sk-toggleable__label {cursor: pointer;display: block;width: 100%;margin-bottom: 0;padding: 0.3em;box-sizing: border-box;text-align: center;}#sk-container-id-6 label.sk-toggleable__label-arrow:before {content: \"▸\";float: left;margin-right: 0.25em;color: #696969;}#sk-container-id-6 label.sk-toggleable__label-arrow:hover:before {color: black;}#sk-container-id-6 div.sk-estimator:hover label.sk-toggleable__label-arrow:before {color: black;}#sk-container-id-6 div.sk-toggleable__content {max-height: 0;max-width: 0;overflow: hidden;text-align: left;background-color: #f0f8ff;}#sk-container-id-6 div.sk-toggleable__content pre {margin: 0.2em;color: black;border-radius: 0.25em;background-color: #f0f8ff;}#sk-container-id-6 input.sk-toggleable__control:checked~div.sk-toggleable__content {max-height: 200px;max-width: 100%;overflow: auto;}#sk-container-id-6 input.sk-toggleable__control:checked~label.sk-toggleable__label-arrow:before {content: \"▾\";}#sk-container-id-6 div.sk-estimator input.sk-toggleable__control:checked~label.sk-toggleable__label {background-color: #d4ebff;}#sk-container-id-6 div.sk-label input.sk-toggleable__control:checked~label.sk-toggleable__label {background-color: #d4ebff;}#sk-container-id-6 input.sk-hidden--visually {border: 0;clip: rect(1px 1px 1px 1px);clip: rect(1px, 1px, 1px, 1px);height: 1px;margin: -1px;overflow: hidden;padding: 0;position: absolute;width: 1px;}#sk-container-id-6 div.sk-estimator {font-family: monospace;background-color: #f0f8ff;border: 1px dotted black;border-radius: 0.25em;box-sizing: border-box;margin-bottom: 0.5em;}#sk-container-id-6 div.sk-estimator:hover {background-color: #d4ebff;}#sk-container-id-6 div.sk-parallel-item::after {content: \"\";width: 100%;border-bottom: 1px solid gray;flex-grow: 1;}#sk-container-id-6 div.sk-label:hover label.sk-toggleable__label {background-color: #d4ebff;}#sk-container-id-6 div.sk-serial::before {content: \"\";position: absolute;border-left: 1px solid gray;box-sizing: border-box;top: 0;bottom: 0;left: 50%;z-index: 0;}#sk-container-id-6 div.sk-serial {display: flex;flex-direction: column;align-items: center;background-color: white;padding-right: 0.2em;padding-left: 0.2em;position: relative;}#sk-container-id-6 div.sk-item {position: relative;z-index: 1;}#sk-container-id-6 div.sk-parallel {display: flex;align-items: stretch;justify-content: center;background-color: white;position: relative;}#sk-container-id-6 div.sk-item::before, #sk-container-id-6 div.sk-parallel-item::before {content: \"\";position: absolute;border-left: 1px solid gray;box-sizing: border-box;top: 0;bottom: 0;left: 50%;z-index: -1;}#sk-container-id-6 div.sk-parallel-item {display: flex;flex-direction: column;z-index: 1;position: relative;background-color: white;}#sk-container-id-6 div.sk-parallel-item:first-child::after {align-self: flex-end;width: 50%;}#sk-container-id-6 div.sk-parallel-item:last-child::after {align-self: flex-start;width: 50%;}#sk-container-id-6 div.sk-parallel-item:only-child::after {width: 0;}#sk-container-id-6 div.sk-dashed-wrapped {border: 1px dashed gray;margin: 0 0.4em 0.5em 0.4em;box-sizing: border-box;padding-bottom: 0.4em;background-color: white;}#sk-container-id-6 div.sk-label label {font-family: monospace;font-weight: bold;display: inline-block;line-height: 1.2em;}#sk-container-id-6 div.sk-label-container {text-align: center;}#sk-container-id-6 div.sk-container {/* jupyter's `normalize.less` sets `[hidden] { display: none; }` but bootstrap.min.css set `[hidden] { display: none !important; }` so we also need the `!important` here to be able to override the default hidden behavior on the sphinx rendered scikit-learn.org. See: https://github.com/scikit-learn/scikit-learn/issues/21755 */display: inline-block !important;position: relative;}#sk-container-id-6 div.sk-text-repr-fallback {display: none;}</style><div id=\"sk-container-id-6\" class=\"sk-top-container\"><div class=\"sk-text-repr-fallback\"><pre>GradientBoostingRegressor(n_estimators=1000, random_state=42)</pre><b>In a Jupyter environment, please rerun this cell to show the HTML representation or trust the notebook. <br />On GitHub, the HTML representation is unable to render, please try loading this page with nbviewer.org.</b></div><div class=\"sk-container\" hidden><div class=\"sk-item\"><div class=\"sk-estimator sk-toggleable\"><input class=\"sk-toggleable__control sk-hidden--visually\" id=\"sk-estimator-id-10\" type=\"checkbox\" checked><label for=\"sk-estimator-id-10\" class=\"sk-toggleable__label sk-toggleable__label-arrow\">GradientBoostingRegressor</label><div class=\"sk-toggleable__content\"><pre>GradientBoostingRegressor(n_estimators=1000, random_state=42)</pre></div></div></div></div></div>"
            ]
          },
          "metadata": {},
          "execution_count": 241
        }
      ]
    },
    {
      "cell_type": "code",
      "source": [
        "score = gbr.score(x_test,y_test)\n",
        "score"
      ],
      "metadata": {
        "colab": {
          "base_uri": "https://localhost:8080/"
        },
        "id": "tJ9VzBNSTEvd",
        "outputId": "41b5ba15-cc69-4df3-ed2c-0bc981e701fb"
      },
      "execution_count": 242,
      "outputs": [
        {
          "output_type": "execute_result",
          "data": {
            "text/plain": [
              "0.9042734212625119"
            ]
          },
          "metadata": {},
          "execution_count": 242
        }
      ]
    },
    {
      "cell_type": "code",
      "source": [
        "y_pred = gbr.predict(x_test)\n"
      ],
      "metadata": {
        "id": "N5kmL8N6THAk"
      },
      "execution_count": 243,
      "outputs": []
    },
    {
      "cell_type": "code",
      "source": [
        "gbr_mae = mean_absolute_error(y_test, y_pred)\n",
        "gbr_mae"
      ],
      "metadata": {
        "colab": {
          "base_uri": "https://localhost:8080/"
        },
        "id": "DFmATrmYTKRX",
        "outputId": "7bdec18d-4788-4f86-ac17-64301a2963e8"
      },
      "execution_count": 244,
      "outputs": [
        {
          "output_type": "execute_result",
          "data": {
            "text/plain": [
              "2375.8700944163274"
            ]
          },
          "metadata": {},
          "execution_count": 244
        }
      ]
    },
    {
      "cell_type": "markdown",
      "source": [
        "#4. Case scenario:"
      ],
      "metadata": {
        "id": "7Wy1BK3nTNTR"
      }
    },
    {
      "cell_type": "markdown",
      "source": [
        "Estimate the cost of hospitalization for Christopher, Ms. Jayna (her date of birth is 12/28/1988, height is 170 cm, and weight is 85 kgs). She lives in a tier-1 city and her state’s State ID is R1011. She lives with her partner and two children. She was found to be nondiabetic (HbA1c = 5.8). She smokes but is otherwise healthy. She has had no transplants or major surgeries. Her father died of lung cancer. Hospitalization costs will be estimated using tier-1 hospitals."
      ],
      "metadata": {
        "id": "zLltH5KtTQYB"
      }
    },
    {
      "cell_type": "code",
      "source": [
        "# First we need to calculate the age of the person.\n",
        "date = str(19881228)\n",
        "date1 = pd.to_datetime(date, format = \"%Y%m%d\")"
      ],
      "metadata": {
        "id": "hVxxnFNjTL4l"
      },
      "execution_count": 274,
      "outputs": []
    },
    {
      "cell_type": "code",
      "source": [
        "current_date = dt.datetime.now()\n",
        "current_date"
      ],
      "metadata": {
        "colab": {
          "base_uri": "https://localhost:8080/"
        },
        "id": "IevveyBrTTT6",
        "outputId": "3ad0407a-d100-4220-8ac2-4717f0c25e0e"
      },
      "execution_count": 275,
      "outputs": [
        {
          "output_type": "execute_result",
          "data": {
            "text/plain": [
              "datetime.datetime(2023, 3, 13, 4, 59, 1, 815560)"
            ]
          },
          "metadata": {},
          "execution_count": 275
        }
      ]
    },
    {
      "cell_type": "code",
      "source": [
        "age = (current_date - date1)\n",
        "age"
      ],
      "metadata": {
        "colab": {
          "base_uri": "https://localhost:8080/"
        },
        "id": "p546dl3_TUz_",
        "outputId": "e27299bc-8553-4492-84a3-6ac481fba753"
      },
      "execution_count": 276,
      "outputs": [
        {
          "output_type": "execute_result",
          "data": {
            "text/plain": [
              "Timedelta('12493 days 04:59:01.815560')"
            ]
          },
          "metadata": {},
          "execution_count": 276
        }
      ]
    },
    {
      "cell_type": "code",
      "source": [
        "age = int(12421/365)\n",
        "age"
      ],
      "metadata": {
        "colab": {
          "base_uri": "https://localhost:8080/"
        },
        "id": "Hm_-R54DTWxu",
        "outputId": "6111b664-1d90-4535-a451-f48e2692428b"
      },
      "execution_count": 277,
      "outputs": [
        {
          "output_type": "execute_result",
          "data": {
            "text/plain": [
              "34"
            ]
          },
          "metadata": {},
          "execution_count": 277
        }
      ]
    },
    {
      "cell_type": "code",
      "source": [
        "# now with the help of height and weight we will calculate the BMI.\n",
        "height_m = 170/100\n",
        "height_sq = height_m*height_m\n",
        "BMI = 85/height_sq\n",
        "np.round(BMI,2)"
      ],
      "metadata": {
        "colab": {
          "base_uri": "https://localhost:8080/"
        },
        "id": "PNfI1v5FVi_u",
        "outputId": "9112817e-d445-4a0e-90a9-fbcdc5929c7b"
      },
      "execution_count": 278,
      "outputs": [
        {
          "output_type": "execute_result",
          "data": {
            "text/plain": [
              "29.41"
            ]
          },
          "metadata": {},
          "execution_count": 278
        }
      ]
    },
    {
      "cell_type": "code",
      "source": [
        "# Now lets gen\n",
        "list = [[2,1,1,24.41,5.8,0,0,0,0,1,1,0,0,34,0]]"
      ],
      "metadata": {
        "id": "mpIxDjB6VkrI"
      },
      "execution_count": 279,
      "outputs": []
    },
    {
      "cell_type": "code",
      "source": [
        "df = pd.DataFrame(list, columns = ['children', 'Hospital tier', 'City tier', 'BMI', 'HBA1C','Heart Issues', 'Any Transplants', \n",
        "                              'Cancer history','NumberOfMajorSurgeries', 'smoker', 'State_ID_R1011', 'State_ID_R1012',\n",
        "                              'State_ID_R1013', 'age', 'gender'] )\n",
        "df\n"
      ],
      "metadata": {
        "colab": {
          "base_uri": "https://localhost:8080/",
          "height": 162
        },
        "id": "2kSoRNEnVoO2",
        "outputId": "56244f16-fdaf-4900-fa31-8ba72a17c041"
      },
      "execution_count": 280,
      "outputs": [
        {
          "output_type": "execute_result",
          "data": {
            "text/plain": [
              "   children  Hospital tier  City tier    BMI  HBA1C  Heart Issues  \\\n",
              "0         2              1          1  24.41    5.8             0   \n",
              "\n",
              "   Any Transplants  Cancer history  NumberOfMajorSurgeries  smoker  \\\n",
              "0                0               0                       0       1   \n",
              "\n",
              "   State_ID_R1011  State_ID_R1012  State_ID_R1013  age  gender  \n",
              "0               1               0               0   34       0  "
            ],
            "text/html": [
              "\n",
              "  <div id=\"df-a240aa8a-1754-4f2e-af97-1da6cff4b106\">\n",
              "    <div class=\"colab-df-container\">\n",
              "      <div>\n",
              "<style scoped>\n",
              "    .dataframe tbody tr th:only-of-type {\n",
              "        vertical-align: middle;\n",
              "    }\n",
              "\n",
              "    .dataframe tbody tr th {\n",
              "        vertical-align: top;\n",
              "    }\n",
              "\n",
              "    .dataframe thead th {\n",
              "        text-align: right;\n",
              "    }\n",
              "</style>\n",
              "<table border=\"1\" class=\"dataframe\">\n",
              "  <thead>\n",
              "    <tr style=\"text-align: right;\">\n",
              "      <th></th>\n",
              "      <th>children</th>\n",
              "      <th>Hospital tier</th>\n",
              "      <th>City tier</th>\n",
              "      <th>BMI</th>\n",
              "      <th>HBA1C</th>\n",
              "      <th>Heart Issues</th>\n",
              "      <th>Any Transplants</th>\n",
              "      <th>Cancer history</th>\n",
              "      <th>NumberOfMajorSurgeries</th>\n",
              "      <th>smoker</th>\n",
              "      <th>State_ID_R1011</th>\n",
              "      <th>State_ID_R1012</th>\n",
              "      <th>State_ID_R1013</th>\n",
              "      <th>age</th>\n",
              "      <th>gender</th>\n",
              "    </tr>\n",
              "  </thead>\n",
              "  <tbody>\n",
              "    <tr>\n",
              "      <th>0</th>\n",
              "      <td>2</td>\n",
              "      <td>1</td>\n",
              "      <td>1</td>\n",
              "      <td>24.41</td>\n",
              "      <td>5.8</td>\n",
              "      <td>0</td>\n",
              "      <td>0</td>\n",
              "      <td>0</td>\n",
              "      <td>0</td>\n",
              "      <td>1</td>\n",
              "      <td>1</td>\n",
              "      <td>0</td>\n",
              "      <td>0</td>\n",
              "      <td>34</td>\n",
              "      <td>0</td>\n",
              "    </tr>\n",
              "  </tbody>\n",
              "</table>\n",
              "</div>\n",
              "      <button class=\"colab-df-convert\" onclick=\"convertToInteractive('df-a240aa8a-1754-4f2e-af97-1da6cff4b106')\"\n",
              "              title=\"Convert this dataframe to an interactive table.\"\n",
              "              style=\"display:none;\">\n",
              "        \n",
              "  <svg xmlns=\"http://www.w3.org/2000/svg\" height=\"24px\"viewBox=\"0 0 24 24\"\n",
              "       width=\"24px\">\n",
              "    <path d=\"M0 0h24v24H0V0z\" fill=\"none\"/>\n",
              "    <path d=\"M18.56 5.44l.94 2.06.94-2.06 2.06-.94-2.06-.94-.94-2.06-.94 2.06-2.06.94zm-11 1L8.5 8.5l.94-2.06 2.06-.94-2.06-.94L8.5 2.5l-.94 2.06-2.06.94zm10 10l.94 2.06.94-2.06 2.06-.94-2.06-.94-.94-2.06-.94 2.06-2.06.94z\"/><path d=\"M17.41 7.96l-1.37-1.37c-.4-.4-.92-.59-1.43-.59-.52 0-1.04.2-1.43.59L10.3 9.45l-7.72 7.72c-.78.78-.78 2.05 0 2.83L4 21.41c.39.39.9.59 1.41.59.51 0 1.02-.2 1.41-.59l7.78-7.78 2.81-2.81c.8-.78.8-2.07 0-2.86zM5.41 20L4 18.59l7.72-7.72 1.47 1.35L5.41 20z\"/>\n",
              "  </svg>\n",
              "      </button>\n",
              "      \n",
              "  <style>\n",
              "    .colab-df-container {\n",
              "      display:flex;\n",
              "      flex-wrap:wrap;\n",
              "      gap: 12px;\n",
              "    }\n",
              "\n",
              "    .colab-df-convert {\n",
              "      background-color: #E8F0FE;\n",
              "      border: none;\n",
              "      border-radius: 50%;\n",
              "      cursor: pointer;\n",
              "      display: none;\n",
              "      fill: #1967D2;\n",
              "      height: 32px;\n",
              "      padding: 0 0 0 0;\n",
              "      width: 32px;\n",
              "    }\n",
              "\n",
              "    .colab-df-convert:hover {\n",
              "      background-color: #E2EBFA;\n",
              "      box-shadow: 0px 1px 2px rgba(60, 64, 67, 0.3), 0px 1px 3px 1px rgba(60, 64, 67, 0.15);\n",
              "      fill: #174EA6;\n",
              "    }\n",
              "\n",
              "    [theme=dark] .colab-df-convert {\n",
              "      background-color: #3B4455;\n",
              "      fill: #D2E3FC;\n",
              "    }\n",
              "\n",
              "    [theme=dark] .colab-df-convert:hover {\n",
              "      background-color: #434B5C;\n",
              "      box-shadow: 0px 1px 3px 1px rgba(0, 0, 0, 0.15);\n",
              "      filter: drop-shadow(0px 1px 2px rgba(0, 0, 0, 0.3));\n",
              "      fill: #FFFFFF;\n",
              "    }\n",
              "  </style>\n",
              "\n",
              "      <script>\n",
              "        const buttonEl =\n",
              "          document.querySelector('#df-a240aa8a-1754-4f2e-af97-1da6cff4b106 button.colab-df-convert');\n",
              "        buttonEl.style.display =\n",
              "          google.colab.kernel.accessAllowed ? 'block' : 'none';\n",
              "\n",
              "        async function convertToInteractive(key) {\n",
              "          const element = document.querySelector('#df-a240aa8a-1754-4f2e-af97-1da6cff4b106');\n",
              "          const dataTable =\n",
              "            await google.colab.kernel.invokeFunction('convertToInteractive',\n",
              "                                                     [key], {});\n",
              "          if (!dataTable) return;\n",
              "\n",
              "          const docLinkHtml = 'Like what you see? Visit the ' +\n",
              "            '<a target=\"_blank\" href=https://colab.research.google.com/notebooks/data_table.ipynb>data table notebook</a>'\n",
              "            + ' to learn more about interactive tables.';\n",
              "          element.innerHTML = '';\n",
              "          dataTable['output_type'] = 'display_data';\n",
              "          await google.colab.output.renderOutput(dataTable, element);\n",
              "          const docLink = document.createElement('div');\n",
              "          docLink.innerHTML = docLinkHtml;\n",
              "          element.appendChild(docLink);\n",
              "        }\n",
              "      </script>\n",
              "    </div>\n",
              "  </div>\n",
              "  "
            ]
          },
          "metadata": {},
          "execution_count": 280
        }
      ]
    },
    {
      "cell_type": "markdown",
      "source": [
        "#5. Find the predicted hospitalization cost using all models. The predicted value should be the mean of the five models' predicted values."
      ],
      "metadata": {
        "id": "2FlHIeTOVsiF"
      }
    },
    {
      "cell_type": "code",
      "source": [
        "Hospital_cost = []\n"
      ],
      "metadata": {
        "id": "Yr2La-LPVp9I"
      },
      "execution_count": 281,
      "outputs": []
    },
    {
      "cell_type": "code",
      "source": [
        "# Now lets predict the hospitalization cost through SGDRegressor\n",
        "Cost1 = sgd.predict(df)\n",
        "Hospital_cost.append(Cost1)"
      ],
      "metadata": {
        "id": "BHi1bQAWVunl"
      },
      "execution_count": 282,
      "outputs": []
    },
    {
      "cell_type": "code",
      "source": [
        "# Now lets predict the hospitalization cost through Random Forest\n",
        "Cost2 = rf.predict(df)\n",
        "Hospital_cost.append(Cost2)"
      ],
      "metadata": {
        "id": "bEh3VG9MVwd5"
      },
      "execution_count": 283,
      "outputs": []
    },
    {
      "cell_type": "code",
      "source": [
        "# Now lets predict the hospitalization cost throug Extreme gradient Booster\n",
        "Cost3 = gbr.predict(df)\n",
        "Hospital_cost.append(Cost3)"
      ],
      "metadata": {
        "id": "KJxgcrr0Vx9h"
      },
      "execution_count": 284,
      "outputs": []
    },
    {
      "cell_type": "code",
      "source": [
        "avg_cost = np.mean(Hospital_cost)\n",
        "avg_cost"
      ],
      "metadata": {
        "colab": {
          "base_uri": "https://localhost:8080/"
        },
        "id": "uXej6q4qVzsH",
        "outputId": "d61d794e-d6b4-46ec-e378-27b85b29574d"
      },
      "execution_count": 285,
      "outputs": [
        {
          "output_type": "execute_result",
          "data": {
            "text/plain": [
              "104369.11978100664"
            ]
          },
          "metadata": {},
          "execution_count": 285
        }
      ]
    },
    {
      "cell_type": "markdown",
      "source": [
        "#So in the new case the avg predicted hospitalization cost is 104369.11"
      ],
      "metadata": {
        "id": "cUaeUUjCV4th"
      }
    }
  ]
}